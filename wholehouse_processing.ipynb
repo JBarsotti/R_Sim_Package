{
 "cells": [
  {
   "cell_type": "code",
   "execution_count": 52,
   "metadata": {},
   "outputs": [
    {
     "name": "stdout",
     "output_type": "stream",
     "text": [
      "Requirement already satisfied: plotly in c:\\users\\john\\anaconda3\\lib\\site-packages (4.14.1)\n",
      "Requirement already satisfied: six in c:\\users\\john\\anaconda3\\lib\\site-packages (from plotly) (1.15.0)\n",
      "Requirement already satisfied: retrying>=1.3.3 in c:\\users\\john\\anaconda3\\lib\\site-packages (from plotly) (1.3.3)\n",
      "Note: you may need to restart the kernel to use updated packages.\n"
     ]
    },
    {
     "data": {
      "text/plain": [
       "'%.3f'"
      ]
     },
     "execution_count": 52,
     "metadata": {},
     "output_type": "execute_result"
    }
   ],
   "source": [
    "%matplotlib notebook\n",
    "%pip install plotly\n",
    "%precision %.3f"
   ]
  },
  {
   "cell_type": "code",
   "execution_count": 1,
   "metadata": {},
   "outputs": [],
   "source": [
    "# Import Python packages needed for use in this script\n",
    "import os\n",
    "import glob\n",
    "import pandas as pd\n",
    "import numpy as np\n",
    "import plotly\n",
    "import matplotlib.pyplot as plt\n",
    "import warnings\n",
    "from matplotlib import colors as mcolors\n",
    "from IPython.display import display, Markdown, Latex\n",
    "from matplotlib import cm\n",
    "from matplotlib.ticker import LinearLocator, FormatStrFormatter\n",
    "from mpl_toolkits.mplot3d import Axes3D\n",
    "import plotly.graph_objects as go\n",
    "from scipy import interpolate\n",
    "from plotly.subplots import make_subplots\n",
    "import matplotlib.image as mpimg\n",
    "from PIL import Image\n",
    "import statistics as stats"
   ]
  },
  {
   "cell_type": "code",
   "execution_count": 2,
   "metadata": {},
   "outputs": [],
   "source": [
    "# Ignore all warnings\n",
    "warnings.filterwarnings('ignore')"
   ]
  },
  {
   "cell_type": "code",
   "execution_count": 34,
   "metadata": {},
   "outputs": [],
   "source": [
    "# Set unlimited display for number of columns and width, but hold the number of rows to 25\n",
    "pd.options.display.max_columns = None\n",
    "pd.options.display.width       = None\n",
    "pd.set_option('display.max_rows', 10)\n",
    "pd.set_option(\"display.precision\", 4)"
   ]
  },
  {
   "cell_type": "code",
   "execution_count": 13,
   "metadata": {},
   "outputs": [],
   "source": [
    "def data_reader(filename = \"D:/Wholehouse_Simulations/output.csv\"):\n",
    "\n",
    "    # Read csv into pandas dataframe\n",
    "    df          = pd.read_csv(filename, low_memory=False)\n",
    "    \n",
    "    # Print the number of rows in the dataframe, corresponding to the number of times the Wholehouse Simulation ran\n",
    "    index       = df.index\n",
    "    num_rows    = len(index)\n",
    "    print(\"The number of rows in df is:\", num_rows)\n",
    "\n",
    "    # Find out the numer of models and replicates per simulation\n",
    "    columns     = df.columns\n",
    "    models      = int(df[[\"i\"]].max() + 1)\n",
    "    replicates  = int(df[[\" j\"]].max() + 1)\n",
    "    print(\"The number of models per simulation is\", models, \"and the number of replicates is\", replicates, \".\")\n",
    "\n",
    "    # Formatting\n",
    "    df.columns = df.columns.str.replace(' ', '')\n",
    "    df = df.astype(\"float\")\n",
    "    \n",
    "   # for i in df.columns:\n",
    "   #     if \"%\" in i:\n",
    "   #         df[i] = df[i].multiply(100)\n",
    "   #         \n",
    "    df = df.round(decimals = 5)\n",
    "            \n",
    "    return df"
   ]
  },
  {
   "cell_type": "code",
   "execution_count": 3,
   "metadata": {},
   "outputs": [],
   "source": [
    "def input_help():\n",
    "\n",
    "    display(Markdown('## Dataframe Input Variable List ## \\n'))\n",
    "    display(Markdown('## =================================================== ## \\n'))\n",
    "    display(Markdown('**B** = *Initial Number Infected*  \\n  **Z** = *Edge Persistence*  \\n  **D** = *Patient Discharge Odds*'))\n",
    "    display(Markdown('**Y** = *Asymptomatic Rate*  \\n  **YY** = *Asymptomatic Attenuation*  \\n  **A** = *Alpha Parameter*'))\n",
    "    display(Markdown('**X** = *Disease Model*  \\n  **E** = *Vaccination Effectiveness*  \\n  **S** = *Susceptibility*'))\n",
    "    display(Markdown('**I** = *Infectivity*  \\n  **W** = *Disease Incubation Period (in Days)*  \\n  **T** = *Disease Infection Period (in Days)*'))\n",
    "    display(Markdown('**VB** = *HCW Vaccination Budget*,  \\n  **UB** = *Patient Vacination Budget*  \\n  **V** = *Vaccination Rate of Patients*'))\n",
    "    display(Markdown('**VO** = *Vaccination Order*  \\n  **VX** = *Vaccination Order Reversal Flag*  \\n  **P** = *PPE Effectiveness*'))\n",
    "    display(Markdown('**VC** = *Voluntary Isolation Parameter*  \\n  **VS** = *Voluntary Isolation Start Period (in Days)*  \\n  **VT** = *Voluntary Isolation Term (in Days)*'))\n",
    "    display(Markdown('**Q1** = *Pre-work Test Effectiveness*  \\n  **Q2** = *Post-work Test Effectiveness*  \\n  **QS** = *Quarantine Start Period (in Days)*'))\n",
    "    display(Markdown('**QT** = *Quarantine Time Period (in Days)*  \\n  **MPC** = *Multiplex Cohort Size*  \\n  **MPT** = *Multiplex Threshhold*  \\n  **GPL** = *Ground Patient Lag Time (in Weeks)*'))"
   ]
  },
  {
   "cell_type": "code",
   "execution_count": 4,
   "metadata": {},
   "outputs": [],
   "source": [
    "def output_help():\n",
    "    \n",
    "    display(Markdown('## Dataframe Output Variable List ## \\n'))\n",
    "    display(Markdown('## =================================================== ## \\n'))\n",
    "    display(Markdown('**i** = *Model Number*  \\n  **j** = *Replicate Number*  \\n **hcw** = *Number of HCWs at Beginning of Model*'))\n",
    "    display(Markdown('**pat** = *Number of Patients at Beginning of Model*  \\n  **#rounds** = *Number of Iterations in Model*  \\n **#totpat** = *Total Number of Patients*'))\n",
    "    display(Markdown('**#tothcw** = *Total Number of HCWs*  \\n  **#vacpat** = *Number of Vaccinated Patients*  \\n **#vachcw** = *Number of Vaccinated HCWs*'))\n",
    "    display(Markdown('**#infpat** = *Number of Infected Patients*  \\n  **#infhcw** = *Number of Infected HCWs*  \\n **#hcwpat** = *Number of Transmissions from HCWs to patients*'))\n",
    "    display(Markdown('**#pathcw** = *Number of Transmissions from Patients to HCWs*  \\n  **#hcwhcw** = *Number of Transmissions from HCW to HCW*  \\n **#sickdays** = *Number of Sick Days Taken*'))\n",
    "    display(Markdown('**#avglos** = *Average Length of Stay*  \\n  **R0** = *Disease Transmission Rate*  \\n **%pat** = *Percentage of Patients Infected*'))\n",
    "    display(Markdown('**%hcw** = *Percentage of HCWs Infected*  \\n  **%total** = *Percentage of Total Agents Infected*  \\n  **MPS** = *Multiplexing Threshhold*'))\n",
    "    display(Markdown('**npat0** = *Number of Initially Infected Patients*  \\n  **nhcw0** = *Number of Initially Infected HCWs*  \\n  **new_infected** = *Number of Infected Patients Entering Simulation AFTER Day 0*'))\n",
    "    display(Markdown('**secondary_infect** = *Number of Secondary Infections*  \\n  **first_test** = *Number of Infected HCWs Caught First Test After Incubation Period*  \\n  **first_day** = *Number of Infected HCWs Caught on First Day After Incubation Period*'))\n",
    "    display(Markdown('**sum_days_sym** = *Sum of Days Symptomatic HCWs Spend in Simulation*  \\n  **hcw_infected** = *Number of HCWs Infected by Other HCWs Who Have Passed the Incubation Period*  \\n  **pat_infected** = *Number of Patients Infected by Other HCWs Who Have Passed the Incubation Period*'))\n",
    "    display(Markdown('**%first_test** = *Percentage of HCWs Caught on First Test Compared to All HCWs Who Made the First Day*  \\n  **%first_day** = *Percentage of HCWs Caught on First Day Compared to All HCWs Who Made the First Day*  \\n  **sum_days_all** = *Total Number of Days Spent by All HCWs in Simulation*  \\n  **%infectivity** = *Percentage of Total Infectivity of HCWs That Was Caught*'))"
   ]
  },
  {
   "cell_type": "code",
   "execution_count": 5,
   "metadata": {},
   "outputs": [],
   "source": [
    "def rep_means(df):\n",
    "    \n",
    "    index      = df.index\n",
    "    num_rows   = len(index)\n",
    "\n",
    "    columns    = df.columns\n",
    "    replicates = int(df[[\"j\"]].max() + 1)\n",
    "\n",
    "    N          = replicates*np.ones(int(len(index)/(replicates)))\n",
    "    df2        = pd.DataFrame(N, columns = [\"N\"])\n",
    "    #models     = list(set(df[\"i\"]))\n",
    "\n",
    "    for i in range(2, len(columns)):\n",
    "\n",
    "            total           = df[columns[i]].tolist()\n",
    "            chunks          = [total[x:x+replicates] for x in range(0, len(total), replicates)]\n",
    "            chunks          = np.array(chunks)\n",
    "            chunks          = chunks.astype(\"float\")   \n",
    "            avgs            = np.mean(chunks, axis = 1)\n",
    "\n",
    "            df2[columns[i]] = avgs \n",
    "    \n",
    "    models = np.linspace(0, len(df2)-1, len(df2))\n",
    "    df2.insert(0, \"#Model\", models)\n",
    "    \n",
    "    df2 = df2.round(decimals = 4)\n",
    "            \n",
    "    return df2"
   ]
  },
  {
   "cell_type": "code",
   "execution_count": 6,
   "metadata": {},
   "outputs": [],
   "source": [
    "def sim_means(df):\n",
    "\n",
    "    columns    = df.columns\n",
    "    index      = df.index\n",
    "    models     = int(df[[\"i\"]].max() + 1)\n",
    "    replicates = int(df[[\"j\"]].max() + 1)\n",
    "    #print(\"The number of models per simulation in df is\", models, \"and the number of replicates is\", replicates, \".\")\n",
    "\n",
    "    N          = models*replicates*np.ones(int(len(index)/(models*replicates)))\n",
    "    df2        = pd.DataFrame(N, columns = [\"N\"])\n",
    "\n",
    "    for i in range(2, len(columns)):\n",
    "\n",
    "            total           = df[columns[i]].tolist()\n",
    "            chunks          = [total[x:x+models*replicates] for x in range(0, len(total), models*replicates)]\n",
    "            chunks          = np.array(chunks)\n",
    "            chunks          = chunks.astype(\"float\")\n",
    "            avgs            = np.mean(chunks, axis = 1)\n",
    "\n",
    "            df2[columns[i]] = avgs \n",
    "            df2.columns     = df2.columns.str.replace(' ', '')\n",
    "            df2             = df2.round(decimals = 4)\n",
    "                \n",
    "    return df2"
   ]
  },
  {
   "cell_type": "code",
   "execution_count": 14,
   "metadata": {},
   "outputs": [],
   "source": [
    "def input_dict(filename = 'D:/Wholehouse_Simulations/trace.csv'):\n",
    "    \n",
    "    # Read the file trace.csv into a Pandas dataframe\n",
    "    df = pd.read_csv(filename)\n",
    "    # df = df.round(decimals = 4)\n",
    "    df.columns = df.columns.str.lstrip()\n",
    "    \n",
    "    # Create a dictionary of parameters\n",
    "    inputs = {}\n",
    "    for column in df:\n",
    "        \n",
    "        x = list(df[column])\n",
    "        inputs[column] = list(sorted(set(x), key=x.index))\n",
    "\n",
    "        \n",
    "    # The actual value of D is 1/D since it is the odds of patient discharge per period of the simulation\n",
    "    for i in range(len(inputs[\"D\"])):\n",
    "        if inputs[\"D\"][i] == 0:\n",
    "            pass\n",
    "        else:\n",
    "            inputs[\"D\"][i] = round(1/inputs[\"D\"][i] ,2)\n",
    "                        \n",
    "    return inputs"
   ]
  },
  {
   "cell_type": "code",
   "execution_count": 16,
   "metadata": {},
   "outputs": [],
   "source": [
    "def hist_plot(vals, param, key, num_bins, pdf):\n",
    "    \n",
    "    if (len(pdf) >= 8):\n",
    "        print(\"Error: Too many pdf inputs to handle while plotting!\")\n",
    "        return\n",
    "    \n",
    "    #color_dict = dict(mcolors.BASE_COLORS, **mcolors.CSS4_COLORS)\n",
    "    #colors = list(color_dict.keys())\n",
    "    colors = [\"r\", \"g\", \"b\", \"k\", \"c\", \"m\", \"y\", \"w\"]\n",
    "    legend_vals = []\n",
    "    \n",
    "    fig = plt.figure(figsize = (12, 12))\n",
    "    #plt.yscale('log')\n",
    "    \n",
    "    # The histogram of the data\n",
    "    n, bins, patches = plt.hist(vals, bins = num_bins, normed = 1, facecolor = \"gray\", edgecolor = \"black\", linewidth=1.2, alpha=0.75)\n",
    "    \n",
    "    # KDE estimate\n",
    "    gkde   = stats.gaussian_kde(vals)\n",
    "    kdepdf = gkde.evaluate(bins)\n",
    "    plt.plot(bins, kdepdf, colors[0] + \"--\", linewidth = 3)\n",
    "    legend_vals.append(\"kde\")\n",
    "\n",
    "    for i in range(len(pdf)):\n",
    "    \n",
    "        # Get the fitted parameters used by sns\n",
    "        if pdf[i] == stats.norm:\n",
    "            (loc, scale) = stats.norm.fit(vals)\n",
    "            prob         = \"normal dist.\"\n",
    "            y            = stats.norm.pdf(bins, loc, scale)\n",
    "        elif pdf[i] == stats.expon:\n",
    "            (loc, scale) = stats.expon.fit(vals)\n",
    "            prob         = \"expon dist.\"\n",
    "            y            = stats.expon.pdf(bins, loc, scale)\n",
    "        elif pdf[i] == stats.beta:\n",
    "            (alpha, beta, loc, scale) = stats.beta.fit(vals)\n",
    "            prob                      = \"beta dist.\"\n",
    "            y                         = stats.beta.pdf(bins, alpha, beta, loc, scale)\n",
    "        elif pdf[i] == stats.skewnorm:\n",
    "            (a, loc, scale) = stats.skewnorm.fit(vals)\n",
    "            prob            = \"skewnorm dist.\"\n",
    "            y               = stats.skewnorm.pdf(bins, a, loc, scale)\n",
    "        elif pdf[i] == stats.powernorm:\n",
    "            (c, loc, scale) = stats.powernorm.fit(vals)\n",
    "            prob            = \"powernorm dist.\"\n",
    "            y               = stats.powernorm.pdf(bins, c, loc, scale)\n",
    "        elif pdf[i] == stats.t:\n",
    "            (tdof, loc, scale) = stats.t.fit(vals)\n",
    "            prob               = \"t dist.\"\n",
    "            y                  = stats.t.pdf(bins, tdof, loc, scale)\n",
    "        elif pdf[i] == stats.lognorm:\n",
    "            (s, loc, scale) = stats.lognorm.fit(vals)\n",
    "            prob            = \"lognorm dist.\"\n",
    "            y               = stats.lognorm.pdf(bins, s, loc, scale)\n",
    "        elif pdf[i] == stats.exponweib:\n",
    "            (a, b, loc, scale) = stats.exponweib.fit(vals, floc = 0)\n",
    "            prob            = \"exponweib dist.\"\n",
    "            y               = stats.exponweib.pdf(bins, a, b, loc, scale) \n",
    "        elif pdf[i] == stats.weibull_min:\n",
    "            (c, loc, scale) = stats.weibull_min.fit(vals, floc = 0)\n",
    "            prob            = \"weibull_min dist.\"\n",
    "            y               = stats.weibull_min.pdf(bins, c, loc, scale)\n",
    "        elif pdf[i] == stats.weibull_max:\n",
    "            (c, loc, scale) = stats.weibull_max.fit(vals, floc = 0)\n",
    "            prob            = \"weibull_max dist.\"\n",
    "            y               = stats.weibull_max.pdf(bins, c, loc, scale)   \n",
    "        else: \n",
    "            pass\n",
    "\n",
    "        print(prob + \": loc={0}, scale={1}\\n\".format(round(loc, 3), round(scale, 3)))\n",
    "\n",
    "        # Add a best fit line\n",
    "        l = plt.plot(bins, y, colors[i+1] + \"--\", linewidth = 3)\n",
    "        legend_vals.append(prob)\n",
    "        \n",
    "    # Plot labels\n",
    "    plt.title(\"Histogram of Attack Values (\" + key + \" = \" + str(param) + \")\", fontsize = 18)\n",
    "    plt.legend(legend_vals, fontsize = 13)\n",
    "    #plt.xlabel(r\"$\\log{(\\%Total)}$\", fontsize = 16)\n",
    "    plt.xlabel(r\"%Total Infected\", fontsize = 16)\n",
    "    plt.ylabel(\"Frequency\", fontsize = 16)\n",
    "    plt.grid()\n",
    "    plt.show()\n",
    "    \n",
    "    return fig"
   ]
  },
  {
   "cell_type": "code",
   "execution_count": 17,
   "metadata": {},
   "outputs": [],
   "source": [
    "def statistics(df, param, key, ylabel):\n",
    "\n",
    "    percent_propagation = [0 for j in range(len(param))]\n",
    "    mean_attack_rate    = [0 for j in range(len(param))]\n",
    "    std_attack_rate     = [0 for j in range(len(param))]\n",
    "    median_attack_rate  = [0 for j in range(len(param))]\n",
    "    mode_attack_rate    = [0 for j in range(len(param))]\n",
    "    mean_R0             = [0 for j in range(len(param))]\n",
    "    \n",
    "    for i in range(len(param)):\n",
    "            \n",
    "        percent_propagation[i] = len(df[(df[key] == param[i]) & (df[\"R0\"] != 0.00)]) / len(df[df[key] == param[i]])\n",
    "        mean_attack_rate[i]    = np.mean(df[df[key] == param[i]][ylabel])\n",
    "        std_attack_rate[i]     = np.std(df[df[key] == param[i]][ylabel])\n",
    "        median_attack_rate[i]  = np.median(df[df[key] == param[i]][ylabel])\n",
    "        mean_R0[i]             = np.mean(df[df[key] == param[i]][\"R0\"])\n",
    "        #mode_attack_rate[i]    = stats.mode(df[df[key] == param[i]][ylabel])\n",
    "    \n",
    "    df                  = pd.DataFrame(np.round(percent_propagation, 4), columns = [\"%Prop\"])\n",
    "    df[\"Mean_Attack\"]   = np.round(mean_attack_rate, 4)\n",
    "    df[\"Std_Attack\"]    = np.round(std_attack_rate, 4)\n",
    "    df[\"Median_Attack\"] = np.round(median_attack_rate, 4)\n",
    "    df[\"Mean_R0\"]       = np.round(mean_R0, 4)\n",
    "    #df[\"Mode_Attack\"]   = np.round(mode_attack_rate, 4)\n",
    "    \n",
    "    string = key + \" = \"\n",
    "    string += \"{0}\"\n",
    "    descriptors = [string.format(i) for i in param]\n",
    "    df.insert(0, 'Descriptor', descriptors)\n",
    "    \n",
    "    return df"
   ]
  },
  {
   "cell_type": "code",
   "execution_count": 19,
   "metadata": {},
   "outputs": [],
   "source": [
    "def data_parsing(df, sim_dict):\n",
    "\n",
    "    columns = df.columns\n",
    "    df_new  = df\n",
    "\n",
    "    for k, v in sim_dict.items():\n",
    "\n",
    "        if k in columns: \n",
    "            df_new = df_new[df_new[k].isin(v)]                           \n",
    "        else:\n",
    "            pass\n",
    "        \n",
    "    df_new.reset_index(drop=True, inplace=True)\n",
    "    return df_new"
   ]
  },
  {
   "cell_type": "code",
   "execution_count": 20,
   "metadata": {},
   "outputs": [],
   "source": [
    "def results(df, key, ylabel, inputs):\n",
    "\n",
    "    vals = []\n",
    "\n",
    "    for i in range(len(inputs)):\n",
    "\n",
    "        plottable_vals = list(df[df[key] == inputs[i]][ylabel])\n",
    "\n",
    "        if len(vals) == 0:\n",
    "            vals = plottable_vals\n",
    "        elif type(vals[0]) == float:\n",
    "            vals = [vals, plottable_vals]\n",
    "        else:\n",
    "            vals.append(plottable_vals)\n",
    "\n",
    "    if len(inputs) == 1:\n",
    "        vals = [vals]\n",
    "        \n",
    "    vals = np.array(vals)\n",
    "    print(\"The number of vectors in vals is\", len(vals), \".\")\n",
    "\n",
    "    x = list(df[key])\n",
    "    param = list(sorted(set(x), key=x.index))\n",
    "\n",
    "    return vals, param"
   ]
  },
  {
   "cell_type": "code",
   "execution_count": 22,
   "metadata": {},
   "outputs": [],
   "source": [
    "def Fancy_Plot(xlabel, ylabel, zlabel, two_dose_efficacy, filename, df):\n",
    "\n",
    "    VB  = [0.0, 0.05, 0.1, 0.15, 0.2, 0.25, 0.3, 0.35, 0.4, 0.45, 0.5]      \n",
    "    E   = [two_dose_efficacy]       \n",
    "\n",
    "    sim_dict = {\"E\": E, \"VB\": VB}\n",
    "\n",
    "    df_two_dose_sim_means = data_parsing(df, sim_dict)\n",
    "\n",
    "    x         = list(df[xlabel])\n",
    "    xvals_one = np.array(sorted(set(x), key=x.index))\n",
    "    y         = list(df[ylabel])\n",
    "    yvals_one = np.array(sorted(set(y), key=y.index))\n",
    "    zvals_one = np.zeros((len(xvals_one), len(yvals_one)))\n",
    "\n",
    "    xvals_two = np.ones(len(xvals_one)) * two_dose_efficacy\n",
    "    yvals_two = np.array(df_two_dose_sim_means[ylabel])\n",
    "    zvals_two = np.zeros((len(xvals_two), len(yvals_two)))\n",
    "\n",
    "    for i in range(len(xvals_one)):\n",
    "\n",
    "        for j in range(len(yvals_one)):\n",
    "\n",
    "            zvals_one[i, j] = df[(df[xlabel] == xvals_one[i]) & (df[ylabel] == yvals_one[j])][zlabel]\n",
    "\n",
    "\n",
    "    for i in range(len(yvals_two)):\n",
    "\n",
    "        zvals_two[:,i] =  df_two_dose_sim_means[(df_two_dose_sim_means[xlabel] == two_dose_efficacy) & \n",
    "                                                   (df_two_dose_sim_means[ylabel] == yvals_two[i])][zlabel]\n",
    "\n",
    "    yvals_two = np.array(df_two_dose_sim_means[ylabel]) * 2\n",
    "    xvals_two = xvals_one\n",
    "\n",
    "    #zvals_one = np.transpose(zvals_one)\n",
    "    zvals_two = np.transpose(zvals_two)\n",
    "    data = [go.Surface(z=zvals_one, showscale=True, x=xvals_one, y=yvals_one, colorscale='inferno'),\n",
    "           go.Surface(z=zvals_two, x=xvals_two, y=yvals_two, colorscale='blugrn')]     \n",
    "\n",
    "    layout = go.Layout( scene_camera_eye=dict(x=1.87, y=0.88, z=0.64),\n",
    "    autosize=True,\n",
    "    width=600,\n",
    "    scene=dict({\"xaxis\":{\"title\":\"Efficacy\"},\n",
    "                 \"yaxis\":{\"title\":\"Vaccination Budget\"},\n",
    "                 \"zaxis\":{\"title\":\"Attack Rate\"}}),\n",
    "    height=600,\n",
    "    margin=dict(\n",
    "        l=80,\n",
    "        r=50,\n",
    "        b=65,\n",
    "        t=90\n",
    "       )\n",
    "    )\n",
    "        \n",
    "    fig = go.Figure(data=data, layout=layout)\n",
    "        \n",
    "    fig.update_layout(title_text='Vaccination Simulations (B = 0, %C = 1.0)', title_x=0.5)\n",
    "    #fig.update_traces(contours_z=dict(show=True, usecolormap=True,\n",
    "    #                                  project_z=True))\n",
    "    \n",
    "    fig.update_layout(\n",
    "        scene = {\n",
    "            \"xaxis\": {\"nticks\": 10},\n",
    "            \"zaxis\": {\"nticks\": 10},\n",
    "            'camera_eye': {\"x\": 2.0, \"y\": 0.88, \"z\": 0.64},\n",
    "            \"aspectratio\": {\"x\": 0.7, \"y\": 0.7, \"z\": 1.0}\n",
    "    })\n",
    "    \n",
    "    fig.update_traces(showscale=False)\n",
    "        \n",
    "    #fig.update_layout(\n",
    "    #scene = dict(\n",
    "    #    xaxis = dict(nticks=4, range=[0,1],),\n",
    "    #                 yaxis = dict(nticks=4, range=[0,1],),\n",
    "    #                 zaxis = dict(nticks=6, range=[0,0.25],),),\n",
    "    #height=700)  \n",
    "    \n",
    "    fig.show()\n",
    "    plotly.io.write_image(fig, filename, engine=\"orca\")"
   ]
  },
  {
   "cell_type": "code",
   "execution_count": 23,
   "metadata": {},
   "outputs": [],
   "source": [
    "def Net_Payoff(xlabel, ylabel, zlabel, two_dose_efficacy, filename, df):\n",
    "    \n",
    "    VB  = [0.0, 0.05, 0.1, 0.15, 0.2, 0.25, 0.3, 0.35, 0.4, 0.45, 0.5]      \n",
    "    E   = [two_dose_efficacy]       \n",
    " \n",
    "    sim_dict = {\"E\": E, \"VB\": VB}\n",
    "\n",
    "    df_two_dose_sim_means = data_parsing(df, sim_dict)\n",
    "\n",
    "    x         = list(df[xlabel])\n",
    "    xvals_one = np.array(sorted(set(x), key=x.index))\n",
    "    y         = list(df[ylabel])\n",
    "    yvals_one = np.array(sorted(set(y), key=y.index))\n",
    "    zvals_one = np.zeros((len(xvals_one), len(yvals_one)))\n",
    "\n",
    "    xvals_two = np.ones(len(xvals_one)) * two_dose_efficacy\n",
    "    yvals_two = np.array(df_two_dose_sim_means[ylabel])\n",
    "    zvals_two = np.zeros((len(xvals_two), len(yvals_two)))\n",
    "\n",
    "    mat_one = np.zeros((len(xvals_two), len(yvals_two)))\n",
    "\n",
    "    for i in range(zvals_two.shape[0]):\n",
    "        for j in range(zvals_two.shape[1]):\n",
    "            mat_one[i, j] = df[(df[xlabel] == xvals_one[i]) & \n",
    "                                         (df[ylabel] == yvals_two[j]*2)][zlabel]\n",
    "\n",
    "    for i in range(len(yvals_two)):\n",
    "\n",
    "        zvals_two[:,i] =  df_two_dose_sim_means[(df_two_dose_sim_means[xlabel] == two_dose_efficacy) & \n",
    "                                                   (df_two_dose_sim_means[ylabel] == yvals_two[i])][zlabel]\n",
    "\n",
    "    payoff_mat = np.transpose(zvals_two - mat_one)\n",
    "    zero_plane=np.zeros((len(yvals_two), len(xvals_two)))\n",
    "    xvals_two = xvals_one\n",
    "    yvals_two = yvals_two*2\n",
    "\n",
    "    data = [go.Surface(z=payoff_mat, showscale=True, x=xvals_two, y=yvals_two), go.Surface(z=zero_plane, showscale=False, x=xvals_two, y=yvals_two)]     \n",
    "\n",
    "    layout = go.Layout( scene_camera_eye=dict(x=1.87, y=0.88, z=-0.64),\n",
    "    autosize=True,\n",
    "    width=600,\n",
    "    height=600,\n",
    "    margin=dict(\n",
    "        l=80,\n",
    "        r=50,\n",
    "        b=65,\n",
    "        t=90\n",
    "       ),\n",
    "    scene = {\"yaxis\":{\"title\":\"Vaccination Budget\"}, \"xaxis\":{\"title\":\"Efficacy\"},\n",
    "                 \"zaxis\":{\"title\":\"Net Payoff\"}}\n",
    "    )\n",
    "\n",
    "    fig = go.Figure(data=data, layout=layout)\n",
    "    fig.update_layout(title_text='Vaccination Simulations Net Payoff (B = 0, %C = 1.0)', title_x=0.5)\n",
    "    fig.update_traces(contours_z=dict(show=True, usecolormap=True,\n",
    "                                      highlightcolor=\"limegreen\", project_z=True))\n",
    "    \n",
    "    fig.update_layout(\n",
    "        scene = {\n",
    "            \"xaxis\": {\"nticks\": 10},\n",
    "            \"zaxis\": {\"nticks\": 10},\n",
    "            'camera_eye': {\"x\": 2.0, \"y\": 0.88, \"z\": 0.64},\n",
    "            \"aspectratio\": {\"x\": 0.7, \"y\": 0.7, \"z\": 1.0}\n",
    "    })\n",
    "\n",
    "    fig.show()\n",
    "    plotly.io.write_image(fig, filename, engine=\"orca\")"
   ]
  },
  {
   "cell_type": "code",
   "execution_count": 24,
   "metadata": {},
   "outputs": [],
   "source": [
    "# Computing percent of outbreaks for different initial conditions\n",
    "def outbreak(xvals, yvals, xlabel, ylabel, filename):\n",
    "    \n",
    "    one_case   = np.zeros((len(xvals), len(yvals)))\n",
    "    two_case   = np.zeros((len(xvals), len(yvals)))\n",
    "    three_case = np.zeros((len(xvals), len(yvals)))\n",
    "    four_case  = np.zeros((len(xvals), len(yvals)))\n",
    "    five_case  = np.zeros((len(xvals), len(yvals)))\n",
    "\n",
    "\n",
    "    for i in range(len(xvals)):\n",
    "        for j in range(len(yvals)):\n",
    "\n",
    "            sim_dict_new = {xlabel: [xvals[i]], ylabel: [yvals[j]]}\n",
    "            df           = data_parsing(df_new, sim_dict_new)\n",
    "            denominator  = len(df[\"secondary_infect\"])\n",
    "\n",
    "            one_case[i, j]   = len(df[df[\"secondary_infect\"] > 0]) / denominator\n",
    "            two_case[i, j]   = len(df[df[\"secondary_infect\"] > 5]) / denominator\n",
    "            three_case[i, j] = len(df[df[\"secondary_infect\"] > 10]) / denominator\n",
    "            four_case[i, j]  = len(df[df[\"secondary_infect\"] > 15]) / denominator\n",
    "            \n",
    "    x     = list(df_new[xlabel])\n",
    "    xvals = np.array(sorted(set(x), key=x.index))\n",
    "    y     = list(df_new[ylabel])\n",
    "    yvals = np.array(sorted(set(y), key=y.index))\n",
    "\n",
    "    subplot_titles = [\"Secondary >0\", \"Secondary >5\", \"Secondary >10\", \"Secondary >15\"]\n",
    "    xaxis_title = xlabel\n",
    "    yaxis_title = ylabel\n",
    "    zaxis_title = \"Outbreak\"\n",
    "    rows = 2\n",
    "    cols = 2\n",
    "    height = 600 * rows\n",
    "    width = 600 * cols\n",
    "\n",
    "    fig = make_subplots(rows=rows, cols=cols,\n",
    "                        shared_xaxes=False,\n",
    "                        subplot_titles=subplot_titles,\n",
    "                        specs=[[{\"type\": \"surface\"}, {\"type\": \"surface\"}],\n",
    "                               [{\"type\": \"surface\"}, {\"type\": \"surface\"}]])\n",
    "\n",
    "    fig.update_layout(scene1 = dict(\n",
    "                        xaxis_title=xaxis_title,\n",
    "                        yaxis_title=yaxis_title,\n",
    "                        zaxis_title=zaxis_title),\n",
    "\n",
    "                        scene2 = dict(\n",
    "                        xaxis_title=xaxis_title,\n",
    "                        yaxis_title=yaxis_title,\n",
    "                        zaxis_title=zaxis_title),\n",
    "\n",
    "                        scene3 = dict(\n",
    "                        xaxis_title=xaxis_title,\n",
    "                        yaxis_title=yaxis_title,\n",
    "                        zaxis_title=zaxis_title),\n",
    "\n",
    "                        scene4 = dict(\n",
    "                        xaxis_title=xaxis_title,\n",
    "                        yaxis_title=yaxis_title,\n",
    "                        zaxis_title=zaxis_title))\n",
    "\n",
    "    fig.add_trace(\n",
    "        go.Surface(x=xvals, y=yvals, z=one_case, colorscale='RdBu', showscale=False),\n",
    "        row=1, col=1)\n",
    "\n",
    "    fig.add_trace(\n",
    "        go.Surface(x=xvals, y=yvals, z=two_case, colorscale='RdBu', showscale=False),\n",
    "        row=1, col=2)\n",
    "\n",
    "    fig.add_trace(\n",
    "        go.Surface(x=xvals, y=yvals, z=three_case, colorscale='RdBu', showscale=False),\n",
    "        row=2, col=1)\n",
    "\n",
    "    fig.add_trace(\n",
    "        go.Surface(x=xvals, y=yvals, z=four_case, colorscale='RdBu', showscale=True),\n",
    "        row=2, col=2)\n",
    "    \n",
    "    fig.add_annotation(text=\"Outbreak Probabilities for B = 0, %C = 10.0\",\n",
    "                  xref=\"paper\", yref=\"paper\",\n",
    "                  x=0.5, y=1.07, showarrow=False, font=dict(color=\"white\", size=16))\n",
    "        \n",
    "    fig.update_layout(template=\"plotly_dark\" )\n",
    "    fig.update_layout(height = height, width = width)\n",
    "\n",
    "    fig.show()\n",
    "    \n",
    "    plotly.io.write_image(fig, filename, engine=\"orca\")"
   ]
  },
  {
   "cell_type": "code",
   "execution_count": 25,
   "metadata": {},
   "outputs": [
    {
     "data": {
      "text/markdown": [
       "## Dataframe Input Variable List ## \n"
      ],
      "text/plain": [
       "<IPython.core.display.Markdown object>"
      ]
     },
     "metadata": {},
     "output_type": "display_data"
    },
    {
     "data": {
      "text/markdown": [
       "## =================================================== ## \n"
      ],
      "text/plain": [
       "<IPython.core.display.Markdown object>"
      ]
     },
     "metadata": {},
     "output_type": "display_data"
    },
    {
     "data": {
      "text/markdown": [
       "**B** = *Initial Number Infected*  \n",
       "  **Z** = *Edge Persistence*  \n",
       "  **D** = *Patient Discharge Odds*"
      ],
      "text/plain": [
       "<IPython.core.display.Markdown object>"
      ]
     },
     "metadata": {},
     "output_type": "display_data"
    },
    {
     "data": {
      "text/markdown": [
       "**Y** = *Asymptomatic Rate*  \n",
       "  **YY** = *Asymptomatic Attenuation*  \n",
       "  **A** = *Alpha Parameter*"
      ],
      "text/plain": [
       "<IPython.core.display.Markdown object>"
      ]
     },
     "metadata": {},
     "output_type": "display_data"
    },
    {
     "data": {
      "text/markdown": [
       "**X** = *Disease Model*  \n",
       "  **E** = *Vaccination Effectiveness*  \n",
       "  **S** = *Susceptibility*"
      ],
      "text/plain": [
       "<IPython.core.display.Markdown object>"
      ]
     },
     "metadata": {},
     "output_type": "display_data"
    },
    {
     "data": {
      "text/markdown": [
       "**I** = *Infectivity*  \n",
       "  **W** = *Disease Incubation Period (in Days)*  \n",
       "  **T** = *Disease Infection Period (in Days)*"
      ],
      "text/plain": [
       "<IPython.core.display.Markdown object>"
      ]
     },
     "metadata": {},
     "output_type": "display_data"
    },
    {
     "data": {
      "text/markdown": [
       "**VB** = *HCW Vaccination Budget*,  \n",
       "  **UB** = *Patient Vacination Budget*  \n",
       "  **V** = *Vaccination Rate of Patients*"
      ],
      "text/plain": [
       "<IPython.core.display.Markdown object>"
      ]
     },
     "metadata": {},
     "output_type": "display_data"
    },
    {
     "data": {
      "text/markdown": [
       "**VO** = *Vaccination Order*  \n",
       "  **VX** = *Vaccination Order Reversal Flag*  \n",
       "  **P** = *PPE Effectiveness*"
      ],
      "text/plain": [
       "<IPython.core.display.Markdown object>"
      ]
     },
     "metadata": {},
     "output_type": "display_data"
    },
    {
     "data": {
      "text/markdown": [
       "**VC** = *Voluntary Isolation Parameter*  \n",
       "  **VS** = *Voluntary Isolation Start Period (in Days)*  \n",
       "  **VT** = *Voluntary Isolation Term (in Days)*"
      ],
      "text/plain": [
       "<IPython.core.display.Markdown object>"
      ]
     },
     "metadata": {},
     "output_type": "display_data"
    },
    {
     "data": {
      "text/markdown": [
       "**Q1** = *Pre-work Test Effectiveness*  \n",
       "  **Q2** = *Post-work Test Effectiveness*  \n",
       "  **QS** = *Quarantine Start Period (in Days)*"
      ],
      "text/plain": [
       "<IPython.core.display.Markdown object>"
      ]
     },
     "metadata": {},
     "output_type": "display_data"
    },
    {
     "data": {
      "text/markdown": [
       "**QT** = *Quarantine Time Period (in Days)*  \n",
       "  **MPC** = *Multiplex Cohort Size*  \n",
       "  **MPT** = *Multiplex Threshhold*  \n",
       "  **GPL** = *Ground Patient Lag Time (in Weeks)*"
      ],
      "text/plain": [
       "<IPython.core.display.Markdown object>"
      ]
     },
     "metadata": {},
     "output_type": "display_data"
    },
    {
     "data": {
      "text/markdown": [
       "## Dataframe Output Variable List ## \n"
      ],
      "text/plain": [
       "<IPython.core.display.Markdown object>"
      ]
     },
     "metadata": {},
     "output_type": "display_data"
    },
    {
     "data": {
      "text/markdown": [
       "## =================================================== ## \n"
      ],
      "text/plain": [
       "<IPython.core.display.Markdown object>"
      ]
     },
     "metadata": {},
     "output_type": "display_data"
    },
    {
     "data": {
      "text/markdown": [
       "**i** = *Model Number*  \n",
       "  **j** = *Replicate Number*  \n",
       " **hcw** = *Number of HCWs at Beginning of Model*"
      ],
      "text/plain": [
       "<IPython.core.display.Markdown object>"
      ]
     },
     "metadata": {},
     "output_type": "display_data"
    },
    {
     "data": {
      "text/markdown": [
       "**pat** = *Number of Patients at Beginning of Model*  \n",
       "  **#rounds** = *Number of Iterations in Model*  \n",
       " **#totpat** = *Total Number of Patients*"
      ],
      "text/plain": [
       "<IPython.core.display.Markdown object>"
      ]
     },
     "metadata": {},
     "output_type": "display_data"
    },
    {
     "data": {
      "text/markdown": [
       "**#tothcw** = *Total Number of HCWs*  \n",
       "  **#vacpat** = *Number of Vaccinated Patients*  \n",
       " **#vachcw** = *Number of Vaccinated HCWs*"
      ],
      "text/plain": [
       "<IPython.core.display.Markdown object>"
      ]
     },
     "metadata": {},
     "output_type": "display_data"
    },
    {
     "data": {
      "text/markdown": [
       "**#infpat** = *Number of Infected Patients*  \n",
       "  **#infhcw** = *Number of Infected HCWs*  \n",
       " **#hcwpat** = *Number of Transmissions from HCWs to patients*"
      ],
      "text/plain": [
       "<IPython.core.display.Markdown object>"
      ]
     },
     "metadata": {},
     "output_type": "display_data"
    },
    {
     "data": {
      "text/markdown": [
       "**#pathcw** = *Number of Transmissions from Patients to HCWs*  \n",
       "  **#hcwhcw** = *Number of Transmissions from HCW to HCW*  \n",
       " **#sickdays** = *Number of Sick Days Taken*"
      ],
      "text/plain": [
       "<IPython.core.display.Markdown object>"
      ]
     },
     "metadata": {},
     "output_type": "display_data"
    },
    {
     "data": {
      "text/markdown": [
       "**#avglos** = *Average Length of Stay*  \n",
       "  **R0** = *Disease Transmission Rate*  \n",
       " **%pat** = *Percentage of Patients Infected*"
      ],
      "text/plain": [
       "<IPython.core.display.Markdown object>"
      ]
     },
     "metadata": {},
     "output_type": "display_data"
    },
    {
     "data": {
      "text/markdown": [
       "**%hcw** = *Percentage of HCWs Infected*  \n",
       "  **%total** = *Percentage of Total Agents Infected*  \n",
       "  **MPS** = *Multiplexing Threshhold*"
      ],
      "text/plain": [
       "<IPython.core.display.Markdown object>"
      ]
     },
     "metadata": {},
     "output_type": "display_data"
    },
    {
     "data": {
      "text/markdown": [
       "**npat0** = *Number of Initially Infected Patients*  \n",
       "  **nhcw0** = *Number of Initially Infected HCWs*  \n",
       "  **new_infected** = *Number of Infected Patients Entering Simulation AFTER Day 0*"
      ],
      "text/plain": [
       "<IPython.core.display.Markdown object>"
      ]
     },
     "metadata": {},
     "output_type": "display_data"
    },
    {
     "data": {
      "text/markdown": [
       "**secondary_infect** = *Number of Secondary Infections*  \n",
       "  **first_test** = *Number of Infected HCWs Caught First Test After Incubation Period*  \n",
       "  **first_day** = *Number of Infected HCWs Caught on First Day After Incubation Period*"
      ],
      "text/plain": [
       "<IPython.core.display.Markdown object>"
      ]
     },
     "metadata": {},
     "output_type": "display_data"
    },
    {
     "data": {
      "text/markdown": [
       "**sum_days_sym** = *Sum of Days Symptomatic HCWs Spend in Simulation*  \n",
       "  **hcw_infected** = *Number of HCWs Infected by Other HCWs Who Have Passed the Incubation Period*  \n",
       "  **pat_infected** = *Number of Patients Infected by Other HCWs Who Have Passed the Incubation Period*"
      ],
      "text/plain": [
       "<IPython.core.display.Markdown object>"
      ]
     },
     "metadata": {},
     "output_type": "display_data"
    },
    {
     "data": {
      "text/markdown": [
       "**%first_test** = *Percentage of HCWs Caught on First Test Compared to All HCWs Who Made the First Day*  \n",
       "  **%first_day** = *Percentage of HCWs Caught on First Day Compared to All HCWs Who Made the First Day*  \n",
       "  **sum_days_all** = *Total Number of Days Spent by All HCWs in Simulation*  \n",
       "  **%infectivity** = *Percentage of Total Infectivity of HCWs That Was Caught*"
      ],
      "text/plain": [
       "<IPython.core.display.Markdown object>"
      ]
     },
     "metadata": {},
     "output_type": "display_data"
    }
   ],
   "source": [
    "#Check input and output explanations\n",
    "input_help()\n",
    "output_help()"
   ]
  },
  {
   "cell_type": "code",
   "execution_count": 36,
   "metadata": {},
   "outputs": [
    {
     "name": "stdout",
     "output_type": "stream",
     "text": [
      "The number of rows in df is: 1260000\n",
      "The number of models per simulation is 200 and the number of replicates is 5 .\n"
     ]
    },
    {
     "data": {
      "text/html": [
       "<div>\n",
       "<style scoped>\n",
       "    .dataframe tbody tr th:only-of-type {\n",
       "        vertical-align: middle;\n",
       "    }\n",
       "\n",
       "    .dataframe tbody tr th {\n",
       "        vertical-align: top;\n",
       "    }\n",
       "\n",
       "    .dataframe thead th {\n",
       "        text-align: right;\n",
       "    }\n",
       "</style>\n",
       "<table border=\"1\" class=\"dataframe\">\n",
       "  <thead>\n",
       "    <tr style=\"text-align: right;\">\n",
       "      <th></th>\n",
       "      <th>i</th>\n",
       "      <th>j</th>\n",
       "      <th>pat</th>\n",
       "      <th>hcw</th>\n",
       "      <th>B</th>\n",
       "      <th>%ILI</th>\n",
       "      <th>GPL</th>\n",
       "      <th>Z</th>\n",
       "      <th>D</th>\n",
       "      <th>Y</th>\n",
       "      <th>YY</th>\n",
       "      <th>A</th>\n",
       "      <th>X</th>\n",
       "      <th>E</th>\n",
       "      <th>S</th>\n",
       "      <th>I</th>\n",
       "      <th>W</th>\n",
       "      <th>T</th>\n",
       "      <th>VB</th>\n",
       "      <th>UB</th>\n",
       "      <th>V</th>\n",
       "      <th>VO</th>\n",
       "      <th>VX</th>\n",
       "      <th>P</th>\n",
       "      <th>VC</th>\n",
       "      <th>VS</th>\n",
       "      <th>VT</th>\n",
       "      <th>Q1</th>\n",
       "      <th>Q2</th>\n",
       "      <th>QS</th>\n",
       "      <th>QT</th>\n",
       "      <th>MPC</th>\n",
       "      <th>MPT</th>\n",
       "      <th>MPS</th>\n",
       "      <th>#rounds</th>\n",
       "      <th>#totpat</th>\n",
       "      <th>#tothcw</th>\n",
       "      <th>#vacpat</th>\n",
       "      <th>#vachcw</th>\n",
       "      <th>#infpat</th>\n",
       "      <th>#infhcw</th>\n",
       "      <th>#hcwpat</th>\n",
       "      <th>#pathcw</th>\n",
       "      <th>#hcwhcw</th>\n",
       "      <th>#sickdays</th>\n",
       "      <th>#avglos</th>\n",
       "      <th>npat0</th>\n",
       "      <th>nhcw0</th>\n",
       "      <th>new_infected</th>\n",
       "      <th>R0</th>\n",
       "      <th>secondary_infect</th>\n",
       "      <th>%pat</th>\n",
       "      <th>%hcw</th>\n",
       "      <th>%total</th>\n",
       "      <th>first_test</th>\n",
       "      <th>first_day</th>\n",
       "      <th>sum_days_sym</th>\n",
       "      <th>hcw_infected</th>\n",
       "      <th>pat_infected</th>\n",
       "      <th>%first_test</th>\n",
       "      <th>%first_day</th>\n",
       "      <th>sum_days_all</th>\n",
       "      <th>%infectivity</th>\n",
       "    </tr>\n",
       "  </thead>\n",
       "  <tbody>\n",
       "    <tr>\n",
       "      <th>0</th>\n",
       "      <td>0.0</td>\n",
       "      <td>0.0</td>\n",
       "      <td>212.0</td>\n",
       "      <td>788.0</td>\n",
       "      <td>3.0</td>\n",
       "      <td>0.0</td>\n",
       "      <td>0.0</td>\n",
       "      <td>1.0</td>\n",
       "      <td>0.2</td>\n",
       "      <td>0.4</td>\n",
       "      <td>1.0</td>\n",
       "      <td>0.65</td>\n",
       "      <td>0.0</td>\n",
       "      <td>0.00</td>\n",
       "      <td>0.95</td>\n",
       "      <td>0.1</td>\n",
       "      <td>5.0</td>\n",
       "      <td>14.0</td>\n",
       "      <td>0.0</td>\n",
       "      <td>0.0</td>\n",
       "      <td>0.0</td>\n",
       "      <td>0.0</td>\n",
       "      <td>1.0</td>\n",
       "      <td>0.0</td>\n",
       "      <td>0.0</td>\n",
       "      <td>0.0</td>\n",
       "      <td>0.0</td>\n",
       "      <td>0.0</td>\n",
       "      <td>0.0</td>\n",
       "      <td>5.0</td>\n",
       "      <td>14.0</td>\n",
       "      <td>1.0</td>\n",
       "      <td>0.0</td>\n",
       "      <td>-1.0</td>\n",
       "      <td>12.0</td>\n",
       "      <td>705.0</td>\n",
       "      <td>788.0</td>\n",
       "      <td>0.0</td>\n",
       "      <td>0.0</td>\n",
       "      <td>3.0</td>\n",
       "      <td>0.0</td>\n",
       "      <td>0.0</td>\n",
       "      <td>0.0</td>\n",
       "      <td>0.0</td>\n",
       "      <td>0.0</td>\n",
       "      <td>3.54</td>\n",
       "      <td>3.0</td>\n",
       "      <td>0.0</td>\n",
       "      <td>0.0</td>\n",
       "      <td>0.00</td>\n",
       "      <td>0.0</td>\n",
       "      <td>0.004</td>\n",
       "      <td>0.000</td>\n",
       "      <td>0.002</td>\n",
       "      <td>0.0</td>\n",
       "      <td>0.0</td>\n",
       "      <td>0.0</td>\n",
       "      <td>0.0</td>\n",
       "      <td>0.0</td>\n",
       "      <td>0.0</td>\n",
       "      <td>0.0</td>\n",
       "      <td>0.0</td>\n",
       "      <td>0.0</td>\n",
       "    </tr>\n",
       "    <tr>\n",
       "      <th>1</th>\n",
       "      <td>0.0</td>\n",
       "      <td>1.0</td>\n",
       "      <td>212.0</td>\n",
       "      <td>788.0</td>\n",
       "      <td>3.0</td>\n",
       "      <td>0.0</td>\n",
       "      <td>0.0</td>\n",
       "      <td>1.0</td>\n",
       "      <td>0.2</td>\n",
       "      <td>0.4</td>\n",
       "      <td>1.0</td>\n",
       "      <td>0.65</td>\n",
       "      <td>0.0</td>\n",
       "      <td>0.00</td>\n",
       "      <td>0.95</td>\n",
       "      <td>0.1</td>\n",
       "      <td>5.0</td>\n",
       "      <td>14.0</td>\n",
       "      <td>0.0</td>\n",
       "      <td>0.0</td>\n",
       "      <td>0.0</td>\n",
       "      <td>0.0</td>\n",
       "      <td>1.0</td>\n",
       "      <td>0.0</td>\n",
       "      <td>0.0</td>\n",
       "      <td>0.0</td>\n",
       "      <td>0.0</td>\n",
       "      <td>0.0</td>\n",
       "      <td>0.0</td>\n",
       "      <td>5.0</td>\n",
       "      <td>14.0</td>\n",
       "      <td>1.0</td>\n",
       "      <td>0.0</td>\n",
       "      <td>-1.0</td>\n",
       "      <td>19.0</td>\n",
       "      <td>1014.0</td>\n",
       "      <td>788.0</td>\n",
       "      <td>0.0</td>\n",
       "      <td>0.0</td>\n",
       "      <td>3.0</td>\n",
       "      <td>0.0</td>\n",
       "      <td>0.0</td>\n",
       "      <td>0.0</td>\n",
       "      <td>0.0</td>\n",
       "      <td>0.0</td>\n",
       "      <td>3.93</td>\n",
       "      <td>3.0</td>\n",
       "      <td>0.0</td>\n",
       "      <td>0.0</td>\n",
       "      <td>0.00</td>\n",
       "      <td>0.0</td>\n",
       "      <td>0.003</td>\n",
       "      <td>0.000</td>\n",
       "      <td>0.002</td>\n",
       "      <td>0.0</td>\n",
       "      <td>0.0</td>\n",
       "      <td>0.0</td>\n",
       "      <td>0.0</td>\n",
       "      <td>0.0</td>\n",
       "      <td>0.0</td>\n",
       "      <td>0.0</td>\n",
       "      <td>0.0</td>\n",
       "      <td>0.0</td>\n",
       "    </tr>\n",
       "    <tr>\n",
       "      <th>2</th>\n",
       "      <td>0.0</td>\n",
       "      <td>2.0</td>\n",
       "      <td>212.0</td>\n",
       "      <td>788.0</td>\n",
       "      <td>3.0</td>\n",
       "      <td>0.0</td>\n",
       "      <td>0.0</td>\n",
       "      <td>1.0</td>\n",
       "      <td>0.2</td>\n",
       "      <td>0.4</td>\n",
       "      <td>1.0</td>\n",
       "      <td>0.65</td>\n",
       "      <td>0.0</td>\n",
       "      <td>0.00</td>\n",
       "      <td>0.95</td>\n",
       "      <td>0.1</td>\n",
       "      <td>5.0</td>\n",
       "      <td>14.0</td>\n",
       "      <td>0.0</td>\n",
       "      <td>0.0</td>\n",
       "      <td>0.0</td>\n",
       "      <td>0.0</td>\n",
       "      <td>1.0</td>\n",
       "      <td>0.0</td>\n",
       "      <td>0.0</td>\n",
       "      <td>0.0</td>\n",
       "      <td>0.0</td>\n",
       "      <td>0.0</td>\n",
       "      <td>0.0</td>\n",
       "      <td>5.0</td>\n",
       "      <td>14.0</td>\n",
       "      <td>1.0</td>\n",
       "      <td>0.0</td>\n",
       "      <td>-1.0</td>\n",
       "      <td>5.0</td>\n",
       "      <td>445.0</td>\n",
       "      <td>788.0</td>\n",
       "      <td>0.0</td>\n",
       "      <td>0.0</td>\n",
       "      <td>3.0</td>\n",
       "      <td>0.0</td>\n",
       "      <td>0.0</td>\n",
       "      <td>0.0</td>\n",
       "      <td>0.0</td>\n",
       "      <td>0.0</td>\n",
       "      <td>2.20</td>\n",
       "      <td>3.0</td>\n",
       "      <td>0.0</td>\n",
       "      <td>0.0</td>\n",
       "      <td>0.00</td>\n",
       "      <td>0.0</td>\n",
       "      <td>0.007</td>\n",
       "      <td>0.000</td>\n",
       "      <td>0.002</td>\n",
       "      <td>0.0</td>\n",
       "      <td>0.0</td>\n",
       "      <td>0.0</td>\n",
       "      <td>0.0</td>\n",
       "      <td>0.0</td>\n",
       "      <td>0.0</td>\n",
       "      <td>0.0</td>\n",
       "      <td>0.0</td>\n",
       "      <td>0.0</td>\n",
       "    </tr>\n",
       "    <tr>\n",
       "      <th>3</th>\n",
       "      <td>0.0</td>\n",
       "      <td>3.0</td>\n",
       "      <td>212.0</td>\n",
       "      <td>788.0</td>\n",
       "      <td>3.0</td>\n",
       "      <td>0.0</td>\n",
       "      <td>0.0</td>\n",
       "      <td>1.0</td>\n",
       "      <td>0.2</td>\n",
       "      <td>0.4</td>\n",
       "      <td>1.0</td>\n",
       "      <td>0.65</td>\n",
       "      <td>0.0</td>\n",
       "      <td>0.00</td>\n",
       "      <td>0.95</td>\n",
       "      <td>0.1</td>\n",
       "      <td>5.0</td>\n",
       "      <td>14.0</td>\n",
       "      <td>0.0</td>\n",
       "      <td>0.0</td>\n",
       "      <td>0.0</td>\n",
       "      <td>0.0</td>\n",
       "      <td>1.0</td>\n",
       "      <td>0.0</td>\n",
       "      <td>0.0</td>\n",
       "      <td>0.0</td>\n",
       "      <td>0.0</td>\n",
       "      <td>0.0</td>\n",
       "      <td>0.0</td>\n",
       "      <td>5.0</td>\n",
       "      <td>14.0</td>\n",
       "      <td>1.0</td>\n",
       "      <td>0.0</td>\n",
       "      <td>-1.0</td>\n",
       "      <td>100.0</td>\n",
       "      <td>4288.0</td>\n",
       "      <td>788.0</td>\n",
       "      <td>0.0</td>\n",
       "      <td>0.0</td>\n",
       "      <td>270.0</td>\n",
       "      <td>516.0</td>\n",
       "      <td>267.0</td>\n",
       "      <td>79.0</td>\n",
       "      <td>437.0</td>\n",
       "      <td>0.0</td>\n",
       "      <td>4.97</td>\n",
       "      <td>3.0</td>\n",
       "      <td>0.0</td>\n",
       "      <td>0.0</td>\n",
       "      <td>2.33</td>\n",
       "      <td>783.0</td>\n",
       "      <td>0.063</td>\n",
       "      <td>0.655</td>\n",
       "      <td>0.155</td>\n",
       "      <td>0.0</td>\n",
       "      <td>0.0</td>\n",
       "      <td>6152.0</td>\n",
       "      <td>358.0</td>\n",
       "      <td>221.0</td>\n",
       "      <td>0.0</td>\n",
       "      <td>0.0</td>\n",
       "      <td>9776.0</td>\n",
       "      <td>0.0</td>\n",
       "    </tr>\n",
       "    <tr>\n",
       "      <th>4</th>\n",
       "      <td>0.0</td>\n",
       "      <td>4.0</td>\n",
       "      <td>212.0</td>\n",
       "      <td>788.0</td>\n",
       "      <td>3.0</td>\n",
       "      <td>0.0</td>\n",
       "      <td>0.0</td>\n",
       "      <td>1.0</td>\n",
       "      <td>0.2</td>\n",
       "      <td>0.4</td>\n",
       "      <td>1.0</td>\n",
       "      <td>0.65</td>\n",
       "      <td>0.0</td>\n",
       "      <td>0.00</td>\n",
       "      <td>0.95</td>\n",
       "      <td>0.1</td>\n",
       "      <td>5.0</td>\n",
       "      <td>14.0</td>\n",
       "      <td>0.0</td>\n",
       "      <td>0.0</td>\n",
       "      <td>0.0</td>\n",
       "      <td>0.0</td>\n",
       "      <td>1.0</td>\n",
       "      <td>0.0</td>\n",
       "      <td>0.0</td>\n",
       "      <td>0.0</td>\n",
       "      <td>0.0</td>\n",
       "      <td>0.0</td>\n",
       "      <td>0.0</td>\n",
       "      <td>5.0</td>\n",
       "      <td>14.0</td>\n",
       "      <td>1.0</td>\n",
       "      <td>0.0</td>\n",
       "      <td>-1.0</td>\n",
       "      <td>8.0</td>\n",
       "      <td>561.0</td>\n",
       "      <td>788.0</td>\n",
       "      <td>0.0</td>\n",
       "      <td>0.0</td>\n",
       "      <td>3.0</td>\n",
       "      <td>0.0</td>\n",
       "      <td>0.0</td>\n",
       "      <td>0.0</td>\n",
       "      <td>0.0</td>\n",
       "      <td>0.0</td>\n",
       "      <td>2.74</td>\n",
       "      <td>3.0</td>\n",
       "      <td>0.0</td>\n",
       "      <td>0.0</td>\n",
       "      <td>0.00</td>\n",
       "      <td>0.0</td>\n",
       "      <td>0.005</td>\n",
       "      <td>0.000</td>\n",
       "      <td>0.002</td>\n",
       "      <td>0.0</td>\n",
       "      <td>0.0</td>\n",
       "      <td>0.0</td>\n",
       "      <td>0.0</td>\n",
       "      <td>0.0</td>\n",
       "      <td>0.0</td>\n",
       "      <td>0.0</td>\n",
       "      <td>0.0</td>\n",
       "      <td>0.0</td>\n",
       "    </tr>\n",
       "    <tr>\n",
       "      <th>...</th>\n",
       "      <td>...</td>\n",
       "      <td>...</td>\n",
       "      <td>...</td>\n",
       "      <td>...</td>\n",
       "      <td>...</td>\n",
       "      <td>...</td>\n",
       "      <td>...</td>\n",
       "      <td>...</td>\n",
       "      <td>...</td>\n",
       "      <td>...</td>\n",
       "      <td>...</td>\n",
       "      <td>...</td>\n",
       "      <td>...</td>\n",
       "      <td>...</td>\n",
       "      <td>...</td>\n",
       "      <td>...</td>\n",
       "      <td>...</td>\n",
       "      <td>...</td>\n",
       "      <td>...</td>\n",
       "      <td>...</td>\n",
       "      <td>...</td>\n",
       "      <td>...</td>\n",
       "      <td>...</td>\n",
       "      <td>...</td>\n",
       "      <td>...</td>\n",
       "      <td>...</td>\n",
       "      <td>...</td>\n",
       "      <td>...</td>\n",
       "      <td>...</td>\n",
       "      <td>...</td>\n",
       "      <td>...</td>\n",
       "      <td>...</td>\n",
       "      <td>...</td>\n",
       "      <td>...</td>\n",
       "      <td>...</td>\n",
       "      <td>...</td>\n",
       "      <td>...</td>\n",
       "      <td>...</td>\n",
       "      <td>...</td>\n",
       "      <td>...</td>\n",
       "      <td>...</td>\n",
       "      <td>...</td>\n",
       "      <td>...</td>\n",
       "      <td>...</td>\n",
       "      <td>...</td>\n",
       "      <td>...</td>\n",
       "      <td>...</td>\n",
       "      <td>...</td>\n",
       "      <td>...</td>\n",
       "      <td>...</td>\n",
       "      <td>...</td>\n",
       "      <td>...</td>\n",
       "      <td>...</td>\n",
       "      <td>...</td>\n",
       "      <td>...</td>\n",
       "      <td>...</td>\n",
       "      <td>...</td>\n",
       "      <td>...</td>\n",
       "      <td>...</td>\n",
       "      <td>...</td>\n",
       "      <td>...</td>\n",
       "      <td>...</td>\n",
       "      <td>...</td>\n",
       "    </tr>\n",
       "    <tr>\n",
       "      <th>1259995</th>\n",
       "      <td>199.0</td>\n",
       "      <td>0.0</td>\n",
       "      <td>212.0</td>\n",
       "      <td>788.0</td>\n",
       "      <td>10.0</td>\n",
       "      <td>0.0</td>\n",
       "      <td>0.0</td>\n",
       "      <td>1.0</td>\n",
       "      <td>0.2</td>\n",
       "      <td>0.4</td>\n",
       "      <td>1.0</td>\n",
       "      <td>0.65</td>\n",
       "      <td>0.0</td>\n",
       "      <td>0.95</td>\n",
       "      <td>0.95</td>\n",
       "      <td>0.1</td>\n",
       "      <td>5.0</td>\n",
       "      <td>14.0</td>\n",
       "      <td>1.0</td>\n",
       "      <td>0.0</td>\n",
       "      <td>0.0</td>\n",
       "      <td>0.0</td>\n",
       "      <td>1.0</td>\n",
       "      <td>0.0</td>\n",
       "      <td>0.0</td>\n",
       "      <td>0.0</td>\n",
       "      <td>0.0</td>\n",
       "      <td>0.0</td>\n",
       "      <td>0.0</td>\n",
       "      <td>5.0</td>\n",
       "      <td>14.0</td>\n",
       "      <td>1.0</td>\n",
       "      <td>0.0</td>\n",
       "      <td>-1.0</td>\n",
       "      <td>25.0</td>\n",
       "      <td>1308.0</td>\n",
       "      <td>788.0</td>\n",
       "      <td>0.0</td>\n",
       "      <td>751.0</td>\n",
       "      <td>10.0</td>\n",
       "      <td>1.0</td>\n",
       "      <td>0.0</td>\n",
       "      <td>1.0</td>\n",
       "      <td>0.0</td>\n",
       "      <td>0.0</td>\n",
       "      <td>4.07</td>\n",
       "      <td>10.0</td>\n",
       "      <td>0.0</td>\n",
       "      <td>0.0</td>\n",
       "      <td>0.10</td>\n",
       "      <td>1.0</td>\n",
       "      <td>0.008</td>\n",
       "      <td>0.001</td>\n",
       "      <td>0.005</td>\n",
       "      <td>0.0</td>\n",
       "      <td>0.0</td>\n",
       "      <td>19.0</td>\n",
       "      <td>0.0</td>\n",
       "      <td>0.0</td>\n",
       "      <td>0.0</td>\n",
       "      <td>0.0</td>\n",
       "      <td>19.0</td>\n",
       "      <td>0.0</td>\n",
       "    </tr>\n",
       "    <tr>\n",
       "      <th>1259996</th>\n",
       "      <td>199.0</td>\n",
       "      <td>1.0</td>\n",
       "      <td>212.0</td>\n",
       "      <td>788.0</td>\n",
       "      <td>10.0</td>\n",
       "      <td>0.0</td>\n",
       "      <td>0.0</td>\n",
       "      <td>1.0</td>\n",
       "      <td>0.2</td>\n",
       "      <td>0.4</td>\n",
       "      <td>1.0</td>\n",
       "      <td>0.65</td>\n",
       "      <td>0.0</td>\n",
       "      <td>0.95</td>\n",
       "      <td>0.95</td>\n",
       "      <td>0.1</td>\n",
       "      <td>5.0</td>\n",
       "      <td>14.0</td>\n",
       "      <td>1.0</td>\n",
       "      <td>0.0</td>\n",
       "      <td>0.0</td>\n",
       "      <td>0.0</td>\n",
       "      <td>1.0</td>\n",
       "      <td>0.0</td>\n",
       "      <td>0.0</td>\n",
       "      <td>0.0</td>\n",
       "      <td>0.0</td>\n",
       "      <td>0.0</td>\n",
       "      <td>0.0</td>\n",
       "      <td>5.0</td>\n",
       "      <td>14.0</td>\n",
       "      <td>1.0</td>\n",
       "      <td>0.0</td>\n",
       "      <td>-1.0</td>\n",
       "      <td>25.0</td>\n",
       "      <td>1259.0</td>\n",
       "      <td>788.0</td>\n",
       "      <td>0.0</td>\n",
       "      <td>751.0</td>\n",
       "      <td>10.0</td>\n",
       "      <td>1.0</td>\n",
       "      <td>0.0</td>\n",
       "      <td>1.0</td>\n",
       "      <td>0.0</td>\n",
       "      <td>0.0</td>\n",
       "      <td>4.31</td>\n",
       "      <td>10.0</td>\n",
       "      <td>0.0</td>\n",
       "      <td>0.0</td>\n",
       "      <td>0.10</td>\n",
       "      <td>1.0</td>\n",
       "      <td>0.008</td>\n",
       "      <td>0.001</td>\n",
       "      <td>0.005</td>\n",
       "      <td>0.0</td>\n",
       "      <td>0.0</td>\n",
       "      <td>19.0</td>\n",
       "      <td>0.0</td>\n",
       "      <td>0.0</td>\n",
       "      <td>0.0</td>\n",
       "      <td>0.0</td>\n",
       "      <td>19.0</td>\n",
       "      <td>0.0</td>\n",
       "    </tr>\n",
       "    <tr>\n",
       "      <th>1259997</th>\n",
       "      <td>199.0</td>\n",
       "      <td>2.0</td>\n",
       "      <td>212.0</td>\n",
       "      <td>788.0</td>\n",
       "      <td>10.0</td>\n",
       "      <td>0.0</td>\n",
       "      <td>0.0</td>\n",
       "      <td>1.0</td>\n",
       "      <td>0.2</td>\n",
       "      <td>0.4</td>\n",
       "      <td>1.0</td>\n",
       "      <td>0.65</td>\n",
       "      <td>0.0</td>\n",
       "      <td>0.95</td>\n",
       "      <td>0.95</td>\n",
       "      <td>0.1</td>\n",
       "      <td>5.0</td>\n",
       "      <td>14.0</td>\n",
       "      <td>1.0</td>\n",
       "      <td>0.0</td>\n",
       "      <td>0.0</td>\n",
       "      <td>0.0</td>\n",
       "      <td>1.0</td>\n",
       "      <td>0.0</td>\n",
       "      <td>0.0</td>\n",
       "      <td>0.0</td>\n",
       "      <td>0.0</td>\n",
       "      <td>0.0</td>\n",
       "      <td>0.0</td>\n",
       "      <td>5.0</td>\n",
       "      <td>14.0</td>\n",
       "      <td>1.0</td>\n",
       "      <td>0.0</td>\n",
       "      <td>-1.0</td>\n",
       "      <td>19.0</td>\n",
       "      <td>1038.0</td>\n",
       "      <td>788.0</td>\n",
       "      <td>0.0</td>\n",
       "      <td>751.0</td>\n",
       "      <td>10.0</td>\n",
       "      <td>0.0</td>\n",
       "      <td>0.0</td>\n",
       "      <td>0.0</td>\n",
       "      <td>0.0</td>\n",
       "      <td>0.0</td>\n",
       "      <td>3.91</td>\n",
       "      <td>10.0</td>\n",
       "      <td>0.0</td>\n",
       "      <td>0.0</td>\n",
       "      <td>0.00</td>\n",
       "      <td>0.0</td>\n",
       "      <td>0.010</td>\n",
       "      <td>0.000</td>\n",
       "      <td>0.005</td>\n",
       "      <td>0.0</td>\n",
       "      <td>0.0</td>\n",
       "      <td>0.0</td>\n",
       "      <td>0.0</td>\n",
       "      <td>0.0</td>\n",
       "      <td>0.0</td>\n",
       "      <td>0.0</td>\n",
       "      <td>0.0</td>\n",
       "      <td>0.0</td>\n",
       "    </tr>\n",
       "    <tr>\n",
       "      <th>1259998</th>\n",
       "      <td>199.0</td>\n",
       "      <td>3.0</td>\n",
       "      <td>212.0</td>\n",
       "      <td>788.0</td>\n",
       "      <td>10.0</td>\n",
       "      <td>0.0</td>\n",
       "      <td>0.0</td>\n",
       "      <td>1.0</td>\n",
       "      <td>0.2</td>\n",
       "      <td>0.4</td>\n",
       "      <td>1.0</td>\n",
       "      <td>0.65</td>\n",
       "      <td>0.0</td>\n",
       "      <td>0.95</td>\n",
       "      <td>0.95</td>\n",
       "      <td>0.1</td>\n",
       "      <td>5.0</td>\n",
       "      <td>14.0</td>\n",
       "      <td>1.0</td>\n",
       "      <td>0.0</td>\n",
       "      <td>0.0</td>\n",
       "      <td>0.0</td>\n",
       "      <td>1.0</td>\n",
       "      <td>0.0</td>\n",
       "      <td>0.0</td>\n",
       "      <td>0.0</td>\n",
       "      <td>0.0</td>\n",
       "      <td>0.0</td>\n",
       "      <td>0.0</td>\n",
       "      <td>5.0</td>\n",
       "      <td>14.0</td>\n",
       "      <td>1.0</td>\n",
       "      <td>0.0</td>\n",
       "      <td>-1.0</td>\n",
       "      <td>19.0</td>\n",
       "      <td>1015.0</td>\n",
       "      <td>788.0</td>\n",
       "      <td>0.0</td>\n",
       "      <td>751.0</td>\n",
       "      <td>10.0</td>\n",
       "      <td>0.0</td>\n",
       "      <td>0.0</td>\n",
       "      <td>0.0</td>\n",
       "      <td>0.0</td>\n",
       "      <td>0.0</td>\n",
       "      <td>3.95</td>\n",
       "      <td>10.0</td>\n",
       "      <td>0.0</td>\n",
       "      <td>0.0</td>\n",
       "      <td>0.00</td>\n",
       "      <td>0.0</td>\n",
       "      <td>0.010</td>\n",
       "      <td>0.000</td>\n",
       "      <td>0.006</td>\n",
       "      <td>0.0</td>\n",
       "      <td>0.0</td>\n",
       "      <td>0.0</td>\n",
       "      <td>0.0</td>\n",
       "      <td>0.0</td>\n",
       "      <td>0.0</td>\n",
       "      <td>0.0</td>\n",
       "      <td>0.0</td>\n",
       "      <td>0.0</td>\n",
       "    </tr>\n",
       "    <tr>\n",
       "      <th>1259999</th>\n",
       "      <td>199.0</td>\n",
       "      <td>4.0</td>\n",
       "      <td>212.0</td>\n",
       "      <td>788.0</td>\n",
       "      <td>10.0</td>\n",
       "      <td>0.0</td>\n",
       "      <td>0.0</td>\n",
       "      <td>1.0</td>\n",
       "      <td>0.2</td>\n",
       "      <td>0.4</td>\n",
       "      <td>1.0</td>\n",
       "      <td>0.65</td>\n",
       "      <td>0.0</td>\n",
       "      <td>0.95</td>\n",
       "      <td>0.95</td>\n",
       "      <td>0.1</td>\n",
       "      <td>5.0</td>\n",
       "      <td>14.0</td>\n",
       "      <td>1.0</td>\n",
       "      <td>0.0</td>\n",
       "      <td>0.0</td>\n",
       "      <td>0.0</td>\n",
       "      <td>1.0</td>\n",
       "      <td>0.0</td>\n",
       "      <td>0.0</td>\n",
       "      <td>0.0</td>\n",
       "      <td>0.0</td>\n",
       "      <td>0.0</td>\n",
       "      <td>0.0</td>\n",
       "      <td>5.0</td>\n",
       "      <td>14.0</td>\n",
       "      <td>1.0</td>\n",
       "      <td>0.0</td>\n",
       "      <td>-1.0</td>\n",
       "      <td>19.0</td>\n",
       "      <td>1025.0</td>\n",
       "      <td>788.0</td>\n",
       "      <td>0.0</td>\n",
       "      <td>751.0</td>\n",
       "      <td>10.0</td>\n",
       "      <td>0.0</td>\n",
       "      <td>0.0</td>\n",
       "      <td>0.0</td>\n",
       "      <td>0.0</td>\n",
       "      <td>0.0</td>\n",
       "      <td>3.93</td>\n",
       "      <td>10.0</td>\n",
       "      <td>0.0</td>\n",
       "      <td>0.0</td>\n",
       "      <td>0.00</td>\n",
       "      <td>0.0</td>\n",
       "      <td>0.010</td>\n",
       "      <td>0.000</td>\n",
       "      <td>0.006</td>\n",
       "      <td>0.0</td>\n",
       "      <td>0.0</td>\n",
       "      <td>0.0</td>\n",
       "      <td>0.0</td>\n",
       "      <td>0.0</td>\n",
       "      <td>0.0</td>\n",
       "      <td>0.0</td>\n",
       "      <td>0.0</td>\n",
       "      <td>0.0</td>\n",
       "    </tr>\n",
       "  </tbody>\n",
       "</table>\n",
       "<p>1260000 rows × 63 columns</p>\n",
       "</div>"
      ],
      "text/plain": [
       "             i    j    pat    hcw     B  %ILI  GPL    Z    D    Y   YY     A  \\\n",
       "0          0.0  0.0  212.0  788.0   3.0   0.0  0.0  1.0  0.2  0.4  1.0  0.65   \n",
       "1          0.0  1.0  212.0  788.0   3.0   0.0  0.0  1.0  0.2  0.4  1.0  0.65   \n",
       "2          0.0  2.0  212.0  788.0   3.0   0.0  0.0  1.0  0.2  0.4  1.0  0.65   \n",
       "3          0.0  3.0  212.0  788.0   3.0   0.0  0.0  1.0  0.2  0.4  1.0  0.65   \n",
       "4          0.0  4.0  212.0  788.0   3.0   0.0  0.0  1.0  0.2  0.4  1.0  0.65   \n",
       "...        ...  ...    ...    ...   ...   ...  ...  ...  ...  ...  ...   ...   \n",
       "1259995  199.0  0.0  212.0  788.0  10.0   0.0  0.0  1.0  0.2  0.4  1.0  0.65   \n",
       "1259996  199.0  1.0  212.0  788.0  10.0   0.0  0.0  1.0  0.2  0.4  1.0  0.65   \n",
       "1259997  199.0  2.0  212.0  788.0  10.0   0.0  0.0  1.0  0.2  0.4  1.0  0.65   \n",
       "1259998  199.0  3.0  212.0  788.0  10.0   0.0  0.0  1.0  0.2  0.4  1.0  0.65   \n",
       "1259999  199.0  4.0  212.0  788.0  10.0   0.0  0.0  1.0  0.2  0.4  1.0  0.65   \n",
       "\n",
       "           X     E     S    I    W     T   VB   UB    V   VO   VX    P   VC  \\\n",
       "0        0.0  0.00  0.95  0.1  5.0  14.0  0.0  0.0  0.0  0.0  1.0  0.0  0.0   \n",
       "1        0.0  0.00  0.95  0.1  5.0  14.0  0.0  0.0  0.0  0.0  1.0  0.0  0.0   \n",
       "2        0.0  0.00  0.95  0.1  5.0  14.0  0.0  0.0  0.0  0.0  1.0  0.0  0.0   \n",
       "3        0.0  0.00  0.95  0.1  5.0  14.0  0.0  0.0  0.0  0.0  1.0  0.0  0.0   \n",
       "4        0.0  0.00  0.95  0.1  5.0  14.0  0.0  0.0  0.0  0.0  1.0  0.0  0.0   \n",
       "...      ...   ...   ...  ...  ...   ...  ...  ...  ...  ...  ...  ...  ...   \n",
       "1259995  0.0  0.95  0.95  0.1  5.0  14.0  1.0  0.0  0.0  0.0  1.0  0.0  0.0   \n",
       "1259996  0.0  0.95  0.95  0.1  5.0  14.0  1.0  0.0  0.0  0.0  1.0  0.0  0.0   \n",
       "1259997  0.0  0.95  0.95  0.1  5.0  14.0  1.0  0.0  0.0  0.0  1.0  0.0  0.0   \n",
       "1259998  0.0  0.95  0.95  0.1  5.0  14.0  1.0  0.0  0.0  0.0  1.0  0.0  0.0   \n",
       "1259999  0.0  0.95  0.95  0.1  5.0  14.0  1.0  0.0  0.0  0.0  1.0  0.0  0.0   \n",
       "\n",
       "          VS   VT   Q1   Q2   QS    QT  MPC  MPT  MPS  #rounds  #totpat  \\\n",
       "0        0.0  0.0  0.0  0.0  5.0  14.0  1.0  0.0 -1.0     12.0    705.0   \n",
       "1        0.0  0.0  0.0  0.0  5.0  14.0  1.0  0.0 -1.0     19.0   1014.0   \n",
       "2        0.0  0.0  0.0  0.0  5.0  14.0  1.0  0.0 -1.0      5.0    445.0   \n",
       "3        0.0  0.0  0.0  0.0  5.0  14.0  1.0  0.0 -1.0    100.0   4288.0   \n",
       "4        0.0  0.0  0.0  0.0  5.0  14.0  1.0  0.0 -1.0      8.0    561.0   \n",
       "...      ...  ...  ...  ...  ...   ...  ...  ...  ...      ...      ...   \n",
       "1259995  0.0  0.0  0.0  0.0  5.0  14.0  1.0  0.0 -1.0     25.0   1308.0   \n",
       "1259996  0.0  0.0  0.0  0.0  5.0  14.0  1.0  0.0 -1.0     25.0   1259.0   \n",
       "1259997  0.0  0.0  0.0  0.0  5.0  14.0  1.0  0.0 -1.0     19.0   1038.0   \n",
       "1259998  0.0  0.0  0.0  0.0  5.0  14.0  1.0  0.0 -1.0     19.0   1015.0   \n",
       "1259999  0.0  0.0  0.0  0.0  5.0  14.0  1.0  0.0 -1.0     19.0   1025.0   \n",
       "\n",
       "         #tothcw  #vacpat  #vachcw  #infpat  #infhcw  #hcwpat  #pathcw  \\\n",
       "0          788.0      0.0      0.0      3.0      0.0      0.0      0.0   \n",
       "1          788.0      0.0      0.0      3.0      0.0      0.0      0.0   \n",
       "2          788.0      0.0      0.0      3.0      0.0      0.0      0.0   \n",
       "3          788.0      0.0      0.0    270.0    516.0    267.0     79.0   \n",
       "4          788.0      0.0      0.0      3.0      0.0      0.0      0.0   \n",
       "...          ...      ...      ...      ...      ...      ...      ...   \n",
       "1259995    788.0      0.0    751.0     10.0      1.0      0.0      1.0   \n",
       "1259996    788.0      0.0    751.0     10.0      1.0      0.0      1.0   \n",
       "1259997    788.0      0.0    751.0     10.0      0.0      0.0      0.0   \n",
       "1259998    788.0      0.0    751.0     10.0      0.0      0.0      0.0   \n",
       "1259999    788.0      0.0    751.0     10.0      0.0      0.0      0.0   \n",
       "\n",
       "         #hcwhcw  #sickdays  #avglos  npat0  nhcw0  new_infected    R0  \\\n",
       "0            0.0        0.0     3.54    3.0    0.0           0.0  0.00   \n",
       "1            0.0        0.0     3.93    3.0    0.0           0.0  0.00   \n",
       "2            0.0        0.0     2.20    3.0    0.0           0.0  0.00   \n",
       "3          437.0        0.0     4.97    3.0    0.0           0.0  2.33   \n",
       "4            0.0        0.0     2.74    3.0    0.0           0.0  0.00   \n",
       "...          ...        ...      ...    ...    ...           ...   ...   \n",
       "1259995      0.0        0.0     4.07   10.0    0.0           0.0  0.10   \n",
       "1259996      0.0        0.0     4.31   10.0    0.0           0.0  0.10   \n",
       "1259997      0.0        0.0     3.91   10.0    0.0           0.0  0.00   \n",
       "1259998      0.0        0.0     3.95   10.0    0.0           0.0  0.00   \n",
       "1259999      0.0        0.0     3.93   10.0    0.0           0.0  0.00   \n",
       "\n",
       "         secondary_infect   %pat   %hcw  %total  first_test  first_day  \\\n",
       "0                     0.0  0.004  0.000   0.002         0.0        0.0   \n",
       "1                     0.0  0.003  0.000   0.002         0.0        0.0   \n",
       "2                     0.0  0.007  0.000   0.002         0.0        0.0   \n",
       "3                   783.0  0.063  0.655   0.155         0.0        0.0   \n",
       "4                     0.0  0.005  0.000   0.002         0.0        0.0   \n",
       "...                   ...    ...    ...     ...         ...        ...   \n",
       "1259995               1.0  0.008  0.001   0.005         0.0        0.0   \n",
       "1259996               1.0  0.008  0.001   0.005         0.0        0.0   \n",
       "1259997               0.0  0.010  0.000   0.005         0.0        0.0   \n",
       "1259998               0.0  0.010  0.000   0.006         0.0        0.0   \n",
       "1259999               0.0  0.010  0.000   0.006         0.0        0.0   \n",
       "\n",
       "         sum_days_sym  hcw_infected  pat_infected  %first_test  %first_day  \\\n",
       "0                 0.0           0.0           0.0          0.0         0.0   \n",
       "1                 0.0           0.0           0.0          0.0         0.0   \n",
       "2                 0.0           0.0           0.0          0.0         0.0   \n",
       "3              6152.0         358.0         221.0          0.0         0.0   \n",
       "4                 0.0           0.0           0.0          0.0         0.0   \n",
       "...               ...           ...           ...          ...         ...   \n",
       "1259995          19.0           0.0           0.0          0.0         0.0   \n",
       "1259996          19.0           0.0           0.0          0.0         0.0   \n",
       "1259997           0.0           0.0           0.0          0.0         0.0   \n",
       "1259998           0.0           0.0           0.0          0.0         0.0   \n",
       "1259999           0.0           0.0           0.0          0.0         0.0   \n",
       "\n",
       "         sum_days_all  %infectivity  \n",
       "0                 0.0           0.0  \n",
       "1                 0.0           0.0  \n",
       "2                 0.0           0.0  \n",
       "3              9776.0           0.0  \n",
       "4                 0.0           0.0  \n",
       "...               ...           ...  \n",
       "1259995          19.0           0.0  \n",
       "1259996          19.0           0.0  \n",
       "1259997           0.0           0.0  \n",
       "1259998           0.0           0.0  \n",
       "1259999           0.0           0.0  \n",
       "\n",
       "[1260000 rows x 63 columns]"
      ]
     },
     "execution_count": 36,
     "metadata": {},
     "output_type": "execute_result"
    }
   ],
   "source": [
    "# Read the dataframe into variable df\n",
    "df_total = data_reader()\n",
    "df_total"
   ]
  },
  {
   "cell_type": "code",
   "execution_count": 37,
   "metadata": {},
   "outputs": [
    {
     "name": "stdout",
     "output_type": "stream",
     "text": [
      "A :0.65\n",
      "B :3, 5, 10\n",
      "VO :0\n",
      "VB :0.0, 0.05, 0.1, 0.15, 0.2, 0.25, 0.3, 0.35, 0.4, 0.45, 0.5, 0.55, 0.6, 0.65, 0.7, 0.75, 0.8, 0.85, 0.9, 0.95, 1.0\n",
      "UB :0\n",
      "E :0.0, 0.05, 0.1, 0.15, 0.2, 0.25, 0.3, 0.35, 0.4, 0.45, 0.5, 0.55, 0.6, 0.65, 0.7, 0.75, 0.8, 0.85, 0.9, 0.95\n",
      "X :0\n",
      "S :0.95\n",
      "I :0.105\n",
      "Y :0.4\n",
      "YY :1.0\n",
      "W :5\n",
      "T :14\n",
      "D :0.2\n",
      "P :0\n",
      "Z :1.0\n",
      "VC :0.0\n",
      "VS :0\n",
      "VT :0\n",
      "Q1 :0.0\n",
      "Q2 :0.0\n",
      "QS :5\n",
      "QT :14\n",
      "GPL :0\n",
      "MPC :1\n",
      "MPT :0.0\n",
      "%ILI = [0.0]\n"
     ]
    }
   ],
   "source": [
    "# Find the inputs into the simulator and print them to the screen\n",
    "inputs = input_dict()\n",
    "\n",
    "# Print the values in the input dictionary nicely\n",
    "for k in inputs.keys():\n",
    "    \n",
    "    print_keys = str(inputs[k])[1:-1]\n",
    "    print(k, \":\" + print_keys) \n",
    "    \n",
    "list_of_inputs = list(inputs.keys())\n",
    "print(\"%ILI =\", list(set(df_total[\"%ILI\"])))"
   ]
  },
  {
   "cell_type": "code",
   "execution_count": 38,
   "metadata": {},
   "outputs": [],
   "source": [
    "A   = [0.65]     # Alpha parameter\n",
    "B   = [5]       # Number of initial infectids\n",
    "VO  = [0]       # Vaccination distribution strategy\n",
    "VB  = [0.0, 0.05, 0.1, 0.15, 0.2, 0.25, 0.3, 0.35, 0.4, 0.45, 0.5, 0.55, 0.6, 0.65, 0.7, 0.75, 0.8, 0.85, 0.9, 1.0]       # Healthcare worker vaccination rate\n",
    "UB  = [0]       # Patient vaccination rate\n",
    "E   = [0.0, 0.05, 0.1, 0.15, 0.2, 0.25, 0.3, 0.35, 0.4, 0.45, 0.5, 0.55, 0.6, 0.65, 0.7, 0.75, 0.8, 0.85, 0.9, 0.95]       # Vaccination effectiveness rate\n",
    "X   = [0]       # Disease model\n",
    "S   = [0.95]     # Susceptibility\n",
    "I   = [round(0.105, 1)]     # Infectivity\n",
    "Y   = [0.4]    # Asymptomatic rate\n",
    "YY  = [1.0]     # Asymptomatic attenuation\n",
    "W   = [5]       # Disease incubation period in days\n",
    "T   = [14]      # Disease infection lasting time in days\n",
    "D   = [0.2]    # Chance that patient will be discharged on a given day\n",
    "P   = [0.0]     # PPE effectiveness\n",
    "Z   = [1.0]     # Persistence threshhold\n",
    "C   = [-1]      # Contact threshhold\n",
    "VC  = [0.0]     # Isolation compliance parameter  \n",
    "VS  = [0.0]       # Isolation start day\n",
    "VT  = [0.0]      # Isolation duration in days\n",
    "Q1  = [0.0]     # Prework test effectiveness\n",
    "Q2  = [0.0]     # Postwork test effectiveness\n",
    "QS  = [5]       # Quarantine start day\n",
    "QT  = [14]      # Quarantine duration in days\n",
    "MPC = [1]       # Number of multiplexes\n",
    "MPT = [0.0]     # Multiplexing threshhold\n",
    "ILI = [0.0]\n",
    "\n",
    "sim_dict = {\"A\": A, \"B\": B, \"VO\": VO, \"VB\": VB, \"UB\": UB, \"E\": E, \"X\": X, \"S\": S, \"I\": I, \"Y\": Y, \"YY\": YY,\n",
    "           \"W\": W, \"T\": T, \"D\": D, \"P\": P, \"Z\": Z, \"C\":C, \"VC\": VC, \"VS\": VS, \"VT\": VT, \"Q1\": Q1,\n",
    "           \"Q2\": Q2, \"QS\": QS, \"QT\": QT, \"MPC\": MPC, \"MPT\": MPT, \"%ILI\": ILI}"
   ]
  },
  {
   "cell_type": "code",
   "execution_count": 39,
   "metadata": {},
   "outputs": [
    {
     "data": {
      "text/html": [
       "<div>\n",
       "<style scoped>\n",
       "    .dataframe tbody tr th:only-of-type {\n",
       "        vertical-align: middle;\n",
       "    }\n",
       "\n",
       "    .dataframe tbody tr th {\n",
       "        vertical-align: top;\n",
       "    }\n",
       "\n",
       "    .dataframe thead th {\n",
       "        text-align: right;\n",
       "    }\n",
       "</style>\n",
       "<table border=\"1\" class=\"dataframe\">\n",
       "  <thead>\n",
       "    <tr style=\"text-align: right;\">\n",
       "      <th></th>\n",
       "      <th>i</th>\n",
       "      <th>j</th>\n",
       "      <th>pat</th>\n",
       "      <th>hcw</th>\n",
       "      <th>B</th>\n",
       "      <th>%ILI</th>\n",
       "      <th>GPL</th>\n",
       "      <th>Z</th>\n",
       "      <th>D</th>\n",
       "      <th>Y</th>\n",
       "      <th>YY</th>\n",
       "      <th>A</th>\n",
       "      <th>X</th>\n",
       "      <th>E</th>\n",
       "      <th>S</th>\n",
       "      <th>I</th>\n",
       "      <th>W</th>\n",
       "      <th>T</th>\n",
       "      <th>VB</th>\n",
       "      <th>UB</th>\n",
       "      <th>V</th>\n",
       "      <th>VO</th>\n",
       "      <th>VX</th>\n",
       "      <th>P</th>\n",
       "      <th>VC</th>\n",
       "      <th>VS</th>\n",
       "      <th>VT</th>\n",
       "      <th>Q1</th>\n",
       "      <th>Q2</th>\n",
       "      <th>QS</th>\n",
       "      <th>QT</th>\n",
       "      <th>MPC</th>\n",
       "      <th>MPT</th>\n",
       "      <th>MPS</th>\n",
       "      <th>#rounds</th>\n",
       "      <th>#totpat</th>\n",
       "      <th>#tothcw</th>\n",
       "      <th>#vacpat</th>\n",
       "      <th>#vachcw</th>\n",
       "      <th>#infpat</th>\n",
       "      <th>#infhcw</th>\n",
       "      <th>#hcwpat</th>\n",
       "      <th>#pathcw</th>\n",
       "      <th>#hcwhcw</th>\n",
       "      <th>#sickdays</th>\n",
       "      <th>#avglos</th>\n",
       "      <th>npat0</th>\n",
       "      <th>nhcw0</th>\n",
       "      <th>new_infected</th>\n",
       "      <th>R0</th>\n",
       "      <th>secondary_infect</th>\n",
       "      <th>%pat</th>\n",
       "      <th>%hcw</th>\n",
       "      <th>%total</th>\n",
       "      <th>first_test</th>\n",
       "      <th>first_day</th>\n",
       "      <th>sum_days_sym</th>\n",
       "      <th>hcw_infected</th>\n",
       "      <th>pat_infected</th>\n",
       "      <th>%first_test</th>\n",
       "      <th>%first_day</th>\n",
       "      <th>sum_days_all</th>\n",
       "      <th>%infectivity</th>\n",
       "    </tr>\n",
       "  </thead>\n",
       "  <tbody>\n",
       "    <tr>\n",
       "      <th>0</th>\n",
       "      <td>0.0</td>\n",
       "      <td>0.0</td>\n",
       "      <td>212.0</td>\n",
       "      <td>788.0</td>\n",
       "      <td>5.0</td>\n",
       "      <td>0.0</td>\n",
       "      <td>0.0</td>\n",
       "      <td>1.0</td>\n",
       "      <td>0.2</td>\n",
       "      <td>0.4</td>\n",
       "      <td>1.0</td>\n",
       "      <td>0.65</td>\n",
       "      <td>0.0</td>\n",
       "      <td>0.00</td>\n",
       "      <td>0.95</td>\n",
       "      <td>0.1</td>\n",
       "      <td>5.0</td>\n",
       "      <td>14.0</td>\n",
       "      <td>0.0</td>\n",
       "      <td>0.0</td>\n",
       "      <td>0.0</td>\n",
       "      <td>0.0</td>\n",
       "      <td>1.0</td>\n",
       "      <td>0.0</td>\n",
       "      <td>0.0</td>\n",
       "      <td>0.0</td>\n",
       "      <td>0.0</td>\n",
       "      <td>0.0</td>\n",
       "      <td>0.0</td>\n",
       "      <td>5.0</td>\n",
       "      <td>14.0</td>\n",
       "      <td>1.0</td>\n",
       "      <td>0.0</td>\n",
       "      <td>-1.0</td>\n",
       "      <td>19.0</td>\n",
       "      <td>1011.0</td>\n",
       "      <td>788.0</td>\n",
       "      <td>0.0</td>\n",
       "      <td>0.0</td>\n",
       "      <td>5.0</td>\n",
       "      <td>0.0</td>\n",
       "      <td>0.0</td>\n",
       "      <td>0.0</td>\n",
       "      <td>0.0</td>\n",
       "      <td>0.0</td>\n",
       "      <td>3.79</td>\n",
       "      <td>5.0</td>\n",
       "      <td>0.0</td>\n",
       "      <td>0.0</td>\n",
       "      <td>0.0</td>\n",
       "      <td>0.0</td>\n",
       "      <td>0.005</td>\n",
       "      <td>0.000</td>\n",
       "      <td>0.003</td>\n",
       "      <td>0.0</td>\n",
       "      <td>0.0</td>\n",
       "      <td>0.0</td>\n",
       "      <td>0.0</td>\n",
       "      <td>0.0</td>\n",
       "      <td>0.0</td>\n",
       "      <td>0.0</td>\n",
       "      <td>0.0</td>\n",
       "      <td>0.0</td>\n",
       "    </tr>\n",
       "    <tr>\n",
       "      <th>1</th>\n",
       "      <td>0.0</td>\n",
       "      <td>1.0</td>\n",
       "      <td>212.0</td>\n",
       "      <td>788.0</td>\n",
       "      <td>5.0</td>\n",
       "      <td>0.0</td>\n",
       "      <td>0.0</td>\n",
       "      <td>1.0</td>\n",
       "      <td>0.2</td>\n",
       "      <td>0.4</td>\n",
       "      <td>1.0</td>\n",
       "      <td>0.65</td>\n",
       "      <td>0.0</td>\n",
       "      <td>0.00</td>\n",
       "      <td>0.95</td>\n",
       "      <td>0.1</td>\n",
       "      <td>5.0</td>\n",
       "      <td>14.0</td>\n",
       "      <td>0.0</td>\n",
       "      <td>0.0</td>\n",
       "      <td>0.0</td>\n",
       "      <td>0.0</td>\n",
       "      <td>1.0</td>\n",
       "      <td>0.0</td>\n",
       "      <td>0.0</td>\n",
       "      <td>0.0</td>\n",
       "      <td>0.0</td>\n",
       "      <td>0.0</td>\n",
       "      <td>0.0</td>\n",
       "      <td>5.0</td>\n",
       "      <td>14.0</td>\n",
       "      <td>1.0</td>\n",
       "      <td>0.0</td>\n",
       "      <td>-1.0</td>\n",
       "      <td>14.0</td>\n",
       "      <td>834.0</td>\n",
       "      <td>788.0</td>\n",
       "      <td>0.0</td>\n",
       "      <td>0.0</td>\n",
       "      <td>5.0</td>\n",
       "      <td>0.0</td>\n",
       "      <td>0.0</td>\n",
       "      <td>0.0</td>\n",
       "      <td>0.0</td>\n",
       "      <td>0.0</td>\n",
       "      <td>3.51</td>\n",
       "      <td>5.0</td>\n",
       "      <td>0.0</td>\n",
       "      <td>0.0</td>\n",
       "      <td>0.0</td>\n",
       "      <td>0.0</td>\n",
       "      <td>0.006</td>\n",
       "      <td>0.000</td>\n",
       "      <td>0.003</td>\n",
       "      <td>0.0</td>\n",
       "      <td>0.0</td>\n",
       "      <td>0.0</td>\n",
       "      <td>0.0</td>\n",
       "      <td>0.0</td>\n",
       "      <td>0.0</td>\n",
       "      <td>0.0</td>\n",
       "      <td>0.0</td>\n",
       "      <td>0.0</td>\n",
       "    </tr>\n",
       "    <tr>\n",
       "      <th>2</th>\n",
       "      <td>0.0</td>\n",
       "      <td>2.0</td>\n",
       "      <td>212.0</td>\n",
       "      <td>788.0</td>\n",
       "      <td>5.0</td>\n",
       "      <td>0.0</td>\n",
       "      <td>0.0</td>\n",
       "      <td>1.0</td>\n",
       "      <td>0.2</td>\n",
       "      <td>0.4</td>\n",
       "      <td>1.0</td>\n",
       "      <td>0.65</td>\n",
       "      <td>0.0</td>\n",
       "      <td>0.00</td>\n",
       "      <td>0.95</td>\n",
       "      <td>0.1</td>\n",
       "      <td>5.0</td>\n",
       "      <td>14.0</td>\n",
       "      <td>0.0</td>\n",
       "      <td>0.0</td>\n",
       "      <td>0.0</td>\n",
       "      <td>0.0</td>\n",
       "      <td>1.0</td>\n",
       "      <td>0.0</td>\n",
       "      <td>0.0</td>\n",
       "      <td>0.0</td>\n",
       "      <td>0.0</td>\n",
       "      <td>0.0</td>\n",
       "      <td>0.0</td>\n",
       "      <td>5.0</td>\n",
       "      <td>14.0</td>\n",
       "      <td>1.0</td>\n",
       "      <td>0.0</td>\n",
       "      <td>-1.0</td>\n",
       "      <td>19.0</td>\n",
       "      <td>995.0</td>\n",
       "      <td>788.0</td>\n",
       "      <td>0.0</td>\n",
       "      <td>0.0</td>\n",
       "      <td>5.0</td>\n",
       "      <td>0.0</td>\n",
       "      <td>0.0</td>\n",
       "      <td>0.0</td>\n",
       "      <td>0.0</td>\n",
       "      <td>0.0</td>\n",
       "      <td>3.96</td>\n",
       "      <td>5.0</td>\n",
       "      <td>0.0</td>\n",
       "      <td>0.0</td>\n",
       "      <td>0.0</td>\n",
       "      <td>0.0</td>\n",
       "      <td>0.005</td>\n",
       "      <td>0.000</td>\n",
       "      <td>0.003</td>\n",
       "      <td>0.0</td>\n",
       "      <td>0.0</td>\n",
       "      <td>0.0</td>\n",
       "      <td>0.0</td>\n",
       "      <td>0.0</td>\n",
       "      <td>0.0</td>\n",
       "      <td>0.0</td>\n",
       "      <td>0.0</td>\n",
       "      <td>0.0</td>\n",
       "    </tr>\n",
       "    <tr>\n",
       "      <th>3</th>\n",
       "      <td>0.0</td>\n",
       "      <td>3.0</td>\n",
       "      <td>212.0</td>\n",
       "      <td>788.0</td>\n",
       "      <td>5.0</td>\n",
       "      <td>0.0</td>\n",
       "      <td>0.0</td>\n",
       "      <td>1.0</td>\n",
       "      <td>0.2</td>\n",
       "      <td>0.4</td>\n",
       "      <td>1.0</td>\n",
       "      <td>0.65</td>\n",
       "      <td>0.0</td>\n",
       "      <td>0.00</td>\n",
       "      <td>0.95</td>\n",
       "      <td>0.1</td>\n",
       "      <td>5.0</td>\n",
       "      <td>14.0</td>\n",
       "      <td>0.0</td>\n",
       "      <td>0.0</td>\n",
       "      <td>0.0</td>\n",
       "      <td>0.0</td>\n",
       "      <td>1.0</td>\n",
       "      <td>0.0</td>\n",
       "      <td>0.0</td>\n",
       "      <td>0.0</td>\n",
       "      <td>0.0</td>\n",
       "      <td>0.0</td>\n",
       "      <td>0.0</td>\n",
       "      <td>5.0</td>\n",
       "      <td>14.0</td>\n",
       "      <td>1.0</td>\n",
       "      <td>0.0</td>\n",
       "      <td>-1.0</td>\n",
       "      <td>19.0</td>\n",
       "      <td>1016.0</td>\n",
       "      <td>788.0</td>\n",
       "      <td>0.0</td>\n",
       "      <td>0.0</td>\n",
       "      <td>5.0</td>\n",
       "      <td>0.0</td>\n",
       "      <td>0.0</td>\n",
       "      <td>0.0</td>\n",
       "      <td>0.0</td>\n",
       "      <td>0.0</td>\n",
       "      <td>3.94</td>\n",
       "      <td>5.0</td>\n",
       "      <td>0.0</td>\n",
       "      <td>0.0</td>\n",
       "      <td>0.0</td>\n",
       "      <td>0.0</td>\n",
       "      <td>0.005</td>\n",
       "      <td>0.000</td>\n",
       "      <td>0.003</td>\n",
       "      <td>0.0</td>\n",
       "      <td>0.0</td>\n",
       "      <td>0.0</td>\n",
       "      <td>0.0</td>\n",
       "      <td>0.0</td>\n",
       "      <td>0.0</td>\n",
       "      <td>0.0</td>\n",
       "      <td>0.0</td>\n",
       "      <td>0.0</td>\n",
       "    </tr>\n",
       "    <tr>\n",
       "      <th>4</th>\n",
       "      <td>0.0</td>\n",
       "      <td>4.0</td>\n",
       "      <td>212.0</td>\n",
       "      <td>788.0</td>\n",
       "      <td>5.0</td>\n",
       "      <td>0.0</td>\n",
       "      <td>0.0</td>\n",
       "      <td>1.0</td>\n",
       "      <td>0.2</td>\n",
       "      <td>0.4</td>\n",
       "      <td>1.0</td>\n",
       "      <td>0.65</td>\n",
       "      <td>0.0</td>\n",
       "      <td>0.00</td>\n",
       "      <td>0.95</td>\n",
       "      <td>0.1</td>\n",
       "      <td>5.0</td>\n",
       "      <td>14.0</td>\n",
       "      <td>0.0</td>\n",
       "      <td>0.0</td>\n",
       "      <td>0.0</td>\n",
       "      <td>0.0</td>\n",
       "      <td>1.0</td>\n",
       "      <td>0.0</td>\n",
       "      <td>0.0</td>\n",
       "      <td>0.0</td>\n",
       "      <td>0.0</td>\n",
       "      <td>0.0</td>\n",
       "      <td>0.0</td>\n",
       "      <td>5.0</td>\n",
       "      <td>14.0</td>\n",
       "      <td>1.0</td>\n",
       "      <td>0.0</td>\n",
       "      <td>-1.0</td>\n",
       "      <td>8.0</td>\n",
       "      <td>564.0</td>\n",
       "      <td>788.0</td>\n",
       "      <td>0.0</td>\n",
       "      <td>0.0</td>\n",
       "      <td>5.0</td>\n",
       "      <td>0.0</td>\n",
       "      <td>0.0</td>\n",
       "      <td>0.0</td>\n",
       "      <td>0.0</td>\n",
       "      <td>0.0</td>\n",
       "      <td>2.84</td>\n",
       "      <td>5.0</td>\n",
       "      <td>0.0</td>\n",
       "      <td>0.0</td>\n",
       "      <td>0.0</td>\n",
       "      <td>0.0</td>\n",
       "      <td>0.009</td>\n",
       "      <td>0.000</td>\n",
       "      <td>0.004</td>\n",
       "      <td>0.0</td>\n",
       "      <td>0.0</td>\n",
       "      <td>0.0</td>\n",
       "      <td>0.0</td>\n",
       "      <td>0.0</td>\n",
       "      <td>0.0</td>\n",
       "      <td>0.0</td>\n",
       "      <td>0.0</td>\n",
       "      <td>0.0</td>\n",
       "    </tr>\n",
       "    <tr>\n",
       "      <th>...</th>\n",
       "      <td>...</td>\n",
       "      <td>...</td>\n",
       "      <td>...</td>\n",
       "      <td>...</td>\n",
       "      <td>...</td>\n",
       "      <td>...</td>\n",
       "      <td>...</td>\n",
       "      <td>...</td>\n",
       "      <td>...</td>\n",
       "      <td>...</td>\n",
       "      <td>...</td>\n",
       "      <td>...</td>\n",
       "      <td>...</td>\n",
       "      <td>...</td>\n",
       "      <td>...</td>\n",
       "      <td>...</td>\n",
       "      <td>...</td>\n",
       "      <td>...</td>\n",
       "      <td>...</td>\n",
       "      <td>...</td>\n",
       "      <td>...</td>\n",
       "      <td>...</td>\n",
       "      <td>...</td>\n",
       "      <td>...</td>\n",
       "      <td>...</td>\n",
       "      <td>...</td>\n",
       "      <td>...</td>\n",
       "      <td>...</td>\n",
       "      <td>...</td>\n",
       "      <td>...</td>\n",
       "      <td>...</td>\n",
       "      <td>...</td>\n",
       "      <td>...</td>\n",
       "      <td>...</td>\n",
       "      <td>...</td>\n",
       "      <td>...</td>\n",
       "      <td>...</td>\n",
       "      <td>...</td>\n",
       "      <td>...</td>\n",
       "      <td>...</td>\n",
       "      <td>...</td>\n",
       "      <td>...</td>\n",
       "      <td>...</td>\n",
       "      <td>...</td>\n",
       "      <td>...</td>\n",
       "      <td>...</td>\n",
       "      <td>...</td>\n",
       "      <td>...</td>\n",
       "      <td>...</td>\n",
       "      <td>...</td>\n",
       "      <td>...</td>\n",
       "      <td>...</td>\n",
       "      <td>...</td>\n",
       "      <td>...</td>\n",
       "      <td>...</td>\n",
       "      <td>...</td>\n",
       "      <td>...</td>\n",
       "      <td>...</td>\n",
       "      <td>...</td>\n",
       "      <td>...</td>\n",
       "      <td>...</td>\n",
       "      <td>...</td>\n",
       "      <td>...</td>\n",
       "    </tr>\n",
       "    <tr>\n",
       "      <th>399995</th>\n",
       "      <td>199.0</td>\n",
       "      <td>0.0</td>\n",
       "      <td>212.0</td>\n",
       "      <td>788.0</td>\n",
       "      <td>5.0</td>\n",
       "      <td>0.0</td>\n",
       "      <td>0.0</td>\n",
       "      <td>1.0</td>\n",
       "      <td>0.2</td>\n",
       "      <td>0.4</td>\n",
       "      <td>1.0</td>\n",
       "      <td>0.65</td>\n",
       "      <td>0.0</td>\n",
       "      <td>0.95</td>\n",
       "      <td>0.95</td>\n",
       "      <td>0.1</td>\n",
       "      <td>5.0</td>\n",
       "      <td>14.0</td>\n",
       "      <td>1.0</td>\n",
       "      <td>0.0</td>\n",
       "      <td>0.0</td>\n",
       "      <td>0.0</td>\n",
       "      <td>1.0</td>\n",
       "      <td>0.0</td>\n",
       "      <td>0.0</td>\n",
       "      <td>0.0</td>\n",
       "      <td>0.0</td>\n",
       "      <td>0.0</td>\n",
       "      <td>0.0</td>\n",
       "      <td>5.0</td>\n",
       "      <td>14.0</td>\n",
       "      <td>1.0</td>\n",
       "      <td>0.0</td>\n",
       "      <td>-1.0</td>\n",
       "      <td>19.0</td>\n",
       "      <td>1048.0</td>\n",
       "      <td>788.0</td>\n",
       "      <td>0.0</td>\n",
       "      <td>755.0</td>\n",
       "      <td>5.0</td>\n",
       "      <td>0.0</td>\n",
       "      <td>0.0</td>\n",
       "      <td>0.0</td>\n",
       "      <td>0.0</td>\n",
       "      <td>0.0</td>\n",
       "      <td>3.89</td>\n",
       "      <td>5.0</td>\n",
       "      <td>0.0</td>\n",
       "      <td>0.0</td>\n",
       "      <td>0.0</td>\n",
       "      <td>0.0</td>\n",
       "      <td>0.005</td>\n",
       "      <td>0.000</td>\n",
       "      <td>0.003</td>\n",
       "      <td>0.0</td>\n",
       "      <td>0.0</td>\n",
       "      <td>0.0</td>\n",
       "      <td>0.0</td>\n",
       "      <td>0.0</td>\n",
       "      <td>0.0</td>\n",
       "      <td>0.0</td>\n",
       "      <td>0.0</td>\n",
       "      <td>0.0</td>\n",
       "    </tr>\n",
       "    <tr>\n",
       "      <th>399996</th>\n",
       "      <td>199.0</td>\n",
       "      <td>1.0</td>\n",
       "      <td>212.0</td>\n",
       "      <td>788.0</td>\n",
       "      <td>5.0</td>\n",
       "      <td>0.0</td>\n",
       "      <td>0.0</td>\n",
       "      <td>1.0</td>\n",
       "      <td>0.2</td>\n",
       "      <td>0.4</td>\n",
       "      <td>1.0</td>\n",
       "      <td>0.65</td>\n",
       "      <td>0.0</td>\n",
       "      <td>0.95</td>\n",
       "      <td>0.95</td>\n",
       "      <td>0.1</td>\n",
       "      <td>5.0</td>\n",
       "      <td>14.0</td>\n",
       "      <td>1.0</td>\n",
       "      <td>0.0</td>\n",
       "      <td>0.0</td>\n",
       "      <td>0.0</td>\n",
       "      <td>1.0</td>\n",
       "      <td>0.0</td>\n",
       "      <td>0.0</td>\n",
       "      <td>0.0</td>\n",
       "      <td>0.0</td>\n",
       "      <td>0.0</td>\n",
       "      <td>0.0</td>\n",
       "      <td>5.0</td>\n",
       "      <td>14.0</td>\n",
       "      <td>1.0</td>\n",
       "      <td>0.0</td>\n",
       "      <td>-1.0</td>\n",
       "      <td>19.0</td>\n",
       "      <td>1028.0</td>\n",
       "      <td>788.0</td>\n",
       "      <td>0.0</td>\n",
       "      <td>755.0</td>\n",
       "      <td>5.0</td>\n",
       "      <td>0.0</td>\n",
       "      <td>0.0</td>\n",
       "      <td>0.0</td>\n",
       "      <td>0.0</td>\n",
       "      <td>0.0</td>\n",
       "      <td>3.99</td>\n",
       "      <td>5.0</td>\n",
       "      <td>0.0</td>\n",
       "      <td>0.0</td>\n",
       "      <td>0.0</td>\n",
       "      <td>0.0</td>\n",
       "      <td>0.005</td>\n",
       "      <td>0.000</td>\n",
       "      <td>0.003</td>\n",
       "      <td>0.0</td>\n",
       "      <td>0.0</td>\n",
       "      <td>0.0</td>\n",
       "      <td>0.0</td>\n",
       "      <td>0.0</td>\n",
       "      <td>0.0</td>\n",
       "      <td>0.0</td>\n",
       "      <td>0.0</td>\n",
       "      <td>0.0</td>\n",
       "    </tr>\n",
       "    <tr>\n",
       "      <th>399997</th>\n",
       "      <td>199.0</td>\n",
       "      <td>2.0</td>\n",
       "      <td>212.0</td>\n",
       "      <td>788.0</td>\n",
       "      <td>5.0</td>\n",
       "      <td>0.0</td>\n",
       "      <td>0.0</td>\n",
       "      <td>1.0</td>\n",
       "      <td>0.2</td>\n",
       "      <td>0.4</td>\n",
       "      <td>1.0</td>\n",
       "      <td>0.65</td>\n",
       "      <td>0.0</td>\n",
       "      <td>0.95</td>\n",
       "      <td>0.95</td>\n",
       "      <td>0.1</td>\n",
       "      <td>5.0</td>\n",
       "      <td>14.0</td>\n",
       "      <td>1.0</td>\n",
       "      <td>0.0</td>\n",
       "      <td>0.0</td>\n",
       "      <td>0.0</td>\n",
       "      <td>1.0</td>\n",
       "      <td>0.0</td>\n",
       "      <td>0.0</td>\n",
       "      <td>0.0</td>\n",
       "      <td>0.0</td>\n",
       "      <td>0.0</td>\n",
       "      <td>0.0</td>\n",
       "      <td>5.0</td>\n",
       "      <td>14.0</td>\n",
       "      <td>1.0</td>\n",
       "      <td>0.0</td>\n",
       "      <td>-1.0</td>\n",
       "      <td>19.0</td>\n",
       "      <td>1042.0</td>\n",
       "      <td>788.0</td>\n",
       "      <td>0.0</td>\n",
       "      <td>755.0</td>\n",
       "      <td>5.0</td>\n",
       "      <td>0.0</td>\n",
       "      <td>0.0</td>\n",
       "      <td>0.0</td>\n",
       "      <td>0.0</td>\n",
       "      <td>0.0</td>\n",
       "      <td>3.85</td>\n",
       "      <td>5.0</td>\n",
       "      <td>0.0</td>\n",
       "      <td>0.0</td>\n",
       "      <td>0.0</td>\n",
       "      <td>0.0</td>\n",
       "      <td>0.005</td>\n",
       "      <td>0.000</td>\n",
       "      <td>0.003</td>\n",
       "      <td>0.0</td>\n",
       "      <td>0.0</td>\n",
       "      <td>0.0</td>\n",
       "      <td>0.0</td>\n",
       "      <td>0.0</td>\n",
       "      <td>0.0</td>\n",
       "      <td>0.0</td>\n",
       "      <td>0.0</td>\n",
       "      <td>0.0</td>\n",
       "    </tr>\n",
       "    <tr>\n",
       "      <th>399998</th>\n",
       "      <td>199.0</td>\n",
       "      <td>3.0</td>\n",
       "      <td>212.0</td>\n",
       "      <td>788.0</td>\n",
       "      <td>5.0</td>\n",
       "      <td>0.0</td>\n",
       "      <td>0.0</td>\n",
       "      <td>1.0</td>\n",
       "      <td>0.2</td>\n",
       "      <td>0.4</td>\n",
       "      <td>1.0</td>\n",
       "      <td>0.65</td>\n",
       "      <td>0.0</td>\n",
       "      <td>0.95</td>\n",
       "      <td>0.95</td>\n",
       "      <td>0.1</td>\n",
       "      <td>5.0</td>\n",
       "      <td>14.0</td>\n",
       "      <td>1.0</td>\n",
       "      <td>0.0</td>\n",
       "      <td>0.0</td>\n",
       "      <td>0.0</td>\n",
       "      <td>1.0</td>\n",
       "      <td>0.0</td>\n",
       "      <td>0.0</td>\n",
       "      <td>0.0</td>\n",
       "      <td>0.0</td>\n",
       "      <td>0.0</td>\n",
       "      <td>0.0</td>\n",
       "      <td>5.0</td>\n",
       "      <td>14.0</td>\n",
       "      <td>1.0</td>\n",
       "      <td>0.0</td>\n",
       "      <td>-1.0</td>\n",
       "      <td>19.0</td>\n",
       "      <td>1041.0</td>\n",
       "      <td>788.0</td>\n",
       "      <td>0.0</td>\n",
       "      <td>755.0</td>\n",
       "      <td>5.0</td>\n",
       "      <td>0.0</td>\n",
       "      <td>0.0</td>\n",
       "      <td>0.0</td>\n",
       "      <td>0.0</td>\n",
       "      <td>0.0</td>\n",
       "      <td>3.87</td>\n",
       "      <td>5.0</td>\n",
       "      <td>0.0</td>\n",
       "      <td>0.0</td>\n",
       "      <td>0.0</td>\n",
       "      <td>0.0</td>\n",
       "      <td>0.005</td>\n",
       "      <td>0.000</td>\n",
       "      <td>0.003</td>\n",
       "      <td>0.0</td>\n",
       "      <td>0.0</td>\n",
       "      <td>0.0</td>\n",
       "      <td>0.0</td>\n",
       "      <td>0.0</td>\n",
       "      <td>0.0</td>\n",
       "      <td>0.0</td>\n",
       "      <td>0.0</td>\n",
       "      <td>0.0</td>\n",
       "    </tr>\n",
       "    <tr>\n",
       "      <th>399999</th>\n",
       "      <td>199.0</td>\n",
       "      <td>4.0</td>\n",
       "      <td>212.0</td>\n",
       "      <td>788.0</td>\n",
       "      <td>5.0</td>\n",
       "      <td>0.0</td>\n",
       "      <td>0.0</td>\n",
       "      <td>1.0</td>\n",
       "      <td>0.2</td>\n",
       "      <td>0.4</td>\n",
       "      <td>1.0</td>\n",
       "      <td>0.65</td>\n",
       "      <td>0.0</td>\n",
       "      <td>0.95</td>\n",
       "      <td>0.95</td>\n",
       "      <td>0.1</td>\n",
       "      <td>5.0</td>\n",
       "      <td>14.0</td>\n",
       "      <td>1.0</td>\n",
       "      <td>0.0</td>\n",
       "      <td>0.0</td>\n",
       "      <td>0.0</td>\n",
       "      <td>1.0</td>\n",
       "      <td>0.0</td>\n",
       "      <td>0.0</td>\n",
       "      <td>0.0</td>\n",
       "      <td>0.0</td>\n",
       "      <td>0.0</td>\n",
       "      <td>0.0</td>\n",
       "      <td>5.0</td>\n",
       "      <td>14.0</td>\n",
       "      <td>1.0</td>\n",
       "      <td>0.0</td>\n",
       "      <td>-1.0</td>\n",
       "      <td>25.0</td>\n",
       "      <td>1235.0</td>\n",
       "      <td>788.0</td>\n",
       "      <td>0.0</td>\n",
       "      <td>755.0</td>\n",
       "      <td>5.0</td>\n",
       "      <td>1.0</td>\n",
       "      <td>0.0</td>\n",
       "      <td>1.0</td>\n",
       "      <td>0.0</td>\n",
       "      <td>0.0</td>\n",
       "      <td>4.37</td>\n",
       "      <td>5.0</td>\n",
       "      <td>0.0</td>\n",
       "      <td>0.0</td>\n",
       "      <td>0.2</td>\n",
       "      <td>1.0</td>\n",
       "      <td>0.004</td>\n",
       "      <td>0.001</td>\n",
       "      <td>0.003</td>\n",
       "      <td>0.0</td>\n",
       "      <td>0.0</td>\n",
       "      <td>19.0</td>\n",
       "      <td>0.0</td>\n",
       "      <td>0.0</td>\n",
       "      <td>0.0</td>\n",
       "      <td>0.0</td>\n",
       "      <td>19.0</td>\n",
       "      <td>0.0</td>\n",
       "    </tr>\n",
       "  </tbody>\n",
       "</table>\n",
       "<p>400000 rows × 63 columns</p>\n",
       "</div>"
      ],
      "text/plain": [
       "            i    j    pat    hcw    B  %ILI  GPL    Z    D    Y   YY     A  \\\n",
       "0         0.0  0.0  212.0  788.0  5.0   0.0  0.0  1.0  0.2  0.4  1.0  0.65   \n",
       "1         0.0  1.0  212.0  788.0  5.0   0.0  0.0  1.0  0.2  0.4  1.0  0.65   \n",
       "2         0.0  2.0  212.0  788.0  5.0   0.0  0.0  1.0  0.2  0.4  1.0  0.65   \n",
       "3         0.0  3.0  212.0  788.0  5.0   0.0  0.0  1.0  0.2  0.4  1.0  0.65   \n",
       "4         0.0  4.0  212.0  788.0  5.0   0.0  0.0  1.0  0.2  0.4  1.0  0.65   \n",
       "...       ...  ...    ...    ...  ...   ...  ...  ...  ...  ...  ...   ...   \n",
       "399995  199.0  0.0  212.0  788.0  5.0   0.0  0.0  1.0  0.2  0.4  1.0  0.65   \n",
       "399996  199.0  1.0  212.0  788.0  5.0   0.0  0.0  1.0  0.2  0.4  1.0  0.65   \n",
       "399997  199.0  2.0  212.0  788.0  5.0   0.0  0.0  1.0  0.2  0.4  1.0  0.65   \n",
       "399998  199.0  3.0  212.0  788.0  5.0   0.0  0.0  1.0  0.2  0.4  1.0  0.65   \n",
       "399999  199.0  4.0  212.0  788.0  5.0   0.0  0.0  1.0  0.2  0.4  1.0  0.65   \n",
       "\n",
       "          X     E     S    I    W     T   VB   UB    V   VO   VX    P   VC  \\\n",
       "0       0.0  0.00  0.95  0.1  5.0  14.0  0.0  0.0  0.0  0.0  1.0  0.0  0.0   \n",
       "1       0.0  0.00  0.95  0.1  5.0  14.0  0.0  0.0  0.0  0.0  1.0  0.0  0.0   \n",
       "2       0.0  0.00  0.95  0.1  5.0  14.0  0.0  0.0  0.0  0.0  1.0  0.0  0.0   \n",
       "3       0.0  0.00  0.95  0.1  5.0  14.0  0.0  0.0  0.0  0.0  1.0  0.0  0.0   \n",
       "4       0.0  0.00  0.95  0.1  5.0  14.0  0.0  0.0  0.0  0.0  1.0  0.0  0.0   \n",
       "...     ...   ...   ...  ...  ...   ...  ...  ...  ...  ...  ...  ...  ...   \n",
       "399995  0.0  0.95  0.95  0.1  5.0  14.0  1.0  0.0  0.0  0.0  1.0  0.0  0.0   \n",
       "399996  0.0  0.95  0.95  0.1  5.0  14.0  1.0  0.0  0.0  0.0  1.0  0.0  0.0   \n",
       "399997  0.0  0.95  0.95  0.1  5.0  14.0  1.0  0.0  0.0  0.0  1.0  0.0  0.0   \n",
       "399998  0.0  0.95  0.95  0.1  5.0  14.0  1.0  0.0  0.0  0.0  1.0  0.0  0.0   \n",
       "399999  0.0  0.95  0.95  0.1  5.0  14.0  1.0  0.0  0.0  0.0  1.0  0.0  0.0   \n",
       "\n",
       "         VS   VT   Q1   Q2   QS    QT  MPC  MPT  MPS  #rounds  #totpat  \\\n",
       "0       0.0  0.0  0.0  0.0  5.0  14.0  1.0  0.0 -1.0     19.0   1011.0   \n",
       "1       0.0  0.0  0.0  0.0  5.0  14.0  1.0  0.0 -1.0     14.0    834.0   \n",
       "2       0.0  0.0  0.0  0.0  5.0  14.0  1.0  0.0 -1.0     19.0    995.0   \n",
       "3       0.0  0.0  0.0  0.0  5.0  14.0  1.0  0.0 -1.0     19.0   1016.0   \n",
       "4       0.0  0.0  0.0  0.0  5.0  14.0  1.0  0.0 -1.0      8.0    564.0   \n",
       "...     ...  ...  ...  ...  ...   ...  ...  ...  ...      ...      ...   \n",
       "399995  0.0  0.0  0.0  0.0  5.0  14.0  1.0  0.0 -1.0     19.0   1048.0   \n",
       "399996  0.0  0.0  0.0  0.0  5.0  14.0  1.0  0.0 -1.0     19.0   1028.0   \n",
       "399997  0.0  0.0  0.0  0.0  5.0  14.0  1.0  0.0 -1.0     19.0   1042.0   \n",
       "399998  0.0  0.0  0.0  0.0  5.0  14.0  1.0  0.0 -1.0     19.0   1041.0   \n",
       "399999  0.0  0.0  0.0  0.0  5.0  14.0  1.0  0.0 -1.0     25.0   1235.0   \n",
       "\n",
       "        #tothcw  #vacpat  #vachcw  #infpat  #infhcw  #hcwpat  #pathcw  \\\n",
       "0         788.0      0.0      0.0      5.0      0.0      0.0      0.0   \n",
       "1         788.0      0.0      0.0      5.0      0.0      0.0      0.0   \n",
       "2         788.0      0.0      0.0      5.0      0.0      0.0      0.0   \n",
       "3         788.0      0.0      0.0      5.0      0.0      0.0      0.0   \n",
       "4         788.0      0.0      0.0      5.0      0.0      0.0      0.0   \n",
       "...         ...      ...      ...      ...      ...      ...      ...   \n",
       "399995    788.0      0.0    755.0      5.0      0.0      0.0      0.0   \n",
       "399996    788.0      0.0    755.0      5.0      0.0      0.0      0.0   \n",
       "399997    788.0      0.0    755.0      5.0      0.0      0.0      0.0   \n",
       "399998    788.0      0.0    755.0      5.0      0.0      0.0      0.0   \n",
       "399999    788.0      0.0    755.0      5.0      1.0      0.0      1.0   \n",
       "\n",
       "        #hcwhcw  #sickdays  #avglos  npat0  nhcw0  new_infected   R0  \\\n",
       "0           0.0        0.0     3.79    5.0    0.0           0.0  0.0   \n",
       "1           0.0        0.0     3.51    5.0    0.0           0.0  0.0   \n",
       "2           0.0        0.0     3.96    5.0    0.0           0.0  0.0   \n",
       "3           0.0        0.0     3.94    5.0    0.0           0.0  0.0   \n",
       "4           0.0        0.0     2.84    5.0    0.0           0.0  0.0   \n",
       "...         ...        ...      ...    ...    ...           ...  ...   \n",
       "399995      0.0        0.0     3.89    5.0    0.0           0.0  0.0   \n",
       "399996      0.0        0.0     3.99    5.0    0.0           0.0  0.0   \n",
       "399997      0.0        0.0     3.85    5.0    0.0           0.0  0.0   \n",
       "399998      0.0        0.0     3.87    5.0    0.0           0.0  0.0   \n",
       "399999      0.0        0.0     4.37    5.0    0.0           0.0  0.2   \n",
       "\n",
       "        secondary_infect   %pat   %hcw  %total  first_test  first_day  \\\n",
       "0                    0.0  0.005  0.000   0.003         0.0        0.0   \n",
       "1                    0.0  0.006  0.000   0.003         0.0        0.0   \n",
       "2                    0.0  0.005  0.000   0.003         0.0        0.0   \n",
       "3                    0.0  0.005  0.000   0.003         0.0        0.0   \n",
       "4                    0.0  0.009  0.000   0.004         0.0        0.0   \n",
       "...                  ...    ...    ...     ...         ...        ...   \n",
       "399995               0.0  0.005  0.000   0.003         0.0        0.0   \n",
       "399996               0.0  0.005  0.000   0.003         0.0        0.0   \n",
       "399997               0.0  0.005  0.000   0.003         0.0        0.0   \n",
       "399998               0.0  0.005  0.000   0.003         0.0        0.0   \n",
       "399999               1.0  0.004  0.001   0.003         0.0        0.0   \n",
       "\n",
       "        sum_days_sym  hcw_infected  pat_infected  %first_test  %first_day  \\\n",
       "0                0.0           0.0           0.0          0.0         0.0   \n",
       "1                0.0           0.0           0.0          0.0         0.0   \n",
       "2                0.0           0.0           0.0          0.0         0.0   \n",
       "3                0.0           0.0           0.0          0.0         0.0   \n",
       "4                0.0           0.0           0.0          0.0         0.0   \n",
       "...              ...           ...           ...          ...         ...   \n",
       "399995           0.0           0.0           0.0          0.0         0.0   \n",
       "399996           0.0           0.0           0.0          0.0         0.0   \n",
       "399997           0.0           0.0           0.0          0.0         0.0   \n",
       "399998           0.0           0.0           0.0          0.0         0.0   \n",
       "399999          19.0           0.0           0.0          0.0         0.0   \n",
       "\n",
       "        sum_days_all  %infectivity  \n",
       "0                0.0           0.0  \n",
       "1                0.0           0.0  \n",
       "2                0.0           0.0  \n",
       "3                0.0           0.0  \n",
       "4                0.0           0.0  \n",
       "...              ...           ...  \n",
       "399995           0.0           0.0  \n",
       "399996           0.0           0.0  \n",
       "399997           0.0           0.0  \n",
       "399998           0.0           0.0  \n",
       "399999          19.0           0.0  \n",
       "\n",
       "[400000 rows x 63 columns]"
      ]
     },
     "execution_count": 39,
     "metadata": {},
     "output_type": "execute_result"
    }
   ],
   "source": [
    "# Create new dataframe that is a subset of the total dataframe\n",
    "df_new = data_parsing(df_total, sim_dict)\n",
    "df_new"
   ]
  },
  {
   "cell_type": "code",
   "execution_count": 235,
   "metadata": {},
   "outputs": [],
   "source": [
    "#df_new.loc[df_new['#rounds'] == 100]"
   ]
  },
  {
   "cell_type": "code",
   "execution_count": 28,
   "metadata": {},
   "outputs": [],
   "source": [
    "# Create a dataframe of ONLY the simulations where the disease was propagated\n",
    "df_prop           = df_new[df_new[\"R0\"] != 0]\n",
    "df_prop_sim_means = df_prop.groupby(['E','VB'], as_index=False).mean()"
   ]
  },
  {
   "cell_type": "code",
   "execution_count": 40,
   "metadata": {},
   "outputs": [
    {
     "data": {
      "text/html": [
       "<div>\n",
       "<style scoped>\n",
       "    .dataframe tbody tr th:only-of-type {\n",
       "        vertical-align: middle;\n",
       "    }\n",
       "\n",
       "    .dataframe tbody tr th {\n",
       "        vertical-align: top;\n",
       "    }\n",
       "\n",
       "    .dataframe thead th {\n",
       "        text-align: right;\n",
       "    }\n",
       "</style>\n",
       "<table border=\"1\" class=\"dataframe\">\n",
       "  <thead>\n",
       "    <tr style=\"text-align: right;\">\n",
       "      <th></th>\n",
       "      <th>#Model</th>\n",
       "      <th>N</th>\n",
       "      <th>pat</th>\n",
       "      <th>hcw</th>\n",
       "      <th>B</th>\n",
       "      <th>%ILI</th>\n",
       "      <th>GPL</th>\n",
       "      <th>Z</th>\n",
       "      <th>D</th>\n",
       "      <th>Y</th>\n",
       "      <th>YY</th>\n",
       "      <th>A</th>\n",
       "      <th>X</th>\n",
       "      <th>E</th>\n",
       "      <th>S</th>\n",
       "      <th>I</th>\n",
       "      <th>W</th>\n",
       "      <th>T</th>\n",
       "      <th>VB</th>\n",
       "      <th>UB</th>\n",
       "      <th>V</th>\n",
       "      <th>VO</th>\n",
       "      <th>VX</th>\n",
       "      <th>P</th>\n",
       "      <th>VC</th>\n",
       "      <th>VS</th>\n",
       "      <th>VT</th>\n",
       "      <th>Q1</th>\n",
       "      <th>Q2</th>\n",
       "      <th>QS</th>\n",
       "      <th>QT</th>\n",
       "      <th>MPC</th>\n",
       "      <th>MPT</th>\n",
       "      <th>MPS</th>\n",
       "      <th>#rounds</th>\n",
       "      <th>#totpat</th>\n",
       "      <th>#tothcw</th>\n",
       "      <th>#vacpat</th>\n",
       "      <th>#vachcw</th>\n",
       "      <th>#infpat</th>\n",
       "      <th>#infhcw</th>\n",
       "      <th>#hcwpat</th>\n",
       "      <th>#pathcw</th>\n",
       "      <th>#hcwhcw</th>\n",
       "      <th>#sickdays</th>\n",
       "      <th>#avglos</th>\n",
       "      <th>npat0</th>\n",
       "      <th>nhcw0</th>\n",
       "      <th>new_infected</th>\n",
       "      <th>R0</th>\n",
       "      <th>secondary_infect</th>\n",
       "      <th>%pat</th>\n",
       "      <th>%hcw</th>\n",
       "      <th>%total</th>\n",
       "      <th>first_test</th>\n",
       "      <th>first_day</th>\n",
       "      <th>sum_days_sym</th>\n",
       "      <th>hcw_infected</th>\n",
       "      <th>pat_infected</th>\n",
       "      <th>%first_test</th>\n",
       "      <th>%first_day</th>\n",
       "      <th>sum_days_all</th>\n",
       "      <th>%infectivity</th>\n",
       "    </tr>\n",
       "  </thead>\n",
       "  <tbody>\n",
       "    <tr>\n",
       "      <th>0</th>\n",
       "      <td>0.0</td>\n",
       "      <td>5.0</td>\n",
       "      <td>212.0</td>\n",
       "      <td>788.0</td>\n",
       "      <td>5.0</td>\n",
       "      <td>0.0</td>\n",
       "      <td>0.0</td>\n",
       "      <td>1.0</td>\n",
       "      <td>0.2</td>\n",
       "      <td>0.4</td>\n",
       "      <td>1.0</td>\n",
       "      <td>0.65</td>\n",
       "      <td>0.0</td>\n",
       "      <td>0.00</td>\n",
       "      <td>0.95</td>\n",
       "      <td>0.1</td>\n",
       "      <td>5.0</td>\n",
       "      <td>14.0</td>\n",
       "      <td>0.0</td>\n",
       "      <td>0.0</td>\n",
       "      <td>0.0</td>\n",
       "      <td>0.0</td>\n",
       "      <td>1.0</td>\n",
       "      <td>0.0</td>\n",
       "      <td>0.0</td>\n",
       "      <td>0.0</td>\n",
       "      <td>0.0</td>\n",
       "      <td>0.0</td>\n",
       "      <td>0.0</td>\n",
       "      <td>5.0</td>\n",
       "      <td>14.0</td>\n",
       "      <td>1.0</td>\n",
       "      <td>0.0</td>\n",
       "      <td>-1.0</td>\n",
       "      <td>15.8</td>\n",
       "      <td>884.0</td>\n",
       "      <td>788.0</td>\n",
       "      <td>0.0</td>\n",
       "      <td>0.0</td>\n",
       "      <td>5.0</td>\n",
       "      <td>0.0</td>\n",
       "      <td>0.0</td>\n",
       "      <td>0.0</td>\n",
       "      <td>0.0</td>\n",
       "      <td>0.0</td>\n",
       "      <td>3.608</td>\n",
       "      <td>5.0</td>\n",
       "      <td>0.0</td>\n",
       "      <td>0.0</td>\n",
       "      <td>0.00</td>\n",
       "      <td>0.0</td>\n",
       "      <td>0.0060</td>\n",
       "      <td>0.0000</td>\n",
       "      <td>0.0032</td>\n",
       "      <td>0.0</td>\n",
       "      <td>0.0</td>\n",
       "      <td>0.0</td>\n",
       "      <td>0.0</td>\n",
       "      <td>0.0</td>\n",
       "      <td>0.0</td>\n",
       "      <td>0.0</td>\n",
       "      <td>0.0</td>\n",
       "      <td>0.0</td>\n",
       "    </tr>\n",
       "    <tr>\n",
       "      <th>1</th>\n",
       "      <td>1.0</td>\n",
       "      <td>5.0</td>\n",
       "      <td>212.0</td>\n",
       "      <td>788.0</td>\n",
       "      <td>5.0</td>\n",
       "      <td>0.0</td>\n",
       "      <td>0.0</td>\n",
       "      <td>1.0</td>\n",
       "      <td>0.2</td>\n",
       "      <td>0.4</td>\n",
       "      <td>1.0</td>\n",
       "      <td>0.65</td>\n",
       "      <td>0.0</td>\n",
       "      <td>0.00</td>\n",
       "      <td>0.95</td>\n",
       "      <td>0.1</td>\n",
       "      <td>5.0</td>\n",
       "      <td>14.0</td>\n",
       "      <td>0.0</td>\n",
       "      <td>0.0</td>\n",
       "      <td>0.0</td>\n",
       "      <td>0.0</td>\n",
       "      <td>1.0</td>\n",
       "      <td>0.0</td>\n",
       "      <td>0.0</td>\n",
       "      <td>0.0</td>\n",
       "      <td>0.0</td>\n",
       "      <td>0.0</td>\n",
       "      <td>0.0</td>\n",
       "      <td>5.0</td>\n",
       "      <td>14.0</td>\n",
       "      <td>1.0</td>\n",
       "      <td>0.0</td>\n",
       "      <td>-1.0</td>\n",
       "      <td>49.2</td>\n",
       "      <td>2238.2</td>\n",
       "      <td>788.0</td>\n",
       "      <td>0.0</td>\n",
       "      <td>0.0</td>\n",
       "      <td>124.8</td>\n",
       "      <td>249.2</td>\n",
       "      <td>119.8</td>\n",
       "      <td>35.8</td>\n",
       "      <td>213.4</td>\n",
       "      <td>0.0</td>\n",
       "      <td>4.378</td>\n",
       "      <td>5.0</td>\n",
       "      <td>0.0</td>\n",
       "      <td>0.0</td>\n",
       "      <td>0.88</td>\n",
       "      <td>369.0</td>\n",
       "      <td>0.0328</td>\n",
       "      <td>0.3162</td>\n",
       "      <td>0.0778</td>\n",
       "      <td>0.0</td>\n",
       "      <td>0.0</td>\n",
       "      <td>2892.4</td>\n",
       "      <td>179.6</td>\n",
       "      <td>102.6</td>\n",
       "      <td>0.0</td>\n",
       "      <td>0.0</td>\n",
       "      <td>4727.6</td>\n",
       "      <td>0.0</td>\n",
       "    </tr>\n",
       "    <tr>\n",
       "      <th>2</th>\n",
       "      <td>2.0</td>\n",
       "      <td>5.0</td>\n",
       "      <td>212.0</td>\n",
       "      <td>788.0</td>\n",
       "      <td>5.0</td>\n",
       "      <td>0.0</td>\n",
       "      <td>0.0</td>\n",
       "      <td>1.0</td>\n",
       "      <td>0.2</td>\n",
       "      <td>0.4</td>\n",
       "      <td>1.0</td>\n",
       "      <td>0.65</td>\n",
       "      <td>0.0</td>\n",
       "      <td>0.00</td>\n",
       "      <td>0.95</td>\n",
       "      <td>0.1</td>\n",
       "      <td>5.0</td>\n",
       "      <td>14.0</td>\n",
       "      <td>0.0</td>\n",
       "      <td>0.0</td>\n",
       "      <td>0.0</td>\n",
       "      <td>0.0</td>\n",
       "      <td>1.0</td>\n",
       "      <td>0.0</td>\n",
       "      <td>0.0</td>\n",
       "      <td>0.0</td>\n",
       "      <td>0.0</td>\n",
       "      <td>0.0</td>\n",
       "      <td>0.0</td>\n",
       "      <td>5.0</td>\n",
       "      <td>14.0</td>\n",
       "      <td>1.0</td>\n",
       "      <td>0.0</td>\n",
       "      <td>-1.0</td>\n",
       "      <td>25.0</td>\n",
       "      <td>1229.6</td>\n",
       "      <td>788.0</td>\n",
       "      <td>0.0</td>\n",
       "      <td>0.0</td>\n",
       "      <td>59.6</td>\n",
       "      <td>103.4</td>\n",
       "      <td>54.6</td>\n",
       "      <td>16.2</td>\n",
       "      <td>87.2</td>\n",
       "      <td>0.0</td>\n",
       "      <td>3.056</td>\n",
       "      <td>5.0</td>\n",
       "      <td>0.0</td>\n",
       "      <td>0.0</td>\n",
       "      <td>0.48</td>\n",
       "      <td>158.0</td>\n",
       "      <td>0.0218</td>\n",
       "      <td>0.1312</td>\n",
       "      <td>0.0348</td>\n",
       "      <td>0.0</td>\n",
       "      <td>0.0</td>\n",
       "      <td>1170.4</td>\n",
       "      <td>68.8</td>\n",
       "      <td>48.4</td>\n",
       "      <td>0.0</td>\n",
       "      <td>0.0</td>\n",
       "      <td>1964.6</td>\n",
       "      <td>0.0</td>\n",
       "    </tr>\n",
       "    <tr>\n",
       "      <th>3</th>\n",
       "      <td>3.0</td>\n",
       "      <td>5.0</td>\n",
       "      <td>212.0</td>\n",
       "      <td>788.0</td>\n",
       "      <td>5.0</td>\n",
       "      <td>0.0</td>\n",
       "      <td>0.0</td>\n",
       "      <td>1.0</td>\n",
       "      <td>0.2</td>\n",
       "      <td>0.4</td>\n",
       "      <td>1.0</td>\n",
       "      <td>0.65</td>\n",
       "      <td>0.0</td>\n",
       "      <td>0.00</td>\n",
       "      <td>0.95</td>\n",
       "      <td>0.1</td>\n",
       "      <td>5.0</td>\n",
       "      <td>14.0</td>\n",
       "      <td>0.0</td>\n",
       "      <td>0.0</td>\n",
       "      <td>0.0</td>\n",
       "      <td>0.0</td>\n",
       "      <td>1.0</td>\n",
       "      <td>0.0</td>\n",
       "      <td>0.0</td>\n",
       "      <td>0.0</td>\n",
       "      <td>0.0</td>\n",
       "      <td>0.0</td>\n",
       "      <td>0.0</td>\n",
       "      <td>5.0</td>\n",
       "      <td>14.0</td>\n",
       "      <td>1.0</td>\n",
       "      <td>0.0</td>\n",
       "      <td>-1.0</td>\n",
       "      <td>61.0</td>\n",
       "      <td>2648.4</td>\n",
       "      <td>788.0</td>\n",
       "      <td>0.0</td>\n",
       "      <td>0.0</td>\n",
       "      <td>203.4</td>\n",
       "      <td>364.0</td>\n",
       "      <td>198.4</td>\n",
       "      <td>58.8</td>\n",
       "      <td>305.2</td>\n",
       "      <td>0.0</td>\n",
       "      <td>4.658</td>\n",
       "      <td>5.0</td>\n",
       "      <td>0.0</td>\n",
       "      <td>0.0</td>\n",
       "      <td>0.96</td>\n",
       "      <td>562.4</td>\n",
       "      <td>0.0560</td>\n",
       "      <td>0.4618</td>\n",
       "      <td>0.1262</td>\n",
       "      <td>0.0</td>\n",
       "      <td>0.0</td>\n",
       "      <td>4088.8</td>\n",
       "      <td>254.2</td>\n",
       "      <td>170.2</td>\n",
       "      <td>0.0</td>\n",
       "      <td>0.0</td>\n",
       "      <td>6916.0</td>\n",
       "      <td>0.0</td>\n",
       "    </tr>\n",
       "    <tr>\n",
       "      <th>4</th>\n",
       "      <td>4.0</td>\n",
       "      <td>5.0</td>\n",
       "      <td>212.0</td>\n",
       "      <td>788.0</td>\n",
       "      <td>5.0</td>\n",
       "      <td>0.0</td>\n",
       "      <td>0.0</td>\n",
       "      <td>1.0</td>\n",
       "      <td>0.2</td>\n",
       "      <td>0.4</td>\n",
       "      <td>1.0</td>\n",
       "      <td>0.65</td>\n",
       "      <td>0.0</td>\n",
       "      <td>0.00</td>\n",
       "      <td>0.95</td>\n",
       "      <td>0.1</td>\n",
       "      <td>5.0</td>\n",
       "      <td>14.0</td>\n",
       "      <td>0.0</td>\n",
       "      <td>0.0</td>\n",
       "      <td>0.0</td>\n",
       "      <td>0.0</td>\n",
       "      <td>1.0</td>\n",
       "      <td>0.0</td>\n",
       "      <td>0.0</td>\n",
       "      <td>0.0</td>\n",
       "      <td>0.0</td>\n",
       "      <td>0.0</td>\n",
       "      <td>0.0</td>\n",
       "      <td>5.0</td>\n",
       "      <td>14.0</td>\n",
       "      <td>1.0</td>\n",
       "      <td>0.0</td>\n",
       "      <td>-1.0</td>\n",
       "      <td>48.4</td>\n",
       "      <td>2217.8</td>\n",
       "      <td>788.0</td>\n",
       "      <td>0.0</td>\n",
       "      <td>0.0</td>\n",
       "      <td>122.6</td>\n",
       "      <td>237.4</td>\n",
       "      <td>117.6</td>\n",
       "      <td>50.8</td>\n",
       "      <td>186.6</td>\n",
       "      <td>0.0</td>\n",
       "      <td>3.976</td>\n",
       "      <td>5.0</td>\n",
       "      <td>0.0</td>\n",
       "      <td>0.0</td>\n",
       "      <td>0.80</td>\n",
       "      <td>355.0</td>\n",
       "      <td>0.0320</td>\n",
       "      <td>0.3012</td>\n",
       "      <td>0.0714</td>\n",
       "      <td>0.0</td>\n",
       "      <td>0.0</td>\n",
       "      <td>2665.6</td>\n",
       "      <td>161.0</td>\n",
       "      <td>102.2</td>\n",
       "      <td>0.0</td>\n",
       "      <td>0.0</td>\n",
       "      <td>4503.4</td>\n",
       "      <td>0.0</td>\n",
       "    </tr>\n",
       "    <tr>\n",
       "      <th>...</th>\n",
       "      <td>...</td>\n",
       "      <td>...</td>\n",
       "      <td>...</td>\n",
       "      <td>...</td>\n",
       "      <td>...</td>\n",
       "      <td>...</td>\n",
       "      <td>...</td>\n",
       "      <td>...</td>\n",
       "      <td>...</td>\n",
       "      <td>...</td>\n",
       "      <td>...</td>\n",
       "      <td>...</td>\n",
       "      <td>...</td>\n",
       "      <td>...</td>\n",
       "      <td>...</td>\n",
       "      <td>...</td>\n",
       "      <td>...</td>\n",
       "      <td>...</td>\n",
       "      <td>...</td>\n",
       "      <td>...</td>\n",
       "      <td>...</td>\n",
       "      <td>...</td>\n",
       "      <td>...</td>\n",
       "      <td>...</td>\n",
       "      <td>...</td>\n",
       "      <td>...</td>\n",
       "      <td>...</td>\n",
       "      <td>...</td>\n",
       "      <td>...</td>\n",
       "      <td>...</td>\n",
       "      <td>...</td>\n",
       "      <td>...</td>\n",
       "      <td>...</td>\n",
       "      <td>...</td>\n",
       "      <td>...</td>\n",
       "      <td>...</td>\n",
       "      <td>...</td>\n",
       "      <td>...</td>\n",
       "      <td>...</td>\n",
       "      <td>...</td>\n",
       "      <td>...</td>\n",
       "      <td>...</td>\n",
       "      <td>...</td>\n",
       "      <td>...</td>\n",
       "      <td>...</td>\n",
       "      <td>...</td>\n",
       "      <td>...</td>\n",
       "      <td>...</td>\n",
       "      <td>...</td>\n",
       "      <td>...</td>\n",
       "      <td>...</td>\n",
       "      <td>...</td>\n",
       "      <td>...</td>\n",
       "      <td>...</td>\n",
       "      <td>...</td>\n",
       "      <td>...</td>\n",
       "      <td>...</td>\n",
       "      <td>...</td>\n",
       "      <td>...</td>\n",
       "      <td>...</td>\n",
       "      <td>...</td>\n",
       "      <td>...</td>\n",
       "      <td>...</td>\n",
       "    </tr>\n",
       "    <tr>\n",
       "      <th>79995</th>\n",
       "      <td>79995.0</td>\n",
       "      <td>5.0</td>\n",
       "      <td>212.0</td>\n",
       "      <td>788.0</td>\n",
       "      <td>5.0</td>\n",
       "      <td>0.0</td>\n",
       "      <td>0.0</td>\n",
       "      <td>1.0</td>\n",
       "      <td>0.2</td>\n",
       "      <td>0.4</td>\n",
       "      <td>1.0</td>\n",
       "      <td>0.65</td>\n",
       "      <td>0.0</td>\n",
       "      <td>0.95</td>\n",
       "      <td>0.95</td>\n",
       "      <td>0.1</td>\n",
       "      <td>5.0</td>\n",
       "      <td>14.0</td>\n",
       "      <td>1.0</td>\n",
       "      <td>0.0</td>\n",
       "      <td>0.0</td>\n",
       "      <td>0.0</td>\n",
       "      <td>1.0</td>\n",
       "      <td>0.0</td>\n",
       "      <td>0.0</td>\n",
       "      <td>0.0</td>\n",
       "      <td>0.0</td>\n",
       "      <td>0.0</td>\n",
       "      <td>0.0</td>\n",
       "      <td>5.0</td>\n",
       "      <td>14.0</td>\n",
       "      <td>1.0</td>\n",
       "      <td>0.0</td>\n",
       "      <td>-1.0</td>\n",
       "      <td>16.6</td>\n",
       "      <td>910.0</td>\n",
       "      <td>788.0</td>\n",
       "      <td>0.0</td>\n",
       "      <td>749.0</td>\n",
       "      <td>5.0</td>\n",
       "      <td>0.0</td>\n",
       "      <td>0.0</td>\n",
       "      <td>0.0</td>\n",
       "      <td>0.0</td>\n",
       "      <td>0.0</td>\n",
       "      <td>3.684</td>\n",
       "      <td>5.0</td>\n",
       "      <td>0.0</td>\n",
       "      <td>0.0</td>\n",
       "      <td>0.00</td>\n",
       "      <td>0.0</td>\n",
       "      <td>0.0058</td>\n",
       "      <td>0.0000</td>\n",
       "      <td>0.0032</td>\n",
       "      <td>0.0</td>\n",
       "      <td>0.0</td>\n",
       "      <td>0.0</td>\n",
       "      <td>0.0</td>\n",
       "      <td>0.0</td>\n",
       "      <td>0.0</td>\n",
       "      <td>0.0</td>\n",
       "      <td>0.0</td>\n",
       "      <td>0.0</td>\n",
       "    </tr>\n",
       "    <tr>\n",
       "      <th>79996</th>\n",
       "      <td>79996.0</td>\n",
       "      <td>5.0</td>\n",
       "      <td>212.0</td>\n",
       "      <td>788.0</td>\n",
       "      <td>5.0</td>\n",
       "      <td>0.0</td>\n",
       "      <td>0.0</td>\n",
       "      <td>1.0</td>\n",
       "      <td>0.2</td>\n",
       "      <td>0.4</td>\n",
       "      <td>1.0</td>\n",
       "      <td>0.65</td>\n",
       "      <td>0.0</td>\n",
       "      <td>0.95</td>\n",
       "      <td>0.95</td>\n",
       "      <td>0.1</td>\n",
       "      <td>5.0</td>\n",
       "      <td>14.0</td>\n",
       "      <td>1.0</td>\n",
       "      <td>0.0</td>\n",
       "      <td>0.0</td>\n",
       "      <td>0.0</td>\n",
       "      <td>1.0</td>\n",
       "      <td>0.0</td>\n",
       "      <td>0.0</td>\n",
       "      <td>0.0</td>\n",
       "      <td>0.0</td>\n",
       "      <td>0.0</td>\n",
       "      <td>0.0</td>\n",
       "      <td>5.0</td>\n",
       "      <td>14.0</td>\n",
       "      <td>1.0</td>\n",
       "      <td>0.0</td>\n",
       "      <td>-1.0</td>\n",
       "      <td>16.2</td>\n",
       "      <td>892.4</td>\n",
       "      <td>788.0</td>\n",
       "      <td>0.0</td>\n",
       "      <td>751.0</td>\n",
       "      <td>5.0</td>\n",
       "      <td>0.0</td>\n",
       "      <td>0.0</td>\n",
       "      <td>0.0</td>\n",
       "      <td>0.0</td>\n",
       "      <td>0.0</td>\n",
       "      <td>3.592</td>\n",
       "      <td>5.0</td>\n",
       "      <td>0.0</td>\n",
       "      <td>0.0</td>\n",
       "      <td>0.00</td>\n",
       "      <td>0.0</td>\n",
       "      <td>0.0064</td>\n",
       "      <td>0.0000</td>\n",
       "      <td>0.0032</td>\n",
       "      <td>0.0</td>\n",
       "      <td>0.0</td>\n",
       "      <td>0.0</td>\n",
       "      <td>0.0</td>\n",
       "      <td>0.0</td>\n",
       "      <td>0.0</td>\n",
       "      <td>0.0</td>\n",
       "      <td>0.0</td>\n",
       "      <td>0.0</td>\n",
       "    </tr>\n",
       "    <tr>\n",
       "      <th>79997</th>\n",
       "      <td>79997.0</td>\n",
       "      <td>5.0</td>\n",
       "      <td>212.0</td>\n",
       "      <td>788.0</td>\n",
       "      <td>5.0</td>\n",
       "      <td>0.0</td>\n",
       "      <td>0.0</td>\n",
       "      <td>1.0</td>\n",
       "      <td>0.2</td>\n",
       "      <td>0.4</td>\n",
       "      <td>1.0</td>\n",
       "      <td>0.65</td>\n",
       "      <td>0.0</td>\n",
       "      <td>0.95</td>\n",
       "      <td>0.95</td>\n",
       "      <td>0.1</td>\n",
       "      <td>5.0</td>\n",
       "      <td>14.0</td>\n",
       "      <td>1.0</td>\n",
       "      <td>0.0</td>\n",
       "      <td>0.0</td>\n",
       "      <td>0.0</td>\n",
       "      <td>1.0</td>\n",
       "      <td>0.0</td>\n",
       "      <td>0.0</td>\n",
       "      <td>0.0</td>\n",
       "      <td>0.0</td>\n",
       "      <td>0.0</td>\n",
       "      <td>0.0</td>\n",
       "      <td>5.0</td>\n",
       "      <td>14.0</td>\n",
       "      <td>1.0</td>\n",
       "      <td>0.0</td>\n",
       "      <td>-1.0</td>\n",
       "      <td>15.8</td>\n",
       "      <td>866.0</td>\n",
       "      <td>788.0</td>\n",
       "      <td>0.0</td>\n",
       "      <td>743.0</td>\n",
       "      <td>5.0</td>\n",
       "      <td>0.0</td>\n",
       "      <td>0.0</td>\n",
       "      <td>0.0</td>\n",
       "      <td>0.0</td>\n",
       "      <td>0.0</td>\n",
       "      <td>3.580</td>\n",
       "      <td>5.0</td>\n",
       "      <td>0.0</td>\n",
       "      <td>0.0</td>\n",
       "      <td>0.00</td>\n",
       "      <td>0.0</td>\n",
       "      <td>0.0070</td>\n",
       "      <td>0.0000</td>\n",
       "      <td>0.0032</td>\n",
       "      <td>0.0</td>\n",
       "      <td>0.0</td>\n",
       "      <td>0.0</td>\n",
       "      <td>0.0</td>\n",
       "      <td>0.0</td>\n",
       "      <td>0.0</td>\n",
       "      <td>0.0</td>\n",
       "      <td>0.0</td>\n",
       "      <td>0.0</td>\n",
       "    </tr>\n",
       "    <tr>\n",
       "      <th>79998</th>\n",
       "      <td>79998.0</td>\n",
       "      <td>5.0</td>\n",
       "      <td>212.0</td>\n",
       "      <td>788.0</td>\n",
       "      <td>5.0</td>\n",
       "      <td>0.0</td>\n",
       "      <td>0.0</td>\n",
       "      <td>1.0</td>\n",
       "      <td>0.2</td>\n",
       "      <td>0.4</td>\n",
       "      <td>1.0</td>\n",
       "      <td>0.65</td>\n",
       "      <td>0.0</td>\n",
       "      <td>0.95</td>\n",
       "      <td>0.95</td>\n",
       "      <td>0.1</td>\n",
       "      <td>5.0</td>\n",
       "      <td>14.0</td>\n",
       "      <td>1.0</td>\n",
       "      <td>0.0</td>\n",
       "      <td>0.0</td>\n",
       "      <td>0.0</td>\n",
       "      <td>1.0</td>\n",
       "      <td>0.0</td>\n",
       "      <td>0.0</td>\n",
       "      <td>0.0</td>\n",
       "      <td>0.0</td>\n",
       "      <td>0.0</td>\n",
       "      <td>0.0</td>\n",
       "      <td>5.0</td>\n",
       "      <td>14.0</td>\n",
       "      <td>1.0</td>\n",
       "      <td>0.0</td>\n",
       "      <td>-1.0</td>\n",
       "      <td>22.0</td>\n",
       "      <td>1151.4</td>\n",
       "      <td>788.0</td>\n",
       "      <td>0.0</td>\n",
       "      <td>729.0</td>\n",
       "      <td>5.0</td>\n",
       "      <td>0.8</td>\n",
       "      <td>0.0</td>\n",
       "      <td>0.8</td>\n",
       "      <td>0.0</td>\n",
       "      <td>0.0</td>\n",
       "      <td>4.032</td>\n",
       "      <td>5.0</td>\n",
       "      <td>0.0</td>\n",
       "      <td>0.0</td>\n",
       "      <td>0.16</td>\n",
       "      <td>0.8</td>\n",
       "      <td>0.0046</td>\n",
       "      <td>0.0012</td>\n",
       "      <td>0.0030</td>\n",
       "      <td>0.0</td>\n",
       "      <td>0.0</td>\n",
       "      <td>15.2</td>\n",
       "      <td>0.0</td>\n",
       "      <td>0.0</td>\n",
       "      <td>0.0</td>\n",
       "      <td>0.0</td>\n",
       "      <td>15.2</td>\n",
       "      <td>0.0</td>\n",
       "    </tr>\n",
       "    <tr>\n",
       "      <th>79999</th>\n",
       "      <td>79999.0</td>\n",
       "      <td>5.0</td>\n",
       "      <td>212.0</td>\n",
       "      <td>788.0</td>\n",
       "      <td>5.0</td>\n",
       "      <td>0.0</td>\n",
       "      <td>0.0</td>\n",
       "      <td>1.0</td>\n",
       "      <td>0.2</td>\n",
       "      <td>0.4</td>\n",
       "      <td>1.0</td>\n",
       "      <td>0.65</td>\n",
       "      <td>0.0</td>\n",
       "      <td>0.95</td>\n",
       "      <td>0.95</td>\n",
       "      <td>0.1</td>\n",
       "      <td>5.0</td>\n",
       "      <td>14.0</td>\n",
       "      <td>1.0</td>\n",
       "      <td>0.0</td>\n",
       "      <td>0.0</td>\n",
       "      <td>0.0</td>\n",
       "      <td>1.0</td>\n",
       "      <td>0.0</td>\n",
       "      <td>0.0</td>\n",
       "      <td>0.0</td>\n",
       "      <td>0.0</td>\n",
       "      <td>0.0</td>\n",
       "      <td>0.0</td>\n",
       "      <td>5.0</td>\n",
       "      <td>14.0</td>\n",
       "      <td>1.0</td>\n",
       "      <td>0.0</td>\n",
       "      <td>-1.0</td>\n",
       "      <td>20.2</td>\n",
       "      <td>1078.8</td>\n",
       "      <td>788.0</td>\n",
       "      <td>0.0</td>\n",
       "      <td>755.0</td>\n",
       "      <td>5.0</td>\n",
       "      <td>0.2</td>\n",
       "      <td>0.0</td>\n",
       "      <td>0.2</td>\n",
       "      <td>0.0</td>\n",
       "      <td>0.0</td>\n",
       "      <td>3.994</td>\n",
       "      <td>5.0</td>\n",
       "      <td>0.0</td>\n",
       "      <td>0.0</td>\n",
       "      <td>0.04</td>\n",
       "      <td>0.2</td>\n",
       "      <td>0.0048</td>\n",
       "      <td>0.0002</td>\n",
       "      <td>0.0030</td>\n",
       "      <td>0.0</td>\n",
       "      <td>0.0</td>\n",
       "      <td>3.8</td>\n",
       "      <td>0.0</td>\n",
       "      <td>0.0</td>\n",
       "      <td>0.0</td>\n",
       "      <td>0.0</td>\n",
       "      <td>3.8</td>\n",
       "      <td>0.0</td>\n",
       "    </tr>\n",
       "  </tbody>\n",
       "</table>\n",
       "<p>80000 rows × 63 columns</p>\n",
       "</div>"
      ],
      "text/plain": [
       "        #Model    N    pat    hcw    B  %ILI  GPL    Z    D    Y   YY     A  \\\n",
       "0          0.0  5.0  212.0  788.0  5.0   0.0  0.0  1.0  0.2  0.4  1.0  0.65   \n",
       "1          1.0  5.0  212.0  788.0  5.0   0.0  0.0  1.0  0.2  0.4  1.0  0.65   \n",
       "2          2.0  5.0  212.0  788.0  5.0   0.0  0.0  1.0  0.2  0.4  1.0  0.65   \n",
       "3          3.0  5.0  212.0  788.0  5.0   0.0  0.0  1.0  0.2  0.4  1.0  0.65   \n",
       "4          4.0  5.0  212.0  788.0  5.0   0.0  0.0  1.0  0.2  0.4  1.0  0.65   \n",
       "...        ...  ...    ...    ...  ...   ...  ...  ...  ...  ...  ...   ...   \n",
       "79995  79995.0  5.0  212.0  788.0  5.0   0.0  0.0  1.0  0.2  0.4  1.0  0.65   \n",
       "79996  79996.0  5.0  212.0  788.0  5.0   0.0  0.0  1.0  0.2  0.4  1.0  0.65   \n",
       "79997  79997.0  5.0  212.0  788.0  5.0   0.0  0.0  1.0  0.2  0.4  1.0  0.65   \n",
       "79998  79998.0  5.0  212.0  788.0  5.0   0.0  0.0  1.0  0.2  0.4  1.0  0.65   \n",
       "79999  79999.0  5.0  212.0  788.0  5.0   0.0  0.0  1.0  0.2  0.4  1.0  0.65   \n",
       "\n",
       "         X     E     S    I    W     T   VB   UB    V   VO   VX    P   VC  \\\n",
       "0      0.0  0.00  0.95  0.1  5.0  14.0  0.0  0.0  0.0  0.0  1.0  0.0  0.0   \n",
       "1      0.0  0.00  0.95  0.1  5.0  14.0  0.0  0.0  0.0  0.0  1.0  0.0  0.0   \n",
       "2      0.0  0.00  0.95  0.1  5.0  14.0  0.0  0.0  0.0  0.0  1.0  0.0  0.0   \n",
       "3      0.0  0.00  0.95  0.1  5.0  14.0  0.0  0.0  0.0  0.0  1.0  0.0  0.0   \n",
       "4      0.0  0.00  0.95  0.1  5.0  14.0  0.0  0.0  0.0  0.0  1.0  0.0  0.0   \n",
       "...    ...   ...   ...  ...  ...   ...  ...  ...  ...  ...  ...  ...  ...   \n",
       "79995  0.0  0.95  0.95  0.1  5.0  14.0  1.0  0.0  0.0  0.0  1.0  0.0  0.0   \n",
       "79996  0.0  0.95  0.95  0.1  5.0  14.0  1.0  0.0  0.0  0.0  1.0  0.0  0.0   \n",
       "79997  0.0  0.95  0.95  0.1  5.0  14.0  1.0  0.0  0.0  0.0  1.0  0.0  0.0   \n",
       "79998  0.0  0.95  0.95  0.1  5.0  14.0  1.0  0.0  0.0  0.0  1.0  0.0  0.0   \n",
       "79999  0.0  0.95  0.95  0.1  5.0  14.0  1.0  0.0  0.0  0.0  1.0  0.0  0.0   \n",
       "\n",
       "        VS   VT   Q1   Q2   QS    QT  MPC  MPT  MPS  #rounds  #totpat  \\\n",
       "0      0.0  0.0  0.0  0.0  5.0  14.0  1.0  0.0 -1.0     15.8    884.0   \n",
       "1      0.0  0.0  0.0  0.0  5.0  14.0  1.0  0.0 -1.0     49.2   2238.2   \n",
       "2      0.0  0.0  0.0  0.0  5.0  14.0  1.0  0.0 -1.0     25.0   1229.6   \n",
       "3      0.0  0.0  0.0  0.0  5.0  14.0  1.0  0.0 -1.0     61.0   2648.4   \n",
       "4      0.0  0.0  0.0  0.0  5.0  14.0  1.0  0.0 -1.0     48.4   2217.8   \n",
       "...    ...  ...  ...  ...  ...   ...  ...  ...  ...      ...      ...   \n",
       "79995  0.0  0.0  0.0  0.0  5.0  14.0  1.0  0.0 -1.0     16.6    910.0   \n",
       "79996  0.0  0.0  0.0  0.0  5.0  14.0  1.0  0.0 -1.0     16.2    892.4   \n",
       "79997  0.0  0.0  0.0  0.0  5.0  14.0  1.0  0.0 -1.0     15.8    866.0   \n",
       "79998  0.0  0.0  0.0  0.0  5.0  14.0  1.0  0.0 -1.0     22.0   1151.4   \n",
       "79999  0.0  0.0  0.0  0.0  5.0  14.0  1.0  0.0 -1.0     20.2   1078.8   \n",
       "\n",
       "       #tothcw  #vacpat  #vachcw  #infpat  #infhcw  #hcwpat  #pathcw  #hcwhcw  \\\n",
       "0        788.0      0.0      0.0      5.0      0.0      0.0      0.0      0.0   \n",
       "1        788.0      0.0      0.0    124.8    249.2    119.8     35.8    213.4   \n",
       "2        788.0      0.0      0.0     59.6    103.4     54.6     16.2     87.2   \n",
       "3        788.0      0.0      0.0    203.4    364.0    198.4     58.8    305.2   \n",
       "4        788.0      0.0      0.0    122.6    237.4    117.6     50.8    186.6   \n",
       "...        ...      ...      ...      ...      ...      ...      ...      ...   \n",
       "79995    788.0      0.0    749.0      5.0      0.0      0.0      0.0      0.0   \n",
       "79996    788.0      0.0    751.0      5.0      0.0      0.0      0.0      0.0   \n",
       "79997    788.0      0.0    743.0      5.0      0.0      0.0      0.0      0.0   \n",
       "79998    788.0      0.0    729.0      5.0      0.8      0.0      0.8      0.0   \n",
       "79999    788.0      0.0    755.0      5.0      0.2      0.0      0.2      0.0   \n",
       "\n",
       "       #sickdays  #avglos  npat0  nhcw0  new_infected    R0  secondary_infect  \\\n",
       "0            0.0    3.608    5.0    0.0           0.0  0.00               0.0   \n",
       "1            0.0    4.378    5.0    0.0           0.0  0.88             369.0   \n",
       "2            0.0    3.056    5.0    0.0           0.0  0.48             158.0   \n",
       "3            0.0    4.658    5.0    0.0           0.0  0.96             562.4   \n",
       "4            0.0    3.976    5.0    0.0           0.0  0.80             355.0   \n",
       "...          ...      ...    ...    ...           ...   ...               ...   \n",
       "79995        0.0    3.684    5.0    0.0           0.0  0.00               0.0   \n",
       "79996        0.0    3.592    5.0    0.0           0.0  0.00               0.0   \n",
       "79997        0.0    3.580    5.0    0.0           0.0  0.00               0.0   \n",
       "79998        0.0    4.032    5.0    0.0           0.0  0.16               0.8   \n",
       "79999        0.0    3.994    5.0    0.0           0.0  0.04               0.2   \n",
       "\n",
       "         %pat    %hcw  %total  first_test  first_day  sum_days_sym  \\\n",
       "0      0.0060  0.0000  0.0032         0.0        0.0           0.0   \n",
       "1      0.0328  0.3162  0.0778         0.0        0.0        2892.4   \n",
       "2      0.0218  0.1312  0.0348         0.0        0.0        1170.4   \n",
       "3      0.0560  0.4618  0.1262         0.0        0.0        4088.8   \n",
       "4      0.0320  0.3012  0.0714         0.0        0.0        2665.6   \n",
       "...       ...     ...     ...         ...        ...           ...   \n",
       "79995  0.0058  0.0000  0.0032         0.0        0.0           0.0   \n",
       "79996  0.0064  0.0000  0.0032         0.0        0.0           0.0   \n",
       "79997  0.0070  0.0000  0.0032         0.0        0.0           0.0   \n",
       "79998  0.0046  0.0012  0.0030         0.0        0.0          15.2   \n",
       "79999  0.0048  0.0002  0.0030         0.0        0.0           3.8   \n",
       "\n",
       "       hcw_infected  pat_infected  %first_test  %first_day  sum_days_all  \\\n",
       "0               0.0           0.0          0.0         0.0           0.0   \n",
       "1             179.6         102.6          0.0         0.0        4727.6   \n",
       "2              68.8          48.4          0.0         0.0        1964.6   \n",
       "3             254.2         170.2          0.0         0.0        6916.0   \n",
       "4             161.0         102.2          0.0         0.0        4503.4   \n",
       "...             ...           ...          ...         ...           ...   \n",
       "79995           0.0           0.0          0.0         0.0           0.0   \n",
       "79996           0.0           0.0          0.0         0.0           0.0   \n",
       "79997           0.0           0.0          0.0         0.0           0.0   \n",
       "79998           0.0           0.0          0.0         0.0          15.2   \n",
       "79999           0.0           0.0          0.0         0.0           3.8   \n",
       "\n",
       "       %infectivity  \n",
       "0               0.0  \n",
       "1               0.0  \n",
       "2               0.0  \n",
       "3               0.0  \n",
       "4               0.0  \n",
       "...             ...  \n",
       "79995           0.0  \n",
       "79996           0.0  \n",
       "79997           0.0  \n",
       "79998           0.0  \n",
       "79999           0.0  \n",
       "\n",
       "[80000 rows x 63 columns]"
      ]
     },
     "execution_count": 40,
     "metadata": {},
     "output_type": "execute_result"
    }
   ],
   "source": [
    "# Find the mean values per replicate\n",
    "df_rep_means = rep_means(df_new)\n",
    "df_rep_means"
   ]
  },
  {
   "cell_type": "code",
   "execution_count": 41,
   "metadata": {},
   "outputs": [
    {
     "data": {
      "text/html": [
       "<div>\n",
       "<style scoped>\n",
       "    .dataframe tbody tr th:only-of-type {\n",
       "        vertical-align: middle;\n",
       "    }\n",
       "\n",
       "    .dataframe tbody tr th {\n",
       "        vertical-align: top;\n",
       "    }\n",
       "\n",
       "    .dataframe thead th {\n",
       "        text-align: right;\n",
       "    }\n",
       "</style>\n",
       "<table border=\"1\" class=\"dataframe\">\n",
       "  <thead>\n",
       "    <tr style=\"text-align: right;\">\n",
       "      <th></th>\n",
       "      <th>N</th>\n",
       "      <th>pat</th>\n",
       "      <th>hcw</th>\n",
       "      <th>B</th>\n",
       "      <th>%ILI</th>\n",
       "      <th>GPL</th>\n",
       "      <th>Z</th>\n",
       "      <th>D</th>\n",
       "      <th>Y</th>\n",
       "      <th>YY</th>\n",
       "      <th>A</th>\n",
       "      <th>X</th>\n",
       "      <th>E</th>\n",
       "      <th>S</th>\n",
       "      <th>I</th>\n",
       "      <th>W</th>\n",
       "      <th>T</th>\n",
       "      <th>VB</th>\n",
       "      <th>UB</th>\n",
       "      <th>V</th>\n",
       "      <th>VO</th>\n",
       "      <th>VX</th>\n",
       "      <th>P</th>\n",
       "      <th>VC</th>\n",
       "      <th>VS</th>\n",
       "      <th>VT</th>\n",
       "      <th>Q1</th>\n",
       "      <th>Q2</th>\n",
       "      <th>QS</th>\n",
       "      <th>QT</th>\n",
       "      <th>MPC</th>\n",
       "      <th>MPT</th>\n",
       "      <th>MPS</th>\n",
       "      <th>#rounds</th>\n",
       "      <th>#totpat</th>\n",
       "      <th>#tothcw</th>\n",
       "      <th>#vacpat</th>\n",
       "      <th>#vachcw</th>\n",
       "      <th>#infpat</th>\n",
       "      <th>#infhcw</th>\n",
       "      <th>#hcwpat</th>\n",
       "      <th>#pathcw</th>\n",
       "      <th>#hcwhcw</th>\n",
       "      <th>#sickdays</th>\n",
       "      <th>#avglos</th>\n",
       "      <th>npat0</th>\n",
       "      <th>nhcw0</th>\n",
       "      <th>new_infected</th>\n",
       "      <th>R0</th>\n",
       "      <th>secondary_infect</th>\n",
       "      <th>%pat</th>\n",
       "      <th>%hcw</th>\n",
       "      <th>%total</th>\n",
       "      <th>first_test</th>\n",
       "      <th>first_day</th>\n",
       "      <th>sum_days_sym</th>\n",
       "      <th>hcw_infected</th>\n",
       "      <th>pat_infected</th>\n",
       "      <th>%first_test</th>\n",
       "      <th>%first_day</th>\n",
       "      <th>sum_days_all</th>\n",
       "      <th>%infectivity</th>\n",
       "    </tr>\n",
       "  </thead>\n",
       "  <tbody>\n",
       "    <tr>\n",
       "      <th>0</th>\n",
       "      <td>1000.0</td>\n",
       "      <td>212.0</td>\n",
       "      <td>788.0</td>\n",
       "      <td>5.0</td>\n",
       "      <td>0.0</td>\n",
       "      <td>0.0</td>\n",
       "      <td>1.0</td>\n",
       "      <td>0.2</td>\n",
       "      <td>0.4</td>\n",
       "      <td>1.0</td>\n",
       "      <td>0.65</td>\n",
       "      <td>0.0</td>\n",
       "      <td>0.00</td>\n",
       "      <td>0.95</td>\n",
       "      <td>0.1</td>\n",
       "      <td>5.0</td>\n",
       "      <td>14.0</td>\n",
       "      <td>0.0</td>\n",
       "      <td>0.0</td>\n",
       "      <td>0.0</td>\n",
       "      <td>0.0</td>\n",
       "      <td>1.0</td>\n",
       "      <td>0.0</td>\n",
       "      <td>0.0</td>\n",
       "      <td>0.0</td>\n",
       "      <td>0.0</td>\n",
       "      <td>0.0</td>\n",
       "      <td>0.0</td>\n",
       "      <td>5.0</td>\n",
       "      <td>14.0</td>\n",
       "      <td>1.0</td>\n",
       "      <td>0.0</td>\n",
       "      <td>-1.0</td>\n",
       "      <td>37.650</td>\n",
       "      <td>1763.975</td>\n",
       "      <td>788.0</td>\n",
       "      <td>0.0</td>\n",
       "      <td>0.000</td>\n",
       "      <td>83.750</td>\n",
       "      <td>155.776</td>\n",
       "      <td>78.750</td>\n",
       "      <td>26.690</td>\n",
       "      <td>129.086</td>\n",
       "      <td>0.0</td>\n",
       "      <td>3.9499</td>\n",
       "      <td>5.0</td>\n",
       "      <td>0.0</td>\n",
       "      <td>0.0</td>\n",
       "      <td>0.8088</td>\n",
       "      <td>234.526</td>\n",
       "      <td>0.0245</td>\n",
       "      <td>0.1977</td>\n",
       "      <td>0.0509</td>\n",
       "      <td>0.0</td>\n",
       "      <td>0.0</td>\n",
       "      <td>1765.203</td>\n",
       "      <td>108.123</td>\n",
       "      <td>66.981</td>\n",
       "      <td>0.0</td>\n",
       "      <td>0.0</td>\n",
       "      <td>2941.914</td>\n",
       "      <td>0.0</td>\n",
       "    </tr>\n",
       "    <tr>\n",
       "      <th>1</th>\n",
       "      <td>1000.0</td>\n",
       "      <td>212.0</td>\n",
       "      <td>788.0</td>\n",
       "      <td>5.0</td>\n",
       "      <td>0.0</td>\n",
       "      <td>0.0</td>\n",
       "      <td>1.0</td>\n",
       "      <td>0.2</td>\n",
       "      <td>0.4</td>\n",
       "      <td>1.0</td>\n",
       "      <td>0.65</td>\n",
       "      <td>0.0</td>\n",
       "      <td>0.05</td>\n",
       "      <td>0.95</td>\n",
       "      <td>0.1</td>\n",
       "      <td>5.0</td>\n",
       "      <td>14.0</td>\n",
       "      <td>0.0</td>\n",
       "      <td>0.0</td>\n",
       "      <td>0.0</td>\n",
       "      <td>0.0</td>\n",
       "      <td>1.0</td>\n",
       "      <td>0.0</td>\n",
       "      <td>0.0</td>\n",
       "      <td>0.0</td>\n",
       "      <td>0.0</td>\n",
       "      <td>0.0</td>\n",
       "      <td>0.0</td>\n",
       "      <td>5.0</td>\n",
       "      <td>14.0</td>\n",
       "      <td>1.0</td>\n",
       "      <td>0.0</td>\n",
       "      <td>-1.0</td>\n",
       "      <td>41.338</td>\n",
       "      <td>1911.627</td>\n",
       "      <td>788.0</td>\n",
       "      <td>0.0</td>\n",
       "      <td>0.000</td>\n",
       "      <td>95.042</td>\n",
       "      <td>175.629</td>\n",
       "      <td>90.042</td>\n",
       "      <td>30.987</td>\n",
       "      <td>144.642</td>\n",
       "      <td>0.0</td>\n",
       "      <td>4.0418</td>\n",
       "      <td>5.0</td>\n",
       "      <td>0.0</td>\n",
       "      <td>0.0</td>\n",
       "      <td>0.8852</td>\n",
       "      <td>265.671</td>\n",
       "      <td>0.0267</td>\n",
       "      <td>0.2229</td>\n",
       "      <td>0.0568</td>\n",
       "      <td>0.0</td>\n",
       "      <td>0.0</td>\n",
       "      <td>1981.776</td>\n",
       "      <td>121.337</td>\n",
       "      <td>76.417</td>\n",
       "      <td>0.0</td>\n",
       "      <td>0.0</td>\n",
       "      <td>3305.389</td>\n",
       "      <td>0.0</td>\n",
       "    </tr>\n",
       "    <tr>\n",
       "      <th>2</th>\n",
       "      <td>1000.0</td>\n",
       "      <td>212.0</td>\n",
       "      <td>788.0</td>\n",
       "      <td>5.0</td>\n",
       "      <td>0.0</td>\n",
       "      <td>0.0</td>\n",
       "      <td>1.0</td>\n",
       "      <td>0.2</td>\n",
       "      <td>0.4</td>\n",
       "      <td>1.0</td>\n",
       "      <td>0.65</td>\n",
       "      <td>0.0</td>\n",
       "      <td>0.10</td>\n",
       "      <td>0.95</td>\n",
       "      <td>0.1</td>\n",
       "      <td>5.0</td>\n",
       "      <td>14.0</td>\n",
       "      <td>0.0</td>\n",
       "      <td>0.0</td>\n",
       "      <td>0.0</td>\n",
       "      <td>0.0</td>\n",
       "      <td>1.0</td>\n",
       "      <td>0.0</td>\n",
       "      <td>0.0</td>\n",
       "      <td>0.0</td>\n",
       "      <td>0.0</td>\n",
       "      <td>0.0</td>\n",
       "      <td>0.0</td>\n",
       "      <td>5.0</td>\n",
       "      <td>14.0</td>\n",
       "      <td>1.0</td>\n",
       "      <td>0.0</td>\n",
       "      <td>-1.0</td>\n",
       "      <td>40.276</td>\n",
       "      <td>1871.364</td>\n",
       "      <td>788.0</td>\n",
       "      <td>0.0</td>\n",
       "      <td>0.000</td>\n",
       "      <td>93.235</td>\n",
       "      <td>172.129</td>\n",
       "      <td>88.235</td>\n",
       "      <td>30.084</td>\n",
       "      <td>142.045</td>\n",
       "      <td>0.0</td>\n",
       "      <td>4.0358</td>\n",
       "      <td>5.0</td>\n",
       "      <td>0.0</td>\n",
       "      <td>0.0</td>\n",
       "      <td>0.8434</td>\n",
       "      <td>260.364</td>\n",
       "      <td>0.0264</td>\n",
       "      <td>0.2184</td>\n",
       "      <td>0.0559</td>\n",
       "      <td>0.0</td>\n",
       "      <td>0.0</td>\n",
       "      <td>1944.863</td>\n",
       "      <td>118.478</td>\n",
       "      <td>74.764</td>\n",
       "      <td>0.0</td>\n",
       "      <td>0.0</td>\n",
       "      <td>3240.574</td>\n",
       "      <td>0.0</td>\n",
       "    </tr>\n",
       "    <tr>\n",
       "      <th>3</th>\n",
       "      <td>1000.0</td>\n",
       "      <td>212.0</td>\n",
       "      <td>788.0</td>\n",
       "      <td>5.0</td>\n",
       "      <td>0.0</td>\n",
       "      <td>0.0</td>\n",
       "      <td>1.0</td>\n",
       "      <td>0.2</td>\n",
       "      <td>0.4</td>\n",
       "      <td>1.0</td>\n",
       "      <td>0.65</td>\n",
       "      <td>0.0</td>\n",
       "      <td>0.15</td>\n",
       "      <td>0.95</td>\n",
       "      <td>0.1</td>\n",
       "      <td>5.0</td>\n",
       "      <td>14.0</td>\n",
       "      <td>0.0</td>\n",
       "      <td>0.0</td>\n",
       "      <td>0.0</td>\n",
       "      <td>0.0</td>\n",
       "      <td>1.0</td>\n",
       "      <td>0.0</td>\n",
       "      <td>0.0</td>\n",
       "      <td>0.0</td>\n",
       "      <td>0.0</td>\n",
       "      <td>0.0</td>\n",
       "      <td>0.0</td>\n",
       "      <td>5.0</td>\n",
       "      <td>14.0</td>\n",
       "      <td>1.0</td>\n",
       "      <td>0.0</td>\n",
       "      <td>-1.0</td>\n",
       "      <td>42.352</td>\n",
       "      <td>1954.281</td>\n",
       "      <td>788.0</td>\n",
       "      <td>0.0</td>\n",
       "      <td>0.000</td>\n",
       "      <td>101.931</td>\n",
       "      <td>189.815</td>\n",
       "      <td>96.931</td>\n",
       "      <td>32.681</td>\n",
       "      <td>157.134</td>\n",
       "      <td>0.0</td>\n",
       "      <td>4.0425</td>\n",
       "      <td>5.0</td>\n",
       "      <td>0.0</td>\n",
       "      <td>0.0</td>\n",
       "      <td>0.9302</td>\n",
       "      <td>286.746</td>\n",
       "      <td>0.0284</td>\n",
       "      <td>0.2409</td>\n",
       "      <td>0.0611</td>\n",
       "      <td>0.0</td>\n",
       "      <td>0.0</td>\n",
       "      <td>2144.623</td>\n",
       "      <td>131.703</td>\n",
       "      <td>82.535</td>\n",
       "      <td>0.0</td>\n",
       "      <td>0.0</td>\n",
       "      <td>3574.569</td>\n",
       "      <td>0.0</td>\n",
       "    </tr>\n",
       "    <tr>\n",
       "      <th>4</th>\n",
       "      <td>1000.0</td>\n",
       "      <td>212.0</td>\n",
       "      <td>788.0</td>\n",
       "      <td>5.0</td>\n",
       "      <td>0.0</td>\n",
       "      <td>0.0</td>\n",
       "      <td>1.0</td>\n",
       "      <td>0.2</td>\n",
       "      <td>0.4</td>\n",
       "      <td>1.0</td>\n",
       "      <td>0.65</td>\n",
       "      <td>0.0</td>\n",
       "      <td>0.20</td>\n",
       "      <td>0.95</td>\n",
       "      <td>0.1</td>\n",
       "      <td>5.0</td>\n",
       "      <td>14.0</td>\n",
       "      <td>0.0</td>\n",
       "      <td>0.0</td>\n",
       "      <td>0.0</td>\n",
       "      <td>0.0</td>\n",
       "      <td>1.0</td>\n",
       "      <td>0.0</td>\n",
       "      <td>0.0</td>\n",
       "      <td>0.0</td>\n",
       "      <td>0.0</td>\n",
       "      <td>0.0</td>\n",
       "      <td>0.0</td>\n",
       "      <td>5.0</td>\n",
       "      <td>14.0</td>\n",
       "      <td>1.0</td>\n",
       "      <td>0.0</td>\n",
       "      <td>-1.0</td>\n",
       "      <td>37.978</td>\n",
       "      <td>1778.964</td>\n",
       "      <td>788.0</td>\n",
       "      <td>0.0</td>\n",
       "      <td>0.000</td>\n",
       "      <td>84.039</td>\n",
       "      <td>154.452</td>\n",
       "      <td>79.039</td>\n",
       "      <td>27.663</td>\n",
       "      <td>126.789</td>\n",
       "      <td>0.0</td>\n",
       "      <td>3.9791</td>\n",
       "      <td>5.0</td>\n",
       "      <td>0.0</td>\n",
       "      <td>0.0</td>\n",
       "      <td>0.7552</td>\n",
       "      <td>233.491</td>\n",
       "      <td>0.0242</td>\n",
       "      <td>0.1960</td>\n",
       "      <td>0.0501</td>\n",
       "      <td>0.0</td>\n",
       "      <td>0.0</td>\n",
       "      <td>1738.135</td>\n",
       "      <td>105.788</td>\n",
       "      <td>66.733</td>\n",
       "      <td>0.0</td>\n",
       "      <td>0.0</td>\n",
       "      <td>2906.801</td>\n",
       "      <td>0.0</td>\n",
       "    </tr>\n",
       "    <tr>\n",
       "      <th>...</th>\n",
       "      <td>...</td>\n",
       "      <td>...</td>\n",
       "      <td>...</td>\n",
       "      <td>...</td>\n",
       "      <td>...</td>\n",
       "      <td>...</td>\n",
       "      <td>...</td>\n",
       "      <td>...</td>\n",
       "      <td>...</td>\n",
       "      <td>...</td>\n",
       "      <td>...</td>\n",
       "      <td>...</td>\n",
       "      <td>...</td>\n",
       "      <td>...</td>\n",
       "      <td>...</td>\n",
       "      <td>...</td>\n",
       "      <td>...</td>\n",
       "      <td>...</td>\n",
       "      <td>...</td>\n",
       "      <td>...</td>\n",
       "      <td>...</td>\n",
       "      <td>...</td>\n",
       "      <td>...</td>\n",
       "      <td>...</td>\n",
       "      <td>...</td>\n",
       "      <td>...</td>\n",
       "      <td>...</td>\n",
       "      <td>...</td>\n",
       "      <td>...</td>\n",
       "      <td>...</td>\n",
       "      <td>...</td>\n",
       "      <td>...</td>\n",
       "      <td>...</td>\n",
       "      <td>...</td>\n",
       "      <td>...</td>\n",
       "      <td>...</td>\n",
       "      <td>...</td>\n",
       "      <td>...</td>\n",
       "      <td>...</td>\n",
       "      <td>...</td>\n",
       "      <td>...</td>\n",
       "      <td>...</td>\n",
       "      <td>...</td>\n",
       "      <td>...</td>\n",
       "      <td>...</td>\n",
       "      <td>...</td>\n",
       "      <td>...</td>\n",
       "      <td>...</td>\n",
       "      <td>...</td>\n",
       "      <td>...</td>\n",
       "      <td>...</td>\n",
       "      <td>...</td>\n",
       "      <td>...</td>\n",
       "      <td>...</td>\n",
       "      <td>...</td>\n",
       "      <td>...</td>\n",
       "      <td>...</td>\n",
       "      <td>...</td>\n",
       "      <td>...</td>\n",
       "      <td>...</td>\n",
       "      <td>...</td>\n",
       "      <td>...</td>\n",
       "    </tr>\n",
       "    <tr>\n",
       "      <th>395</th>\n",
       "      <td>1000.0</td>\n",
       "      <td>212.0</td>\n",
       "      <td>788.0</td>\n",
       "      <td>5.0</td>\n",
       "      <td>0.0</td>\n",
       "      <td>0.0</td>\n",
       "      <td>1.0</td>\n",
       "      <td>0.2</td>\n",
       "      <td>0.4</td>\n",
       "      <td>1.0</td>\n",
       "      <td>0.65</td>\n",
       "      <td>0.0</td>\n",
       "      <td>0.75</td>\n",
       "      <td>0.95</td>\n",
       "      <td>0.1</td>\n",
       "      <td>5.0</td>\n",
       "      <td>14.0</td>\n",
       "      <td>1.0</td>\n",
       "      <td>0.0</td>\n",
       "      <td>0.0</td>\n",
       "      <td>0.0</td>\n",
       "      <td>1.0</td>\n",
       "      <td>0.0</td>\n",
       "      <td>0.0</td>\n",
       "      <td>0.0</td>\n",
       "      <td>0.0</td>\n",
       "      <td>0.0</td>\n",
       "      <td>0.0</td>\n",
       "      <td>5.0</td>\n",
       "      <td>14.0</td>\n",
       "      <td>1.0</td>\n",
       "      <td>0.0</td>\n",
       "      <td>-1.0</td>\n",
       "      <td>20.889</td>\n",
       "      <td>1094.218</td>\n",
       "      <td>788.0</td>\n",
       "      <td>0.0</td>\n",
       "      <td>589.810</td>\n",
       "      <td>6.349</td>\n",
       "      <td>2.045</td>\n",
       "      <td>1.349</td>\n",
       "      <td>1.247</td>\n",
       "      <td>0.798</td>\n",
       "      <td>0.0</td>\n",
       "      <td>3.8189</td>\n",
       "      <td>5.0</td>\n",
       "      <td>0.0</td>\n",
       "      <td>0.0</td>\n",
       "      <td>0.2064</td>\n",
       "      <td>3.394</td>\n",
       "      <td>0.0063</td>\n",
       "      <td>0.0026</td>\n",
       "      <td>0.0041</td>\n",
       "      <td>0.0</td>\n",
       "      <td>0.0</td>\n",
       "      <td>22.819</td>\n",
       "      <td>0.661</td>\n",
       "      <td>1.091</td>\n",
       "      <td>0.0</td>\n",
       "      <td>0.0</td>\n",
       "      <td>38.855</td>\n",
       "      <td>0.0</td>\n",
       "    </tr>\n",
       "    <tr>\n",
       "      <th>396</th>\n",
       "      <td>1000.0</td>\n",
       "      <td>212.0</td>\n",
       "      <td>788.0</td>\n",
       "      <td>5.0</td>\n",
       "      <td>0.0</td>\n",
       "      <td>0.0</td>\n",
       "      <td>1.0</td>\n",
       "      <td>0.2</td>\n",
       "      <td>0.4</td>\n",
       "      <td>1.0</td>\n",
       "      <td>0.65</td>\n",
       "      <td>0.0</td>\n",
       "      <td>0.80</td>\n",
       "      <td>0.95</td>\n",
       "      <td>0.1</td>\n",
       "      <td>5.0</td>\n",
       "      <td>14.0</td>\n",
       "      <td>1.0</td>\n",
       "      <td>0.0</td>\n",
       "      <td>0.0</td>\n",
       "      <td>0.0</td>\n",
       "      <td>1.0</td>\n",
       "      <td>0.0</td>\n",
       "      <td>0.0</td>\n",
       "      <td>0.0</td>\n",
       "      <td>0.0</td>\n",
       "      <td>0.0</td>\n",
       "      <td>0.0</td>\n",
       "      <td>5.0</td>\n",
       "      <td>14.0</td>\n",
       "      <td>1.0</td>\n",
       "      <td>0.0</td>\n",
       "      <td>-1.0</td>\n",
       "      <td>20.611</td>\n",
       "      <td>1083.056</td>\n",
       "      <td>788.0</td>\n",
       "      <td>0.0</td>\n",
       "      <td>629.970</td>\n",
       "      <td>6.122</td>\n",
       "      <td>1.462</td>\n",
       "      <td>1.122</td>\n",
       "      <td>0.949</td>\n",
       "      <td>0.513</td>\n",
       "      <td>0.0</td>\n",
       "      <td>3.8317</td>\n",
       "      <td>5.0</td>\n",
       "      <td>0.0</td>\n",
       "      <td>0.0</td>\n",
       "      <td>0.1644</td>\n",
       "      <td>2.584</td>\n",
       "      <td>0.0061</td>\n",
       "      <td>0.0019</td>\n",
       "      <td>0.0039</td>\n",
       "      <td>0.0</td>\n",
       "      <td>0.0</td>\n",
       "      <td>16.283</td>\n",
       "      <td>0.431</td>\n",
       "      <td>0.962</td>\n",
       "      <td>0.0</td>\n",
       "      <td>0.0</td>\n",
       "      <td>27.778</td>\n",
       "      <td>0.0</td>\n",
       "    </tr>\n",
       "    <tr>\n",
       "      <th>397</th>\n",
       "      <td>1000.0</td>\n",
       "      <td>212.0</td>\n",
       "      <td>788.0</td>\n",
       "      <td>5.0</td>\n",
       "      <td>0.0</td>\n",
       "      <td>0.0</td>\n",
       "      <td>1.0</td>\n",
       "      <td>0.2</td>\n",
       "      <td>0.4</td>\n",
       "      <td>1.0</td>\n",
       "      <td>0.65</td>\n",
       "      <td>0.0</td>\n",
       "      <td>0.85</td>\n",
       "      <td>0.95</td>\n",
       "      <td>0.1</td>\n",
       "      <td>5.0</td>\n",
       "      <td>14.0</td>\n",
       "      <td>1.0</td>\n",
       "      <td>0.0</td>\n",
       "      <td>0.0</td>\n",
       "      <td>0.0</td>\n",
       "      <td>1.0</td>\n",
       "      <td>0.0</td>\n",
       "      <td>0.0</td>\n",
       "      <td>0.0</td>\n",
       "      <td>0.0</td>\n",
       "      <td>0.0</td>\n",
       "      <td>0.0</td>\n",
       "      <td>5.0</td>\n",
       "      <td>14.0</td>\n",
       "      <td>1.0</td>\n",
       "      <td>0.0</td>\n",
       "      <td>-1.0</td>\n",
       "      <td>19.510</td>\n",
       "      <td>1035.612</td>\n",
       "      <td>788.0</td>\n",
       "      <td>0.0</td>\n",
       "      <td>670.990</td>\n",
       "      <td>5.585</td>\n",
       "      <td>0.851</td>\n",
       "      <td>0.585</td>\n",
       "      <td>0.696</td>\n",
       "      <td>0.155</td>\n",
       "      <td>0.0</td>\n",
       "      <td>3.7894</td>\n",
       "      <td>5.0</td>\n",
       "      <td>0.0</td>\n",
       "      <td>0.0</td>\n",
       "      <td>0.1248</td>\n",
       "      <td>1.436</td>\n",
       "      <td>0.0061</td>\n",
       "      <td>0.0011</td>\n",
       "      <td>0.0035</td>\n",
       "      <td>0.0</td>\n",
       "      <td>0.0</td>\n",
       "      <td>9.557</td>\n",
       "      <td>0.139</td>\n",
       "      <td>0.477</td>\n",
       "      <td>0.0</td>\n",
       "      <td>0.0</td>\n",
       "      <td>16.169</td>\n",
       "      <td>0.0</td>\n",
       "    </tr>\n",
       "    <tr>\n",
       "      <th>398</th>\n",
       "      <td>1000.0</td>\n",
       "      <td>212.0</td>\n",
       "      <td>788.0</td>\n",
       "      <td>5.0</td>\n",
       "      <td>0.0</td>\n",
       "      <td>0.0</td>\n",
       "      <td>1.0</td>\n",
       "      <td>0.2</td>\n",
       "      <td>0.4</td>\n",
       "      <td>1.0</td>\n",
       "      <td>0.65</td>\n",
       "      <td>0.0</td>\n",
       "      <td>0.90</td>\n",
       "      <td>0.95</td>\n",
       "      <td>0.1</td>\n",
       "      <td>5.0</td>\n",
       "      <td>14.0</td>\n",
       "      <td>1.0</td>\n",
       "      <td>0.0</td>\n",
       "      <td>0.0</td>\n",
       "      <td>0.0</td>\n",
       "      <td>1.0</td>\n",
       "      <td>0.0</td>\n",
       "      <td>0.0</td>\n",
       "      <td>0.0</td>\n",
       "      <td>0.0</td>\n",
       "      <td>0.0</td>\n",
       "      <td>0.0</td>\n",
       "      <td>5.0</td>\n",
       "      <td>14.0</td>\n",
       "      <td>1.0</td>\n",
       "      <td>0.0</td>\n",
       "      <td>-1.0</td>\n",
       "      <td>19.089</td>\n",
       "      <td>1017.512</td>\n",
       "      <td>788.0</td>\n",
       "      <td>0.0</td>\n",
       "      <td>709.305</td>\n",
       "      <td>5.428</td>\n",
       "      <td>0.568</td>\n",
       "      <td>0.428</td>\n",
       "      <td>0.465</td>\n",
       "      <td>0.103</td>\n",
       "      <td>0.0</td>\n",
       "      <td>3.7962</td>\n",
       "      <td>5.0</td>\n",
       "      <td>0.0</td>\n",
       "      <td>0.0</td>\n",
       "      <td>0.0880</td>\n",
       "      <td>0.996</td>\n",
       "      <td>0.0060</td>\n",
       "      <td>0.0007</td>\n",
       "      <td>0.0034</td>\n",
       "      <td>0.0</td>\n",
       "      <td>0.0</td>\n",
       "      <td>6.555</td>\n",
       "      <td>0.093</td>\n",
       "      <td>0.367</td>\n",
       "      <td>0.0</td>\n",
       "      <td>0.0</td>\n",
       "      <td>10.792</td>\n",
       "      <td>0.0</td>\n",
       "    </tr>\n",
       "    <tr>\n",
       "      <th>399</th>\n",
       "      <td>1000.0</td>\n",
       "      <td>212.0</td>\n",
       "      <td>788.0</td>\n",
       "      <td>5.0</td>\n",
       "      <td>0.0</td>\n",
       "      <td>0.0</td>\n",
       "      <td>1.0</td>\n",
       "      <td>0.2</td>\n",
       "      <td>0.4</td>\n",
       "      <td>1.0</td>\n",
       "      <td>0.65</td>\n",
       "      <td>0.0</td>\n",
       "      <td>0.95</td>\n",
       "      <td>0.95</td>\n",
       "      <td>0.1</td>\n",
       "      <td>5.0</td>\n",
       "      <td>14.0</td>\n",
       "      <td>1.0</td>\n",
       "      <td>0.0</td>\n",
       "      <td>0.0</td>\n",
       "      <td>0.0</td>\n",
       "      <td>1.0</td>\n",
       "      <td>0.0</td>\n",
       "      <td>0.0</td>\n",
       "      <td>0.0</td>\n",
       "      <td>0.0</td>\n",
       "      <td>0.0</td>\n",
       "      <td>0.0</td>\n",
       "      <td>5.0</td>\n",
       "      <td>14.0</td>\n",
       "      <td>1.0</td>\n",
       "      <td>0.0</td>\n",
       "      <td>-1.0</td>\n",
       "      <td>17.916</td>\n",
       "      <td>968.730</td>\n",
       "      <td>788.0</td>\n",
       "      <td>0.0</td>\n",
       "      <td>748.220</td>\n",
       "      <td>5.204</td>\n",
       "      <td>0.232</td>\n",
       "      <td>0.204</td>\n",
       "      <td>0.207</td>\n",
       "      <td>0.025</td>\n",
       "      <td>0.0</td>\n",
       "      <td>3.7434</td>\n",
       "      <td>5.0</td>\n",
       "      <td>0.0</td>\n",
       "      <td>0.0</td>\n",
       "      <td>0.0396</td>\n",
       "      <td>0.436</td>\n",
       "      <td>0.0060</td>\n",
       "      <td>0.0003</td>\n",
       "      <td>0.0033</td>\n",
       "      <td>0.0</td>\n",
       "      <td>0.0</td>\n",
       "      <td>2.793</td>\n",
       "      <td>0.020</td>\n",
       "      <td>0.173</td>\n",
       "      <td>0.0</td>\n",
       "      <td>0.0</td>\n",
       "      <td>4.408</td>\n",
       "      <td>0.0</td>\n",
       "    </tr>\n",
       "  </tbody>\n",
       "</table>\n",
       "<p>400 rows × 62 columns</p>\n",
       "</div>"
      ],
      "text/plain": [
       "          N    pat    hcw    B  %ILI  GPL    Z    D    Y   YY     A    X  \\\n",
       "0    1000.0  212.0  788.0  5.0   0.0  0.0  1.0  0.2  0.4  1.0  0.65  0.0   \n",
       "1    1000.0  212.0  788.0  5.0   0.0  0.0  1.0  0.2  0.4  1.0  0.65  0.0   \n",
       "2    1000.0  212.0  788.0  5.0   0.0  0.0  1.0  0.2  0.4  1.0  0.65  0.0   \n",
       "3    1000.0  212.0  788.0  5.0   0.0  0.0  1.0  0.2  0.4  1.0  0.65  0.0   \n",
       "4    1000.0  212.0  788.0  5.0   0.0  0.0  1.0  0.2  0.4  1.0  0.65  0.0   \n",
       "..      ...    ...    ...  ...   ...  ...  ...  ...  ...  ...   ...  ...   \n",
       "395  1000.0  212.0  788.0  5.0   0.0  0.0  1.0  0.2  0.4  1.0  0.65  0.0   \n",
       "396  1000.0  212.0  788.0  5.0   0.0  0.0  1.0  0.2  0.4  1.0  0.65  0.0   \n",
       "397  1000.0  212.0  788.0  5.0   0.0  0.0  1.0  0.2  0.4  1.0  0.65  0.0   \n",
       "398  1000.0  212.0  788.0  5.0   0.0  0.0  1.0  0.2  0.4  1.0  0.65  0.0   \n",
       "399  1000.0  212.0  788.0  5.0   0.0  0.0  1.0  0.2  0.4  1.0  0.65  0.0   \n",
       "\n",
       "        E     S    I    W     T   VB   UB    V   VO   VX    P   VC   VS   VT  \\\n",
       "0    0.00  0.95  0.1  5.0  14.0  0.0  0.0  0.0  0.0  1.0  0.0  0.0  0.0  0.0   \n",
       "1    0.05  0.95  0.1  5.0  14.0  0.0  0.0  0.0  0.0  1.0  0.0  0.0  0.0  0.0   \n",
       "2    0.10  0.95  0.1  5.0  14.0  0.0  0.0  0.0  0.0  1.0  0.0  0.0  0.0  0.0   \n",
       "3    0.15  0.95  0.1  5.0  14.0  0.0  0.0  0.0  0.0  1.0  0.0  0.0  0.0  0.0   \n",
       "4    0.20  0.95  0.1  5.0  14.0  0.0  0.0  0.0  0.0  1.0  0.0  0.0  0.0  0.0   \n",
       "..    ...   ...  ...  ...   ...  ...  ...  ...  ...  ...  ...  ...  ...  ...   \n",
       "395  0.75  0.95  0.1  5.0  14.0  1.0  0.0  0.0  0.0  1.0  0.0  0.0  0.0  0.0   \n",
       "396  0.80  0.95  0.1  5.0  14.0  1.0  0.0  0.0  0.0  1.0  0.0  0.0  0.0  0.0   \n",
       "397  0.85  0.95  0.1  5.0  14.0  1.0  0.0  0.0  0.0  1.0  0.0  0.0  0.0  0.0   \n",
       "398  0.90  0.95  0.1  5.0  14.0  1.0  0.0  0.0  0.0  1.0  0.0  0.0  0.0  0.0   \n",
       "399  0.95  0.95  0.1  5.0  14.0  1.0  0.0  0.0  0.0  1.0  0.0  0.0  0.0  0.0   \n",
       "\n",
       "      Q1   Q2   QS    QT  MPC  MPT  MPS  #rounds   #totpat  #tothcw  #vacpat  \\\n",
       "0    0.0  0.0  5.0  14.0  1.0  0.0 -1.0   37.650  1763.975    788.0      0.0   \n",
       "1    0.0  0.0  5.0  14.0  1.0  0.0 -1.0   41.338  1911.627    788.0      0.0   \n",
       "2    0.0  0.0  5.0  14.0  1.0  0.0 -1.0   40.276  1871.364    788.0      0.0   \n",
       "3    0.0  0.0  5.0  14.0  1.0  0.0 -1.0   42.352  1954.281    788.0      0.0   \n",
       "4    0.0  0.0  5.0  14.0  1.0  0.0 -1.0   37.978  1778.964    788.0      0.0   \n",
       "..   ...  ...  ...   ...  ...  ...  ...      ...       ...      ...      ...   \n",
       "395  0.0  0.0  5.0  14.0  1.0  0.0 -1.0   20.889  1094.218    788.0      0.0   \n",
       "396  0.0  0.0  5.0  14.0  1.0  0.0 -1.0   20.611  1083.056    788.0      0.0   \n",
       "397  0.0  0.0  5.0  14.0  1.0  0.0 -1.0   19.510  1035.612    788.0      0.0   \n",
       "398  0.0  0.0  5.0  14.0  1.0  0.0 -1.0   19.089  1017.512    788.0      0.0   \n",
       "399  0.0  0.0  5.0  14.0  1.0  0.0 -1.0   17.916   968.730    788.0      0.0   \n",
       "\n",
       "     #vachcw  #infpat  #infhcw  #hcwpat  #pathcw  #hcwhcw  #sickdays  #avglos  \\\n",
       "0      0.000   83.750  155.776   78.750   26.690  129.086        0.0   3.9499   \n",
       "1      0.000   95.042  175.629   90.042   30.987  144.642        0.0   4.0418   \n",
       "2      0.000   93.235  172.129   88.235   30.084  142.045        0.0   4.0358   \n",
       "3      0.000  101.931  189.815   96.931   32.681  157.134        0.0   4.0425   \n",
       "4      0.000   84.039  154.452   79.039   27.663  126.789        0.0   3.9791   \n",
       "..       ...      ...      ...      ...      ...      ...        ...      ...   \n",
       "395  589.810    6.349    2.045    1.349    1.247    0.798        0.0   3.8189   \n",
       "396  629.970    6.122    1.462    1.122    0.949    0.513        0.0   3.8317   \n",
       "397  670.990    5.585    0.851    0.585    0.696    0.155        0.0   3.7894   \n",
       "398  709.305    5.428    0.568    0.428    0.465    0.103        0.0   3.7962   \n",
       "399  748.220    5.204    0.232    0.204    0.207    0.025        0.0   3.7434   \n",
       "\n",
       "     npat0  nhcw0  new_infected      R0  secondary_infect    %pat    %hcw  \\\n",
       "0      5.0    0.0           0.0  0.8088           234.526  0.0245  0.1977   \n",
       "1      5.0    0.0           0.0  0.8852           265.671  0.0267  0.2229   \n",
       "2      5.0    0.0           0.0  0.8434           260.364  0.0264  0.2184   \n",
       "3      5.0    0.0           0.0  0.9302           286.746  0.0284  0.2409   \n",
       "4      5.0    0.0           0.0  0.7552           233.491  0.0242  0.1960   \n",
       "..     ...    ...           ...     ...               ...     ...     ...   \n",
       "395    5.0    0.0           0.0  0.2064             3.394  0.0063  0.0026   \n",
       "396    5.0    0.0           0.0  0.1644             2.584  0.0061  0.0019   \n",
       "397    5.0    0.0           0.0  0.1248             1.436  0.0061  0.0011   \n",
       "398    5.0    0.0           0.0  0.0880             0.996  0.0060  0.0007   \n",
       "399    5.0    0.0           0.0  0.0396             0.436  0.0060  0.0003   \n",
       "\n",
       "     %total  first_test  first_day  sum_days_sym  hcw_infected  pat_infected  \\\n",
       "0    0.0509         0.0        0.0      1765.203       108.123        66.981   \n",
       "1    0.0568         0.0        0.0      1981.776       121.337        76.417   \n",
       "2    0.0559         0.0        0.0      1944.863       118.478        74.764   \n",
       "3    0.0611         0.0        0.0      2144.623       131.703        82.535   \n",
       "4    0.0501         0.0        0.0      1738.135       105.788        66.733   \n",
       "..      ...         ...        ...           ...           ...           ...   \n",
       "395  0.0041         0.0        0.0        22.819         0.661         1.091   \n",
       "396  0.0039         0.0        0.0        16.283         0.431         0.962   \n",
       "397  0.0035         0.0        0.0         9.557         0.139         0.477   \n",
       "398  0.0034         0.0        0.0         6.555         0.093         0.367   \n",
       "399  0.0033         0.0        0.0         2.793         0.020         0.173   \n",
       "\n",
       "     %first_test  %first_day  sum_days_all  %infectivity  \n",
       "0            0.0         0.0      2941.914           0.0  \n",
       "1            0.0         0.0      3305.389           0.0  \n",
       "2            0.0         0.0      3240.574           0.0  \n",
       "3            0.0         0.0      3574.569           0.0  \n",
       "4            0.0         0.0      2906.801           0.0  \n",
       "..           ...         ...           ...           ...  \n",
       "395          0.0         0.0        38.855           0.0  \n",
       "396          0.0         0.0        27.778           0.0  \n",
       "397          0.0         0.0        16.169           0.0  \n",
       "398          0.0         0.0        10.792           0.0  \n",
       "399          0.0         0.0         4.408           0.0  \n",
       "\n",
       "[400 rows x 62 columns]"
      ]
     },
     "execution_count": 41,
     "metadata": {},
     "output_type": "execute_result"
    }
   ],
   "source": [
    "# Find the mean values per simulation\n",
    "df_sim_means = sim_means(df_new)\n",
    "df_sim_means"
   ]
  },
  {
   "cell_type": "code",
   "execution_count": null,
   "metadata": {},
   "outputs": [],
   "source": [
    "# Find the values you want to plot, in this case the total number of infected\n",
    "ylabel      = \"%total\"\n",
    "key         = \"B\"\n",
    "inputs      = sim_dict[\"B\"]\n",
    "vals, param = results(df_new, key, ylabel, inputs)"
   ]
  },
  {
   "cell_type": "code",
   "execution_count": null,
   "metadata": {},
   "outputs": [],
   "source": [
    "# Create a histogram of results\n",
    "pdf      = [stats.norm, stats.expon, stats.skewnorm, stats.t, stats.lognorm, stats.exponweib]\n",
    "num_bins = 100\n",
    "\n",
    "fig      = hist_plot(vals[0], param[0], key, num_bins, pdf)\n",
    "#fig.savefig(\"D:/Wholehouse_Simulations/hist\" + key + str(param) + \".png\")"
   ]
  },
  {
   "cell_type": "code",
   "execution_count": 114,
   "metadata": {},
   "outputs": [
    {
     "data": {
      "application/vnd.plotly.v1+json": {
       "config": {
        "plotlyServerURL": "https://plot.ly"
       },
       "data": [
        {
         "colorscale": [
          [
           0,
           "rgb(103,0,31)"
          ],
          [
           0.1,
           "rgb(178,24,43)"
          ],
          [
           0.2,
           "rgb(214,96,77)"
          ],
          [
           0.3,
           "rgb(244,165,130)"
          ],
          [
           0.4,
           "rgb(253,219,199)"
          ],
          [
           0.5,
           "rgb(247,247,247)"
          ],
          [
           0.6,
           "rgb(209,229,240)"
          ],
          [
           0.7,
           "rgb(146,197,222)"
          ],
          [
           0.8,
           "rgb(67,147,195)"
          ],
          [
           0.9,
           "rgb(33,102,172)"
          ],
          [
           1,
           "rgb(5,48,97)"
          ]
         ],
         "scene": "scene",
         "showscale": false,
         "type": "surface",
         "x": [
          0,
          0.05,
          0.1,
          0.15,
          0.2,
          0.25,
          0.3,
          0.35,
          0.4,
          0.45,
          0.5,
          0.55,
          0.6,
          0.65,
          0.7,
          0.75,
          0.8,
          0.85,
          0.9,
          0.95
         ],
         "y": [
          0,
          0.05,
          0.1,
          0.15,
          0.2,
          0.25,
          0.3,
          0.35,
          0.4,
          0.45,
          0.5,
          0.55,
          0.6,
          0.65,
          0.7,
          0.75,
          0.8,
          0.85,
          0.9,
          0.95,
          1
         ],
         "z": [
          [
           1,
           1,
           1,
           1,
           1,
           1,
           1,
           1,
           1,
           1,
           1,
           1,
           1,
           1,
           1,
           1,
           1,
           1,
           1,
           1,
           1
          ],
          [
           1,
           1,
           1,
           1,
           1,
           1,
           1,
           1,
           1,
           1,
           1,
           1,
           1,
           1,
           1,
           1,
           1,
           1,
           1,
           1,
           1
          ],
          [
           1,
           1,
           1,
           1,
           1,
           1,
           1,
           1,
           1,
           1,
           1,
           1,
           1,
           1,
           1,
           1,
           1,
           1,
           1,
           1,
           1
          ],
          [
           1,
           1,
           1,
           1,
           1,
           1,
           1,
           1,
           1,
           1,
           1,
           1,
           1,
           1,
           1,
           1,
           1,
           1,
           1,
           1,
           1
          ],
          [
           1,
           1,
           1,
           1,
           1,
           1,
           1,
           1,
           1,
           1,
           1,
           1,
           1,
           1,
           1,
           1,
           1,
           1,
           1,
           1,
           1
          ],
          [
           1,
           1,
           1,
           1,
           1,
           1,
           1,
           1,
           1,
           1,
           1,
           1,
           1,
           1,
           1,
           1,
           1,
           1,
           1,
           1,
           1
          ],
          [
           1,
           1,
           1,
           1,
           1,
           1,
           1,
           1,
           1,
           1,
           1,
           1,
           1,
           1,
           1,
           1,
           1,
           1,
           1,
           1,
           1
          ],
          [
           1,
           1,
           1,
           1,
           1,
           1,
           1,
           1,
           1,
           1,
           1,
           1,
           1,
           1,
           1,
           1,
           1,
           1,
           1,
           1,
           1
          ],
          [
           1,
           1,
           1,
           1,
           1,
           1,
           1,
           1,
           1,
           1,
           1,
           1,
           1,
           1,
           1,
           1,
           1,
           1,
           1,
           1,
           1
          ],
          [
           1,
           1,
           1,
           1,
           1,
           1,
           1,
           1,
           1,
           1,
           1,
           1,
           1,
           1,
           1,
           1,
           1,
           1,
           1,
           1,
           1
          ],
          [
           1,
           1,
           1,
           1,
           1,
           1,
           1,
           1,
           1,
           1,
           1,
           1,
           1,
           1,
           1,
           1,
           1,
           1,
           1,
           1,
           1
          ],
          [
           1,
           1,
           1,
           1,
           1,
           1,
           1,
           1,
           1,
           1,
           1,
           1,
           1,
           1,
           1,
           1,
           1,
           1,
           1,
           1,
           1
          ],
          [
           1,
           1,
           1,
           1,
           1,
           1,
           1,
           1,
           1,
           1,
           1,
           1,
           1,
           1,
           1,
           1,
           1,
           1,
           1,
           1,
           1
          ],
          [
           1,
           1,
           1,
           1,
           1,
           1,
           1,
           1,
           1,
           1,
           1,
           1,
           1,
           1,
           1,
           1,
           1,
           1,
           1,
           1,
           1
          ],
          [
           1,
           1,
           1,
           1,
           1,
           1,
           1,
           1,
           1,
           1,
           1,
           1,
           1,
           1,
           1,
           1,
           1,
           1,
           1,
           1,
           1
          ],
          [
           1,
           1,
           1,
           1,
           1,
           1,
           1,
           1,
           1,
           1,
           1,
           1,
           1,
           1,
           1,
           1,
           1,
           1,
           1,
           1,
           1
          ],
          [
           1,
           1,
           1,
           1,
           1,
           1,
           1,
           1,
           1,
           1,
           1,
           1,
           1,
           1,
           1,
           1,
           1,
           1,
           1,
           1,
           1
          ],
          [
           1,
           1,
           1,
           1,
           1,
           1,
           1,
           1,
           1,
           1,
           1,
           1,
           1,
           1,
           1,
           1,
           1,
           1,
           1,
           1,
           1
          ],
          [
           1,
           1,
           1,
           1,
           1,
           1,
           1,
           1,
           1,
           1,
           1,
           1,
           1,
           1,
           1,
           1,
           1,
           1,
           1,
           1,
           1
          ],
          [
           1,
           1,
           1,
           1,
           1,
           1,
           1,
           1,
           1,
           1,
           1,
           1,
           1,
           1,
           1,
           1,
           1,
           1,
           1,
           1,
           0.982
          ]
         ]
        },
        {
         "colorscale": [
          [
           0,
           "rgb(103,0,31)"
          ],
          [
           0.1,
           "rgb(178,24,43)"
          ],
          [
           0.2,
           "rgb(214,96,77)"
          ],
          [
           0.3,
           "rgb(244,165,130)"
          ],
          [
           0.4,
           "rgb(253,219,199)"
          ],
          [
           0.5,
           "rgb(247,247,247)"
          ],
          [
           0.6,
           "rgb(209,229,240)"
          ],
          [
           0.7,
           "rgb(146,197,222)"
          ],
          [
           0.8,
           "rgb(67,147,195)"
          ],
          [
           0.9,
           "rgb(33,102,172)"
          ],
          [
           1,
           "rgb(5,48,97)"
          ]
         ],
         "scene": "scene2",
         "showscale": false,
         "type": "surface",
         "x": [
          0,
          0.05,
          0.1,
          0.15,
          0.2,
          0.25,
          0.3,
          0.35,
          0.4,
          0.45,
          0.5,
          0.55,
          0.6,
          0.65,
          0.7,
          0.75,
          0.8,
          0.85,
          0.9,
          0.95
         ],
         "y": [
          0,
          0.05,
          0.1,
          0.15,
          0.2,
          0.25,
          0.3,
          0.35,
          0.4,
          0.45,
          0.5,
          0.55,
          0.6,
          0.65,
          0.7,
          0.75,
          0.8,
          0.85,
          0.9,
          0.95,
          1
         ],
         "z": [
          [
           1,
           1,
           1,
           1,
           1,
           1,
           1,
           1,
           1,
           1,
           1,
           1,
           1,
           1,
           1,
           1,
           1,
           1,
           1,
           1,
           1
          ],
          [
           1,
           1,
           1,
           1,
           1,
           1,
           1,
           1,
           1,
           1,
           1,
           1,
           1,
           1,
           1,
           1,
           1,
           1,
           1,
           1,
           1
          ],
          [
           1,
           1,
           1,
           1,
           1,
           1,
           1,
           1,
           1,
           1,
           1,
           1,
           1,
           1,
           1,
           1,
           1,
           1,
           1,
           1,
           1
          ],
          [
           1,
           1,
           1,
           1,
           1,
           1,
           1,
           1,
           1,
           1,
           1,
           1,
           1,
           1,
           1,
           1,
           1,
           1,
           1,
           1,
           1
          ],
          [
           1,
           1,
           1,
           1,
           1,
           1,
           1,
           1,
           1,
           1,
           1,
           1,
           1,
           1,
           1,
           1,
           1,
           1,
           1,
           1,
           1
          ],
          [
           1,
           1,
           1,
           1,
           1,
           1,
           1,
           1,
           1,
           1,
           1,
           1,
           1,
           1,
           1,
           1,
           1,
           1,
           1,
           1,
           1
          ],
          [
           1,
           1,
           1,
           1,
           1,
           1,
           1,
           1,
           1,
           1,
           1,
           1,
           1,
           1,
           1,
           1,
           1,
           1,
           1,
           1,
           1
          ],
          [
           1,
           1,
           1,
           1,
           1,
           1,
           1,
           1,
           1,
           1,
           1,
           1,
           1,
           1,
           1,
           1,
           1,
           1,
           1,
           1,
           1
          ],
          [
           1,
           1,
           1,
           1,
           1,
           1,
           1,
           1,
           1,
           1,
           1,
           1,
           1,
           1,
           1,
           1,
           1,
           1,
           1,
           1,
           1
          ],
          [
           1,
           1,
           1,
           1,
           1,
           1,
           1,
           1,
           1,
           1,
           1,
           1,
           1,
           1,
           1,
           1,
           1,
           1,
           1,
           1,
           1
          ],
          [
           1,
           1,
           1,
           1,
           1,
           1,
           1,
           1,
           1,
           1,
           1,
           1,
           1,
           1,
           1,
           1,
           1,
           1,
           1,
           1,
           1
          ],
          [
           1,
           1,
           1,
           1,
           1,
           1,
           1,
           1,
           1,
           1,
           1,
           1,
           1,
           1,
           1,
           1,
           1,
           1,
           1,
           1,
           1
          ],
          [
           1,
           1,
           1,
           1,
           1,
           1,
           1,
           1,
           1,
           1,
           1,
           1,
           1,
           1,
           1,
           1,
           1,
           1,
           1,
           1,
           1
          ],
          [
           1,
           1,
           1,
           1,
           1,
           1,
           1,
           1,
           1,
           1,
           1,
           1,
           1,
           1,
           1,
           1,
           1,
           1,
           1,
           1,
           1
          ],
          [
           1,
           1,
           1,
           1,
           1,
           1,
           1,
           1,
           1,
           1,
           1,
           1,
           1,
           1,
           1,
           1,
           1,
           1,
           1,
           1,
           1
          ],
          [
           1,
           1,
           1,
           1,
           1,
           1,
           1,
           1,
           1,
           1,
           1,
           1,
           1,
           1,
           1,
           1,
           1,
           1,
           1,
           1,
           1
          ],
          [
           1,
           1,
           1,
           1,
           1,
           1,
           1,
           1,
           1,
           1,
           1,
           1,
           1,
           1,
           1,
           1,
           1,
           1,
           1,
           1,
           1
          ],
          [
           1,
           1,
           1,
           1,
           1,
           1,
           1,
           1,
           1,
           1,
           1,
           1,
           1,
           1,
           1,
           1,
           1,
           1,
           1,
           1,
           1
          ],
          [
           1,
           1,
           1,
           1,
           1,
           1,
           1,
           1,
           1,
           1,
           1,
           1,
           1,
           1,
           1,
           1,
           1,
           1,
           1,
           0.997,
           0.991
          ],
          [
           1,
           1,
           1,
           1,
           1,
           1,
           1,
           1,
           1,
           1,
           1,
           1,
           1,
           1,
           1,
           1,
           1,
           1,
           0.999,
           0.988,
           0.84
          ]
         ]
        },
        {
         "colorscale": [
          [
           0,
           "rgb(103,0,31)"
          ],
          [
           0.1,
           "rgb(178,24,43)"
          ],
          [
           0.2,
           "rgb(214,96,77)"
          ],
          [
           0.3,
           "rgb(244,165,130)"
          ],
          [
           0.4,
           "rgb(253,219,199)"
          ],
          [
           0.5,
           "rgb(247,247,247)"
          ],
          [
           0.6,
           "rgb(209,229,240)"
          ],
          [
           0.7,
           "rgb(146,197,222)"
          ],
          [
           0.8,
           "rgb(67,147,195)"
          ],
          [
           0.9,
           "rgb(33,102,172)"
          ],
          [
           1,
           "rgb(5,48,97)"
          ]
         ],
         "scene": "scene3",
         "showscale": false,
         "type": "surface",
         "x": [
          0,
          0.05,
          0.1,
          0.15,
          0.2,
          0.25,
          0.3,
          0.35,
          0.4,
          0.45,
          0.5,
          0.55,
          0.6,
          0.65,
          0.7,
          0.75,
          0.8,
          0.85,
          0.9,
          0.95
         ],
         "y": [
          0,
          0.05,
          0.1,
          0.15,
          0.2,
          0.25,
          0.3,
          0.35,
          0.4,
          0.45,
          0.5,
          0.55,
          0.6,
          0.65,
          0.7,
          0.75,
          0.8,
          0.85,
          0.9,
          0.95,
          1
         ],
         "z": [
          [
           1,
           1,
           1,
           1,
           1,
           1,
           1,
           1,
           1,
           1,
           1,
           1,
           1,
           1,
           1,
           1,
           1,
           1,
           1,
           1,
           1
          ],
          [
           1,
           1,
           1,
           1,
           1,
           1,
           1,
           1,
           1,
           1,
           1,
           1,
           1,
           1,
           1,
           1,
           1,
           1,
           1,
           1,
           1
          ],
          [
           1,
           1,
           1,
           1,
           1,
           1,
           1,
           1,
           1,
           1,
           1,
           1,
           1,
           1,
           1,
           1,
           1,
           1,
           1,
           1,
           1
          ],
          [
           1,
           1,
           1,
           1,
           1,
           1,
           1,
           1,
           1,
           1,
           1,
           1,
           1,
           1,
           1,
           1,
           1,
           1,
           1,
           1,
           1
          ],
          [
           1,
           1,
           1,
           1,
           1,
           1,
           1,
           1,
           1,
           1,
           1,
           1,
           1,
           1,
           1,
           1,
           1,
           1,
           1,
           1,
           1
          ],
          [
           1,
           1,
           1,
           1,
           1,
           1,
           1,
           1,
           1,
           1,
           1,
           1,
           1,
           1,
           1,
           1,
           1,
           1,
           1,
           1,
           1
          ],
          [
           1,
           1,
           1,
           1,
           1,
           1,
           1,
           1,
           1,
           1,
           1,
           1,
           1,
           1,
           1,
           1,
           1,
           1,
           1,
           1,
           1
          ],
          [
           1,
           1,
           1,
           1,
           1,
           1,
           1,
           1,
           1,
           1,
           1,
           1,
           1,
           1,
           1,
           1,
           1,
           1,
           1,
           1,
           1
          ],
          [
           1,
           1,
           1,
           1,
           1,
           1,
           1,
           1,
           1,
           1,
           1,
           1,
           1,
           1,
           1,
           1,
           1,
           1,
           1,
           1,
           1
          ],
          [
           1,
           1,
           1,
           1,
           1,
           1,
           1,
           1,
           1,
           1,
           1,
           1,
           1,
           1,
           1,
           1,
           1,
           1,
           1,
           1,
           1
          ],
          [
           1,
           1,
           1,
           1,
           1,
           1,
           1,
           1,
           1,
           1,
           1,
           1,
           1,
           1,
           1,
           1,
           1,
           1,
           1,
           1,
           1
          ],
          [
           1,
           1,
           1,
           1,
           1,
           1,
           1,
           1,
           1,
           1,
           1,
           1,
           1,
           1,
           1,
           1,
           1,
           1,
           1,
           1,
           1
          ],
          [
           1,
           1,
           1,
           1,
           1,
           1,
           1,
           1,
           1,
           1,
           1,
           1,
           1,
           1,
           1,
           1,
           1,
           1,
           1,
           1,
           1
          ],
          [
           1,
           1,
           1,
           1,
           1,
           1,
           1,
           1,
           1,
           1,
           1,
           1,
           1,
           1,
           1,
           1,
           1,
           1,
           1,
           1,
           1
          ],
          [
           1,
           1,
           1,
           1,
           1,
           1,
           1,
           1,
           1,
           1,
           1,
           1,
           1,
           1,
           1,
           1,
           1,
           1,
           1,
           1,
           1
          ],
          [
           1,
           1,
           1,
           1,
           1,
           1,
           1,
           1,
           1,
           1,
           1,
           1,
           1,
           1,
           1,
           1,
           1,
           1,
           1,
           1,
           1
          ],
          [
           1,
           1,
           1,
           1,
           1,
           1,
           1,
           1,
           1,
           1,
           1,
           1,
           1,
           1,
           1,
           1,
           1,
           1,
           1,
           1,
           1
          ],
          [
           1,
           1,
           1,
           1,
           1,
           1,
           1,
           1,
           1,
           1,
           1,
           1,
           1,
           1,
           1,
           1,
           1,
           1,
           1,
           1,
           0.999
          ],
          [
           1,
           1,
           1,
           1,
           1,
           1,
           1,
           1,
           1,
           1,
           1,
           1,
           1,
           1,
           1,
           1,
           1,
           1,
           1,
           0.995,
           0.964
          ],
          [
           1,
           1,
           1,
           1,
           1,
           1,
           1,
           1,
           1,
           1,
           1,
           1,
           1,
           1,
           1,
           1,
           1,
           1,
           0.995,
           0.968,
           0.603
          ]
         ]
        },
        {
         "colorscale": [
          [
           0,
           "rgb(103,0,31)"
          ],
          [
           0.1,
           "rgb(178,24,43)"
          ],
          [
           0.2,
           "rgb(214,96,77)"
          ],
          [
           0.3,
           "rgb(244,165,130)"
          ],
          [
           0.4,
           "rgb(253,219,199)"
          ],
          [
           0.5,
           "rgb(247,247,247)"
          ],
          [
           0.6,
           "rgb(209,229,240)"
          ],
          [
           0.7,
           "rgb(146,197,222)"
          ],
          [
           0.8,
           "rgb(67,147,195)"
          ],
          [
           0.9,
           "rgb(33,102,172)"
          ],
          [
           1,
           "rgb(5,48,97)"
          ]
         ],
         "scene": "scene4",
         "showscale": true,
         "type": "surface",
         "x": [
          0,
          0.05,
          0.1,
          0.15,
          0.2,
          0.25,
          0.3,
          0.35,
          0.4,
          0.45,
          0.5,
          0.55,
          0.6,
          0.65,
          0.7,
          0.75,
          0.8,
          0.85,
          0.9,
          0.95
         ],
         "y": [
          0,
          0.05,
          0.1,
          0.15,
          0.2,
          0.25,
          0.3,
          0.35,
          0.4,
          0.45,
          0.5,
          0.55,
          0.6,
          0.65,
          0.7,
          0.75,
          0.8,
          0.85,
          0.9,
          0.95,
          1
         ],
         "z": [
          [
           1,
           1,
           1,
           1,
           1,
           1,
           1,
           1,
           1,
           1,
           1,
           1,
           1,
           1,
           1,
           1,
           1,
           1,
           1,
           1,
           1
          ],
          [
           1,
           1,
           1,
           1,
           1,
           1,
           1,
           1,
           1,
           1,
           1,
           1,
           1,
           1,
           1,
           1,
           1,
           1,
           1,
           1,
           1
          ],
          [
           1,
           1,
           1,
           1,
           1,
           1,
           1,
           1,
           1,
           1,
           1,
           1,
           1,
           1,
           1,
           1,
           1,
           1,
           1,
           1,
           1
          ],
          [
           1,
           1,
           1,
           1,
           1,
           1,
           1,
           1,
           1,
           1,
           1,
           1,
           1,
           1,
           1,
           1,
           1,
           1,
           1,
           1,
           1
          ],
          [
           1,
           1,
           1,
           1,
           1,
           1,
           1,
           1,
           1,
           1,
           1,
           1,
           1,
           1,
           1,
           1,
           1,
           1,
           1,
           1,
           1
          ],
          [
           1,
           1,
           1,
           1,
           1,
           1,
           1,
           1,
           1,
           1,
           1,
           1,
           1,
           1,
           1,
           1,
           1,
           1,
           1,
           1,
           1
          ],
          [
           1,
           1,
           1,
           1,
           1,
           1,
           1,
           1,
           1,
           1,
           1,
           1,
           1,
           1,
           1,
           1,
           1,
           1,
           1,
           1,
           1
          ],
          [
           1,
           1,
           1,
           1,
           1,
           1,
           1,
           1,
           1,
           1,
           1,
           1,
           1,
           1,
           1,
           1,
           1,
           1,
           1,
           1,
           1
          ],
          [
           1,
           1,
           1,
           1,
           1,
           1,
           1,
           1,
           1,
           1,
           1,
           1,
           1,
           1,
           1,
           1,
           1,
           1,
           1,
           1,
           1
          ],
          [
           1,
           1,
           1,
           1,
           1,
           1,
           1,
           1,
           1,
           1,
           1,
           1,
           1,
           1,
           1,
           1,
           1,
           1,
           1,
           1,
           1
          ],
          [
           1,
           1,
           1,
           1,
           1,
           1,
           1,
           1,
           1,
           1,
           1,
           1,
           1,
           1,
           1,
           1,
           1,
           1,
           1,
           1,
           1
          ],
          [
           1,
           1,
           1,
           1,
           1,
           1,
           1,
           1,
           1,
           1,
           1,
           1,
           1,
           1,
           1,
           1,
           1,
           1,
           1,
           1,
           1
          ],
          [
           1,
           1,
           1,
           1,
           1,
           1,
           1,
           1,
           1,
           1,
           1,
           1,
           1,
           1,
           1,
           1,
           1,
           1,
           1,
           1,
           1
          ],
          [
           1,
           1,
           1,
           1,
           1,
           1,
           1,
           1,
           1,
           1,
           1,
           1,
           1,
           1,
           1,
           1,
           1,
           1,
           1,
           1,
           1
          ],
          [
           1,
           1,
           1,
           1,
           1,
           1,
           1,
           1,
           1,
           1,
           1,
           1,
           1,
           1,
           1,
           1,
           1,
           1,
           1,
           1,
           1
          ],
          [
           1,
           1,
           1,
           1,
           1,
           1,
           1,
           1,
           1,
           1,
           1,
           1,
           1,
           1,
           1,
           1,
           1,
           1,
           1,
           1,
           1
          ],
          [
           1,
           1,
           1,
           1,
           1,
           1,
           1,
           1,
           1,
           1,
           1,
           1,
           1,
           1,
           1,
           1,
           1,
           1,
           1,
           1,
           1
          ],
          [
           1,
           1,
           1,
           1,
           1,
           1,
           1,
           1,
           1,
           1,
           1,
           1,
           1,
           1,
           1,
           1,
           1,
           1,
           1,
           0.999,
           0.994
          ],
          [
           1,
           1,
           1,
           1,
           1,
           1,
           1,
           1,
           1,
           1,
           1,
           1,
           1,
           1,
           1,
           1,
           1,
           1,
           1,
           0.99,
           0.904
          ],
          [
           1,
           1,
           1,
           1,
           1,
           1,
           1,
           1,
           1,
           1,
           1,
           1,
           1,
           1,
           1,
           1,
           1,
           1,
           0.991,
           0.906,
           0.38
          ]
         ]
        }
       ],
       "layout": {
        "annotations": [
         {
          "font": {
           "size": 16
          },
          "showarrow": false,
          "text": "Secondary >0",
          "x": 0.225,
          "xanchor": "center",
          "xref": "paper",
          "y": 1,
          "yanchor": "bottom",
          "yref": "paper"
         },
         {
          "font": {
           "size": 16
          },
          "showarrow": false,
          "text": "Secondary >5",
          "x": 0.775,
          "xanchor": "center",
          "xref": "paper",
          "y": 1,
          "yanchor": "bottom",
          "yref": "paper"
         },
         {
          "font": {
           "size": 16
          },
          "showarrow": false,
          "text": "Secondary >10",
          "x": 0.225,
          "xanchor": "center",
          "xref": "paper",
          "y": 0.375,
          "yanchor": "bottom",
          "yref": "paper"
         },
         {
          "font": {
           "size": 16
          },
          "showarrow": false,
          "text": "Secondary >15",
          "x": 0.775,
          "xanchor": "center",
          "xref": "paper",
          "y": 0.375,
          "yanchor": "bottom",
          "yref": "paper"
         },
         {
          "font": {
           "color": "white",
           "size": 16
          },
          "showarrow": false,
          "text": "Outbreak Probabilities for B = 0, %C = 10.0",
          "x": 0.5,
          "xref": "paper",
          "y": 1.07,
          "yref": "paper"
         }
        ],
        "height": 1200,
        "scene": {
         "domain": {
          "x": [
           0,
           0.45
          ],
          "y": [
           0.625,
           1
          ]
         },
         "xaxis": {
          "title": {
           "text": "E"
          }
         },
         "yaxis": {
          "title": {
           "text": "VB"
          }
         },
         "zaxis": {
          "title": {
           "text": "Outbreak"
          }
         }
        },
        "scene2": {
         "domain": {
          "x": [
           0.55,
           1
          ],
          "y": [
           0.625,
           1
          ]
         },
         "xaxis": {
          "title": {
           "text": "E"
          }
         },
         "yaxis": {
          "title": {
           "text": "VB"
          }
         },
         "zaxis": {
          "title": {
           "text": "Outbreak"
          }
         }
        },
        "scene3": {
         "domain": {
          "x": [
           0,
           0.45
          ],
          "y": [
           0,
           0.375
          ]
         },
         "xaxis": {
          "title": {
           "text": "E"
          }
         },
         "yaxis": {
          "title": {
           "text": "VB"
          }
         },
         "zaxis": {
          "title": {
           "text": "Outbreak"
          }
         }
        },
        "scene4": {
         "domain": {
          "x": [
           0.55,
           1
          ],
          "y": [
           0,
           0.375
          ]
         },
         "xaxis": {
          "title": {
           "text": "E"
          }
         },
         "yaxis": {
          "title": {
           "text": "VB"
          }
         },
         "zaxis": {
          "title": {
           "text": "Outbreak"
          }
         }
        },
        "template": {
         "data": {
          "bar": [
           {
            "error_x": {
             "color": "#f2f5fa"
            },
            "error_y": {
             "color": "#f2f5fa"
            },
            "marker": {
             "line": {
              "color": "rgb(17,17,17)",
              "width": 0.5
             }
            },
            "type": "bar"
           }
          ],
          "barpolar": [
           {
            "marker": {
             "line": {
              "color": "rgb(17,17,17)",
              "width": 0.5
             }
            },
            "type": "barpolar"
           }
          ],
          "carpet": [
           {
            "aaxis": {
             "endlinecolor": "#A2B1C6",
             "gridcolor": "#506784",
             "linecolor": "#506784",
             "minorgridcolor": "#506784",
             "startlinecolor": "#A2B1C6"
            },
            "baxis": {
             "endlinecolor": "#A2B1C6",
             "gridcolor": "#506784",
             "linecolor": "#506784",
             "minorgridcolor": "#506784",
             "startlinecolor": "#A2B1C6"
            },
            "type": "carpet"
           }
          ],
          "choropleth": [
           {
            "colorbar": {
             "outlinewidth": 0,
             "ticks": ""
            },
            "type": "choropleth"
           }
          ],
          "contour": [
           {
            "colorbar": {
             "outlinewidth": 0,
             "ticks": ""
            },
            "colorscale": [
             [
              0,
              "#0d0887"
             ],
             [
              0.1111111111111111,
              "#46039f"
             ],
             [
              0.2222222222222222,
              "#7201a8"
             ],
             [
              0.3333333333333333,
              "#9c179e"
             ],
             [
              0.4444444444444444,
              "#bd3786"
             ],
             [
              0.5555555555555556,
              "#d8576b"
             ],
             [
              0.6666666666666666,
              "#ed7953"
             ],
             [
              0.7777777777777778,
              "#fb9f3a"
             ],
             [
              0.8888888888888888,
              "#fdca26"
             ],
             [
              1,
              "#f0f921"
             ]
            ],
            "type": "contour"
           }
          ],
          "contourcarpet": [
           {
            "colorbar": {
             "outlinewidth": 0,
             "ticks": ""
            },
            "type": "contourcarpet"
           }
          ],
          "heatmap": [
           {
            "colorbar": {
             "outlinewidth": 0,
             "ticks": ""
            },
            "colorscale": [
             [
              0,
              "#0d0887"
             ],
             [
              0.1111111111111111,
              "#46039f"
             ],
             [
              0.2222222222222222,
              "#7201a8"
             ],
             [
              0.3333333333333333,
              "#9c179e"
             ],
             [
              0.4444444444444444,
              "#bd3786"
             ],
             [
              0.5555555555555556,
              "#d8576b"
             ],
             [
              0.6666666666666666,
              "#ed7953"
             ],
             [
              0.7777777777777778,
              "#fb9f3a"
             ],
             [
              0.8888888888888888,
              "#fdca26"
             ],
             [
              1,
              "#f0f921"
             ]
            ],
            "type": "heatmap"
           }
          ],
          "heatmapgl": [
           {
            "colorbar": {
             "outlinewidth": 0,
             "ticks": ""
            },
            "colorscale": [
             [
              0,
              "#0d0887"
             ],
             [
              0.1111111111111111,
              "#46039f"
             ],
             [
              0.2222222222222222,
              "#7201a8"
             ],
             [
              0.3333333333333333,
              "#9c179e"
             ],
             [
              0.4444444444444444,
              "#bd3786"
             ],
             [
              0.5555555555555556,
              "#d8576b"
             ],
             [
              0.6666666666666666,
              "#ed7953"
             ],
             [
              0.7777777777777778,
              "#fb9f3a"
             ],
             [
              0.8888888888888888,
              "#fdca26"
             ],
             [
              1,
              "#f0f921"
             ]
            ],
            "type": "heatmapgl"
           }
          ],
          "histogram": [
           {
            "marker": {
             "colorbar": {
              "outlinewidth": 0,
              "ticks": ""
             }
            },
            "type": "histogram"
           }
          ],
          "histogram2d": [
           {
            "colorbar": {
             "outlinewidth": 0,
             "ticks": ""
            },
            "colorscale": [
             [
              0,
              "#0d0887"
             ],
             [
              0.1111111111111111,
              "#46039f"
             ],
             [
              0.2222222222222222,
              "#7201a8"
             ],
             [
              0.3333333333333333,
              "#9c179e"
             ],
             [
              0.4444444444444444,
              "#bd3786"
             ],
             [
              0.5555555555555556,
              "#d8576b"
             ],
             [
              0.6666666666666666,
              "#ed7953"
             ],
             [
              0.7777777777777778,
              "#fb9f3a"
             ],
             [
              0.8888888888888888,
              "#fdca26"
             ],
             [
              1,
              "#f0f921"
             ]
            ],
            "type": "histogram2d"
           }
          ],
          "histogram2dcontour": [
           {
            "colorbar": {
             "outlinewidth": 0,
             "ticks": ""
            },
            "colorscale": [
             [
              0,
              "#0d0887"
             ],
             [
              0.1111111111111111,
              "#46039f"
             ],
             [
              0.2222222222222222,
              "#7201a8"
             ],
             [
              0.3333333333333333,
              "#9c179e"
             ],
             [
              0.4444444444444444,
              "#bd3786"
             ],
             [
              0.5555555555555556,
              "#d8576b"
             ],
             [
              0.6666666666666666,
              "#ed7953"
             ],
             [
              0.7777777777777778,
              "#fb9f3a"
             ],
             [
              0.8888888888888888,
              "#fdca26"
             ],
             [
              1,
              "#f0f921"
             ]
            ],
            "type": "histogram2dcontour"
           }
          ],
          "mesh3d": [
           {
            "colorbar": {
             "outlinewidth": 0,
             "ticks": ""
            },
            "type": "mesh3d"
           }
          ],
          "parcoords": [
           {
            "line": {
             "colorbar": {
              "outlinewidth": 0,
              "ticks": ""
             }
            },
            "type": "parcoords"
           }
          ],
          "pie": [
           {
            "automargin": true,
            "type": "pie"
           }
          ],
          "scatter": [
           {
            "marker": {
             "line": {
              "color": "#283442"
             }
            },
            "type": "scatter"
           }
          ],
          "scatter3d": [
           {
            "line": {
             "colorbar": {
              "outlinewidth": 0,
              "ticks": ""
             }
            },
            "marker": {
             "colorbar": {
              "outlinewidth": 0,
              "ticks": ""
             }
            },
            "type": "scatter3d"
           }
          ],
          "scattercarpet": [
           {
            "marker": {
             "colorbar": {
              "outlinewidth": 0,
              "ticks": ""
             }
            },
            "type": "scattercarpet"
           }
          ],
          "scattergeo": [
           {
            "marker": {
             "colorbar": {
              "outlinewidth": 0,
              "ticks": ""
             }
            },
            "type": "scattergeo"
           }
          ],
          "scattergl": [
           {
            "marker": {
             "line": {
              "color": "#283442"
             }
            },
            "type": "scattergl"
           }
          ],
          "scattermapbox": [
           {
            "marker": {
             "colorbar": {
              "outlinewidth": 0,
              "ticks": ""
             }
            },
            "type": "scattermapbox"
           }
          ],
          "scatterpolar": [
           {
            "marker": {
             "colorbar": {
              "outlinewidth": 0,
              "ticks": ""
             }
            },
            "type": "scatterpolar"
           }
          ],
          "scatterpolargl": [
           {
            "marker": {
             "colorbar": {
              "outlinewidth": 0,
              "ticks": ""
             }
            },
            "type": "scatterpolargl"
           }
          ],
          "scatterternary": [
           {
            "marker": {
             "colorbar": {
              "outlinewidth": 0,
              "ticks": ""
             }
            },
            "type": "scatterternary"
           }
          ],
          "surface": [
           {
            "colorbar": {
             "outlinewidth": 0,
             "ticks": ""
            },
            "colorscale": [
             [
              0,
              "#0d0887"
             ],
             [
              0.1111111111111111,
              "#46039f"
             ],
             [
              0.2222222222222222,
              "#7201a8"
             ],
             [
              0.3333333333333333,
              "#9c179e"
             ],
             [
              0.4444444444444444,
              "#bd3786"
             ],
             [
              0.5555555555555556,
              "#d8576b"
             ],
             [
              0.6666666666666666,
              "#ed7953"
             ],
             [
              0.7777777777777778,
              "#fb9f3a"
             ],
             [
              0.8888888888888888,
              "#fdca26"
             ],
             [
              1,
              "#f0f921"
             ]
            ],
            "type": "surface"
           }
          ],
          "table": [
           {
            "cells": {
             "fill": {
              "color": "#506784"
             },
             "line": {
              "color": "rgb(17,17,17)"
             }
            },
            "header": {
             "fill": {
              "color": "#2a3f5f"
             },
             "line": {
              "color": "rgb(17,17,17)"
             }
            },
            "type": "table"
           }
          ]
         },
         "layout": {
          "annotationdefaults": {
           "arrowcolor": "#f2f5fa",
           "arrowhead": 0,
           "arrowwidth": 1
          },
          "autotypenumbers": "strict",
          "coloraxis": {
           "colorbar": {
            "outlinewidth": 0,
            "ticks": ""
           }
          },
          "colorscale": {
           "diverging": [
            [
             0,
             "#8e0152"
            ],
            [
             0.1,
             "#c51b7d"
            ],
            [
             0.2,
             "#de77ae"
            ],
            [
             0.3,
             "#f1b6da"
            ],
            [
             0.4,
             "#fde0ef"
            ],
            [
             0.5,
             "#f7f7f7"
            ],
            [
             0.6,
             "#e6f5d0"
            ],
            [
             0.7,
             "#b8e186"
            ],
            [
             0.8,
             "#7fbc41"
            ],
            [
             0.9,
             "#4d9221"
            ],
            [
             1,
             "#276419"
            ]
           ],
           "sequential": [
            [
             0,
             "#0d0887"
            ],
            [
             0.1111111111111111,
             "#46039f"
            ],
            [
             0.2222222222222222,
             "#7201a8"
            ],
            [
             0.3333333333333333,
             "#9c179e"
            ],
            [
             0.4444444444444444,
             "#bd3786"
            ],
            [
             0.5555555555555556,
             "#d8576b"
            ],
            [
             0.6666666666666666,
             "#ed7953"
            ],
            [
             0.7777777777777778,
             "#fb9f3a"
            ],
            [
             0.8888888888888888,
             "#fdca26"
            ],
            [
             1,
             "#f0f921"
            ]
           ],
           "sequentialminus": [
            [
             0,
             "#0d0887"
            ],
            [
             0.1111111111111111,
             "#46039f"
            ],
            [
             0.2222222222222222,
             "#7201a8"
            ],
            [
             0.3333333333333333,
             "#9c179e"
            ],
            [
             0.4444444444444444,
             "#bd3786"
            ],
            [
             0.5555555555555556,
             "#d8576b"
            ],
            [
             0.6666666666666666,
             "#ed7953"
            ],
            [
             0.7777777777777778,
             "#fb9f3a"
            ],
            [
             0.8888888888888888,
             "#fdca26"
            ],
            [
             1,
             "#f0f921"
            ]
           ]
          },
          "colorway": [
           "#636efa",
           "#EF553B",
           "#00cc96",
           "#ab63fa",
           "#FFA15A",
           "#19d3f3",
           "#FF6692",
           "#B6E880",
           "#FF97FF",
           "#FECB52"
          ],
          "font": {
           "color": "#f2f5fa"
          },
          "geo": {
           "bgcolor": "rgb(17,17,17)",
           "lakecolor": "rgb(17,17,17)",
           "landcolor": "rgb(17,17,17)",
           "showlakes": true,
           "showland": true,
           "subunitcolor": "#506784"
          },
          "hoverlabel": {
           "align": "left"
          },
          "hovermode": "closest",
          "mapbox": {
           "style": "dark"
          },
          "paper_bgcolor": "rgb(17,17,17)",
          "plot_bgcolor": "rgb(17,17,17)",
          "polar": {
           "angularaxis": {
            "gridcolor": "#506784",
            "linecolor": "#506784",
            "ticks": ""
           },
           "bgcolor": "rgb(17,17,17)",
           "radialaxis": {
            "gridcolor": "#506784",
            "linecolor": "#506784",
            "ticks": ""
           }
          },
          "scene": {
           "xaxis": {
            "backgroundcolor": "rgb(17,17,17)",
            "gridcolor": "#506784",
            "gridwidth": 2,
            "linecolor": "#506784",
            "showbackground": true,
            "ticks": "",
            "zerolinecolor": "#C8D4E3"
           },
           "yaxis": {
            "backgroundcolor": "rgb(17,17,17)",
            "gridcolor": "#506784",
            "gridwidth": 2,
            "linecolor": "#506784",
            "showbackground": true,
            "ticks": "",
            "zerolinecolor": "#C8D4E3"
           },
           "zaxis": {
            "backgroundcolor": "rgb(17,17,17)",
            "gridcolor": "#506784",
            "gridwidth": 2,
            "linecolor": "#506784",
            "showbackground": true,
            "ticks": "",
            "zerolinecolor": "#C8D4E3"
           }
          },
          "shapedefaults": {
           "line": {
            "color": "#f2f5fa"
           }
          },
          "sliderdefaults": {
           "bgcolor": "#C8D4E3",
           "bordercolor": "rgb(17,17,17)",
           "borderwidth": 1,
           "tickwidth": 0
          },
          "ternary": {
           "aaxis": {
            "gridcolor": "#506784",
            "linecolor": "#506784",
            "ticks": ""
           },
           "baxis": {
            "gridcolor": "#506784",
            "linecolor": "#506784",
            "ticks": ""
           },
           "bgcolor": "rgb(17,17,17)",
           "caxis": {
            "gridcolor": "#506784",
            "linecolor": "#506784",
            "ticks": ""
           }
          },
          "title": {
           "x": 0.05
          },
          "updatemenudefaults": {
           "bgcolor": "#506784",
           "borderwidth": 0
          },
          "xaxis": {
           "automargin": true,
           "gridcolor": "#283442",
           "linecolor": "#506784",
           "ticks": "",
           "title": {
            "standoff": 15
           },
           "zerolinecolor": "#283442",
           "zerolinewidth": 2
          },
          "yaxis": {
           "automargin": true,
           "gridcolor": "#283442",
           "linecolor": "#506784",
           "ticks": "",
           "title": {
            "standoff": 15
           },
           "zerolinecolor": "#283442",
           "zerolinewidth": 2
          }
         }
        },
        "width": 1200
       }
      },
      "text/html": [
       "<div>                            <div id=\"29a0c395-8465-446d-9090-cd285289d188\" class=\"plotly-graph-div\" style=\"height:1200px; width:1200px;\"></div>            <script type=\"text/javascript\">                require([\"plotly\"], function(Plotly) {                    window.PLOTLYENV=window.PLOTLYENV || {};                                    if (document.getElementById(\"29a0c395-8465-446d-9090-cd285289d188\")) {                    Plotly.newPlot(                        \"29a0c395-8465-446d-9090-cd285289d188\",                        [{\"colorscale\": [[0.0, \"rgb(103,0,31)\"], [0.1, \"rgb(178,24,43)\"], [0.2, \"rgb(214,96,77)\"], [0.3, \"rgb(244,165,130)\"], [0.4, \"rgb(253,219,199)\"], [0.5, \"rgb(247,247,247)\"], [0.6, \"rgb(209,229,240)\"], [0.7, \"rgb(146,197,222)\"], [0.8, \"rgb(67,147,195)\"], [0.9, \"rgb(33,102,172)\"], [1.0, \"rgb(5,48,97)\"]], \"scene\": \"scene\", \"showscale\": false, \"type\": \"surface\", \"x\": [0.0, 0.05, 0.1, 0.15, 0.2, 0.25, 0.3, 0.35, 0.4, 0.45, 0.5, 0.55, 0.6, 0.65, 0.7, 0.75, 0.8, 0.85, 0.9, 0.95], \"y\": [0.0, 0.05, 0.1, 0.15, 0.2, 0.25, 0.3, 0.35, 0.4, 0.45, 0.5, 0.55, 0.6, 0.65, 0.7, 0.75, 0.8, 0.85, 0.9, 0.95, 1.0], \"z\": [[1.0, 1.0, 1.0, 1.0, 1.0, 1.0, 1.0, 1.0, 1.0, 1.0, 1.0, 1.0, 1.0, 1.0, 1.0, 1.0, 1.0, 1.0, 1.0, 1.0, 1.0], [1.0, 1.0, 1.0, 1.0, 1.0, 1.0, 1.0, 1.0, 1.0, 1.0, 1.0, 1.0, 1.0, 1.0, 1.0, 1.0, 1.0, 1.0, 1.0, 1.0, 1.0], [1.0, 1.0, 1.0, 1.0, 1.0, 1.0, 1.0, 1.0, 1.0, 1.0, 1.0, 1.0, 1.0, 1.0, 1.0, 1.0, 1.0, 1.0, 1.0, 1.0, 1.0], [1.0, 1.0, 1.0, 1.0, 1.0, 1.0, 1.0, 1.0, 1.0, 1.0, 1.0, 1.0, 1.0, 1.0, 1.0, 1.0, 1.0, 1.0, 1.0, 1.0, 1.0], [1.0, 1.0, 1.0, 1.0, 1.0, 1.0, 1.0, 1.0, 1.0, 1.0, 1.0, 1.0, 1.0, 1.0, 1.0, 1.0, 1.0, 1.0, 1.0, 1.0, 1.0], [1.0, 1.0, 1.0, 1.0, 1.0, 1.0, 1.0, 1.0, 1.0, 1.0, 1.0, 1.0, 1.0, 1.0, 1.0, 1.0, 1.0, 1.0, 1.0, 1.0, 1.0], [1.0, 1.0, 1.0, 1.0, 1.0, 1.0, 1.0, 1.0, 1.0, 1.0, 1.0, 1.0, 1.0, 1.0, 1.0, 1.0, 1.0, 1.0, 1.0, 1.0, 1.0], [1.0, 1.0, 1.0, 1.0, 1.0, 1.0, 1.0, 1.0, 1.0, 1.0, 1.0, 1.0, 1.0, 1.0, 1.0, 1.0, 1.0, 1.0, 1.0, 1.0, 1.0], [1.0, 1.0, 1.0, 1.0, 1.0, 1.0, 1.0, 1.0, 1.0, 1.0, 1.0, 1.0, 1.0, 1.0, 1.0, 1.0, 1.0, 1.0, 1.0, 1.0, 1.0], [1.0, 1.0, 1.0, 1.0, 1.0, 1.0, 1.0, 1.0, 1.0, 1.0, 1.0, 1.0, 1.0, 1.0, 1.0, 1.0, 1.0, 1.0, 1.0, 1.0, 1.0], [1.0, 1.0, 1.0, 1.0, 1.0, 1.0, 1.0, 1.0, 1.0, 1.0, 1.0, 1.0, 1.0, 1.0, 1.0, 1.0, 1.0, 1.0, 1.0, 1.0, 1.0], [1.0, 1.0, 1.0, 1.0, 1.0, 1.0, 1.0, 1.0, 1.0, 1.0, 1.0, 1.0, 1.0, 1.0, 1.0, 1.0, 1.0, 1.0, 1.0, 1.0, 1.0], [1.0, 1.0, 1.0, 1.0, 1.0, 1.0, 1.0, 1.0, 1.0, 1.0, 1.0, 1.0, 1.0, 1.0, 1.0, 1.0, 1.0, 1.0, 1.0, 1.0, 1.0], [1.0, 1.0, 1.0, 1.0, 1.0, 1.0, 1.0, 1.0, 1.0, 1.0, 1.0, 1.0, 1.0, 1.0, 1.0, 1.0, 1.0, 1.0, 1.0, 1.0, 1.0], [1.0, 1.0, 1.0, 1.0, 1.0, 1.0, 1.0, 1.0, 1.0, 1.0, 1.0, 1.0, 1.0, 1.0, 1.0, 1.0, 1.0, 1.0, 1.0, 1.0, 1.0], [1.0, 1.0, 1.0, 1.0, 1.0, 1.0, 1.0, 1.0, 1.0, 1.0, 1.0, 1.0, 1.0, 1.0, 1.0, 1.0, 1.0, 1.0, 1.0, 1.0, 1.0], [1.0, 1.0, 1.0, 1.0, 1.0, 1.0, 1.0, 1.0, 1.0, 1.0, 1.0, 1.0, 1.0, 1.0, 1.0, 1.0, 1.0, 1.0, 1.0, 1.0, 1.0], [1.0, 1.0, 1.0, 1.0, 1.0, 1.0, 1.0, 1.0, 1.0, 1.0, 1.0, 1.0, 1.0, 1.0, 1.0, 1.0, 1.0, 1.0, 1.0, 1.0, 1.0], [1.0, 1.0, 1.0, 1.0, 1.0, 1.0, 1.0, 1.0, 1.0, 1.0, 1.0, 1.0, 1.0, 1.0, 1.0, 1.0, 1.0, 1.0, 1.0, 1.0, 1.0], [1.0, 1.0, 1.0, 1.0, 1.0, 1.0, 1.0, 1.0, 1.0, 1.0, 1.0, 1.0, 1.0, 1.0, 1.0, 1.0, 1.0, 1.0, 1.0, 1.0, 0.982]]}, {\"colorscale\": [[0.0, \"rgb(103,0,31)\"], [0.1, \"rgb(178,24,43)\"], [0.2, \"rgb(214,96,77)\"], [0.3, \"rgb(244,165,130)\"], [0.4, \"rgb(253,219,199)\"], [0.5, \"rgb(247,247,247)\"], [0.6, \"rgb(209,229,240)\"], [0.7, \"rgb(146,197,222)\"], [0.8, \"rgb(67,147,195)\"], [0.9, \"rgb(33,102,172)\"], [1.0, \"rgb(5,48,97)\"]], \"scene\": \"scene2\", \"showscale\": false, \"type\": \"surface\", \"x\": [0.0, 0.05, 0.1, 0.15, 0.2, 0.25, 0.3, 0.35, 0.4, 0.45, 0.5, 0.55, 0.6, 0.65, 0.7, 0.75, 0.8, 0.85, 0.9, 0.95], \"y\": [0.0, 0.05, 0.1, 0.15, 0.2, 0.25, 0.3, 0.35, 0.4, 0.45, 0.5, 0.55, 0.6, 0.65, 0.7, 0.75, 0.8, 0.85, 0.9, 0.95, 1.0], \"z\": [[1.0, 1.0, 1.0, 1.0, 1.0, 1.0, 1.0, 1.0, 1.0, 1.0, 1.0, 1.0, 1.0, 1.0, 1.0, 1.0, 1.0, 1.0, 1.0, 1.0, 1.0], [1.0, 1.0, 1.0, 1.0, 1.0, 1.0, 1.0, 1.0, 1.0, 1.0, 1.0, 1.0, 1.0, 1.0, 1.0, 1.0, 1.0, 1.0, 1.0, 1.0, 1.0], [1.0, 1.0, 1.0, 1.0, 1.0, 1.0, 1.0, 1.0, 1.0, 1.0, 1.0, 1.0, 1.0, 1.0, 1.0, 1.0, 1.0, 1.0, 1.0, 1.0, 1.0], [1.0, 1.0, 1.0, 1.0, 1.0, 1.0, 1.0, 1.0, 1.0, 1.0, 1.0, 1.0, 1.0, 1.0, 1.0, 1.0, 1.0, 1.0, 1.0, 1.0, 1.0], [1.0, 1.0, 1.0, 1.0, 1.0, 1.0, 1.0, 1.0, 1.0, 1.0, 1.0, 1.0, 1.0, 1.0, 1.0, 1.0, 1.0, 1.0, 1.0, 1.0, 1.0], [1.0, 1.0, 1.0, 1.0, 1.0, 1.0, 1.0, 1.0, 1.0, 1.0, 1.0, 1.0, 1.0, 1.0, 1.0, 1.0, 1.0, 1.0, 1.0, 1.0, 1.0], [1.0, 1.0, 1.0, 1.0, 1.0, 1.0, 1.0, 1.0, 1.0, 1.0, 1.0, 1.0, 1.0, 1.0, 1.0, 1.0, 1.0, 1.0, 1.0, 1.0, 1.0], [1.0, 1.0, 1.0, 1.0, 1.0, 1.0, 1.0, 1.0, 1.0, 1.0, 1.0, 1.0, 1.0, 1.0, 1.0, 1.0, 1.0, 1.0, 1.0, 1.0, 1.0], [1.0, 1.0, 1.0, 1.0, 1.0, 1.0, 1.0, 1.0, 1.0, 1.0, 1.0, 1.0, 1.0, 1.0, 1.0, 1.0, 1.0, 1.0, 1.0, 1.0, 1.0], [1.0, 1.0, 1.0, 1.0, 1.0, 1.0, 1.0, 1.0, 1.0, 1.0, 1.0, 1.0, 1.0, 1.0, 1.0, 1.0, 1.0, 1.0, 1.0, 1.0, 1.0], [1.0, 1.0, 1.0, 1.0, 1.0, 1.0, 1.0, 1.0, 1.0, 1.0, 1.0, 1.0, 1.0, 1.0, 1.0, 1.0, 1.0, 1.0, 1.0, 1.0, 1.0], [1.0, 1.0, 1.0, 1.0, 1.0, 1.0, 1.0, 1.0, 1.0, 1.0, 1.0, 1.0, 1.0, 1.0, 1.0, 1.0, 1.0, 1.0, 1.0, 1.0, 1.0], [1.0, 1.0, 1.0, 1.0, 1.0, 1.0, 1.0, 1.0, 1.0, 1.0, 1.0, 1.0, 1.0, 1.0, 1.0, 1.0, 1.0, 1.0, 1.0, 1.0, 1.0], [1.0, 1.0, 1.0, 1.0, 1.0, 1.0, 1.0, 1.0, 1.0, 1.0, 1.0, 1.0, 1.0, 1.0, 1.0, 1.0, 1.0, 1.0, 1.0, 1.0, 1.0], [1.0, 1.0, 1.0, 1.0, 1.0, 1.0, 1.0, 1.0, 1.0, 1.0, 1.0, 1.0, 1.0, 1.0, 1.0, 1.0, 1.0, 1.0, 1.0, 1.0, 1.0], [1.0, 1.0, 1.0, 1.0, 1.0, 1.0, 1.0, 1.0, 1.0, 1.0, 1.0, 1.0, 1.0, 1.0, 1.0, 1.0, 1.0, 1.0, 1.0, 1.0, 1.0], [1.0, 1.0, 1.0, 1.0, 1.0, 1.0, 1.0, 1.0, 1.0, 1.0, 1.0, 1.0, 1.0, 1.0, 1.0, 1.0, 1.0, 1.0, 1.0, 1.0, 1.0], [1.0, 1.0, 1.0, 1.0, 1.0, 1.0, 1.0, 1.0, 1.0, 1.0, 1.0, 1.0, 1.0, 1.0, 1.0, 1.0, 1.0, 1.0, 1.0, 1.0, 1.0], [1.0, 1.0, 1.0, 1.0, 1.0, 1.0, 1.0, 1.0, 1.0, 1.0, 1.0, 1.0, 1.0, 1.0, 1.0, 1.0, 1.0, 1.0, 1.0, 0.997, 0.991], [1.0, 1.0, 1.0, 1.0, 1.0, 1.0, 1.0, 1.0, 1.0, 1.0, 1.0, 1.0, 1.0, 1.0, 1.0, 1.0, 1.0, 1.0, 0.999, 0.988, 0.84]]}, {\"colorscale\": [[0.0, \"rgb(103,0,31)\"], [0.1, \"rgb(178,24,43)\"], [0.2, \"rgb(214,96,77)\"], [0.3, \"rgb(244,165,130)\"], [0.4, \"rgb(253,219,199)\"], [0.5, \"rgb(247,247,247)\"], [0.6, \"rgb(209,229,240)\"], [0.7, \"rgb(146,197,222)\"], [0.8, \"rgb(67,147,195)\"], [0.9, \"rgb(33,102,172)\"], [1.0, \"rgb(5,48,97)\"]], \"scene\": \"scene3\", \"showscale\": false, \"type\": \"surface\", \"x\": [0.0, 0.05, 0.1, 0.15, 0.2, 0.25, 0.3, 0.35, 0.4, 0.45, 0.5, 0.55, 0.6, 0.65, 0.7, 0.75, 0.8, 0.85, 0.9, 0.95], \"y\": [0.0, 0.05, 0.1, 0.15, 0.2, 0.25, 0.3, 0.35, 0.4, 0.45, 0.5, 0.55, 0.6, 0.65, 0.7, 0.75, 0.8, 0.85, 0.9, 0.95, 1.0], \"z\": [[1.0, 1.0, 1.0, 1.0, 1.0, 1.0, 1.0, 1.0, 1.0, 1.0, 1.0, 1.0, 1.0, 1.0, 1.0, 1.0, 1.0, 1.0, 1.0, 1.0, 1.0], [1.0, 1.0, 1.0, 1.0, 1.0, 1.0, 1.0, 1.0, 1.0, 1.0, 1.0, 1.0, 1.0, 1.0, 1.0, 1.0, 1.0, 1.0, 1.0, 1.0, 1.0], [1.0, 1.0, 1.0, 1.0, 1.0, 1.0, 1.0, 1.0, 1.0, 1.0, 1.0, 1.0, 1.0, 1.0, 1.0, 1.0, 1.0, 1.0, 1.0, 1.0, 1.0], [1.0, 1.0, 1.0, 1.0, 1.0, 1.0, 1.0, 1.0, 1.0, 1.0, 1.0, 1.0, 1.0, 1.0, 1.0, 1.0, 1.0, 1.0, 1.0, 1.0, 1.0], [1.0, 1.0, 1.0, 1.0, 1.0, 1.0, 1.0, 1.0, 1.0, 1.0, 1.0, 1.0, 1.0, 1.0, 1.0, 1.0, 1.0, 1.0, 1.0, 1.0, 1.0], [1.0, 1.0, 1.0, 1.0, 1.0, 1.0, 1.0, 1.0, 1.0, 1.0, 1.0, 1.0, 1.0, 1.0, 1.0, 1.0, 1.0, 1.0, 1.0, 1.0, 1.0], [1.0, 1.0, 1.0, 1.0, 1.0, 1.0, 1.0, 1.0, 1.0, 1.0, 1.0, 1.0, 1.0, 1.0, 1.0, 1.0, 1.0, 1.0, 1.0, 1.0, 1.0], [1.0, 1.0, 1.0, 1.0, 1.0, 1.0, 1.0, 1.0, 1.0, 1.0, 1.0, 1.0, 1.0, 1.0, 1.0, 1.0, 1.0, 1.0, 1.0, 1.0, 1.0], [1.0, 1.0, 1.0, 1.0, 1.0, 1.0, 1.0, 1.0, 1.0, 1.0, 1.0, 1.0, 1.0, 1.0, 1.0, 1.0, 1.0, 1.0, 1.0, 1.0, 1.0], [1.0, 1.0, 1.0, 1.0, 1.0, 1.0, 1.0, 1.0, 1.0, 1.0, 1.0, 1.0, 1.0, 1.0, 1.0, 1.0, 1.0, 1.0, 1.0, 1.0, 1.0], [1.0, 1.0, 1.0, 1.0, 1.0, 1.0, 1.0, 1.0, 1.0, 1.0, 1.0, 1.0, 1.0, 1.0, 1.0, 1.0, 1.0, 1.0, 1.0, 1.0, 1.0], [1.0, 1.0, 1.0, 1.0, 1.0, 1.0, 1.0, 1.0, 1.0, 1.0, 1.0, 1.0, 1.0, 1.0, 1.0, 1.0, 1.0, 1.0, 1.0, 1.0, 1.0], [1.0, 1.0, 1.0, 1.0, 1.0, 1.0, 1.0, 1.0, 1.0, 1.0, 1.0, 1.0, 1.0, 1.0, 1.0, 1.0, 1.0, 1.0, 1.0, 1.0, 1.0], [1.0, 1.0, 1.0, 1.0, 1.0, 1.0, 1.0, 1.0, 1.0, 1.0, 1.0, 1.0, 1.0, 1.0, 1.0, 1.0, 1.0, 1.0, 1.0, 1.0, 1.0], [1.0, 1.0, 1.0, 1.0, 1.0, 1.0, 1.0, 1.0, 1.0, 1.0, 1.0, 1.0, 1.0, 1.0, 1.0, 1.0, 1.0, 1.0, 1.0, 1.0, 1.0], [1.0, 1.0, 1.0, 1.0, 1.0, 1.0, 1.0, 1.0, 1.0, 1.0, 1.0, 1.0, 1.0, 1.0, 1.0, 1.0, 1.0, 1.0, 1.0, 1.0, 1.0], [1.0, 1.0, 1.0, 1.0, 1.0, 1.0, 1.0, 1.0, 1.0, 1.0, 1.0, 1.0, 1.0, 1.0, 1.0, 1.0, 1.0, 1.0, 1.0, 1.0, 1.0], [1.0, 1.0, 1.0, 1.0, 1.0, 1.0, 1.0, 1.0, 1.0, 1.0, 1.0, 1.0, 1.0, 1.0, 1.0, 1.0, 1.0, 1.0, 1.0, 1.0, 0.999], [1.0, 1.0, 1.0, 1.0, 1.0, 1.0, 1.0, 1.0, 1.0, 1.0, 1.0, 1.0, 1.0, 1.0, 1.0, 1.0, 1.0, 1.0, 1.0, 0.995, 0.964], [1.0, 1.0, 1.0, 1.0, 1.0, 1.0, 1.0, 1.0, 1.0, 1.0, 1.0, 1.0, 1.0, 1.0, 1.0, 1.0, 1.0, 1.0, 0.995, 0.968, 0.603]]}, {\"colorscale\": [[0.0, \"rgb(103,0,31)\"], [0.1, \"rgb(178,24,43)\"], [0.2, \"rgb(214,96,77)\"], [0.3, \"rgb(244,165,130)\"], [0.4, \"rgb(253,219,199)\"], [0.5, \"rgb(247,247,247)\"], [0.6, \"rgb(209,229,240)\"], [0.7, \"rgb(146,197,222)\"], [0.8, \"rgb(67,147,195)\"], [0.9, \"rgb(33,102,172)\"], [1.0, \"rgb(5,48,97)\"]], \"scene\": \"scene4\", \"showscale\": true, \"type\": \"surface\", \"x\": [0.0, 0.05, 0.1, 0.15, 0.2, 0.25, 0.3, 0.35, 0.4, 0.45, 0.5, 0.55, 0.6, 0.65, 0.7, 0.75, 0.8, 0.85, 0.9, 0.95], \"y\": [0.0, 0.05, 0.1, 0.15, 0.2, 0.25, 0.3, 0.35, 0.4, 0.45, 0.5, 0.55, 0.6, 0.65, 0.7, 0.75, 0.8, 0.85, 0.9, 0.95, 1.0], \"z\": [[1.0, 1.0, 1.0, 1.0, 1.0, 1.0, 1.0, 1.0, 1.0, 1.0, 1.0, 1.0, 1.0, 1.0, 1.0, 1.0, 1.0, 1.0, 1.0, 1.0, 1.0], [1.0, 1.0, 1.0, 1.0, 1.0, 1.0, 1.0, 1.0, 1.0, 1.0, 1.0, 1.0, 1.0, 1.0, 1.0, 1.0, 1.0, 1.0, 1.0, 1.0, 1.0], [1.0, 1.0, 1.0, 1.0, 1.0, 1.0, 1.0, 1.0, 1.0, 1.0, 1.0, 1.0, 1.0, 1.0, 1.0, 1.0, 1.0, 1.0, 1.0, 1.0, 1.0], [1.0, 1.0, 1.0, 1.0, 1.0, 1.0, 1.0, 1.0, 1.0, 1.0, 1.0, 1.0, 1.0, 1.0, 1.0, 1.0, 1.0, 1.0, 1.0, 1.0, 1.0], [1.0, 1.0, 1.0, 1.0, 1.0, 1.0, 1.0, 1.0, 1.0, 1.0, 1.0, 1.0, 1.0, 1.0, 1.0, 1.0, 1.0, 1.0, 1.0, 1.0, 1.0], [1.0, 1.0, 1.0, 1.0, 1.0, 1.0, 1.0, 1.0, 1.0, 1.0, 1.0, 1.0, 1.0, 1.0, 1.0, 1.0, 1.0, 1.0, 1.0, 1.0, 1.0], [1.0, 1.0, 1.0, 1.0, 1.0, 1.0, 1.0, 1.0, 1.0, 1.0, 1.0, 1.0, 1.0, 1.0, 1.0, 1.0, 1.0, 1.0, 1.0, 1.0, 1.0], [1.0, 1.0, 1.0, 1.0, 1.0, 1.0, 1.0, 1.0, 1.0, 1.0, 1.0, 1.0, 1.0, 1.0, 1.0, 1.0, 1.0, 1.0, 1.0, 1.0, 1.0], [1.0, 1.0, 1.0, 1.0, 1.0, 1.0, 1.0, 1.0, 1.0, 1.0, 1.0, 1.0, 1.0, 1.0, 1.0, 1.0, 1.0, 1.0, 1.0, 1.0, 1.0], [1.0, 1.0, 1.0, 1.0, 1.0, 1.0, 1.0, 1.0, 1.0, 1.0, 1.0, 1.0, 1.0, 1.0, 1.0, 1.0, 1.0, 1.0, 1.0, 1.0, 1.0], [1.0, 1.0, 1.0, 1.0, 1.0, 1.0, 1.0, 1.0, 1.0, 1.0, 1.0, 1.0, 1.0, 1.0, 1.0, 1.0, 1.0, 1.0, 1.0, 1.0, 1.0], [1.0, 1.0, 1.0, 1.0, 1.0, 1.0, 1.0, 1.0, 1.0, 1.0, 1.0, 1.0, 1.0, 1.0, 1.0, 1.0, 1.0, 1.0, 1.0, 1.0, 1.0], [1.0, 1.0, 1.0, 1.0, 1.0, 1.0, 1.0, 1.0, 1.0, 1.0, 1.0, 1.0, 1.0, 1.0, 1.0, 1.0, 1.0, 1.0, 1.0, 1.0, 1.0], [1.0, 1.0, 1.0, 1.0, 1.0, 1.0, 1.0, 1.0, 1.0, 1.0, 1.0, 1.0, 1.0, 1.0, 1.0, 1.0, 1.0, 1.0, 1.0, 1.0, 1.0], [1.0, 1.0, 1.0, 1.0, 1.0, 1.0, 1.0, 1.0, 1.0, 1.0, 1.0, 1.0, 1.0, 1.0, 1.0, 1.0, 1.0, 1.0, 1.0, 1.0, 1.0], [1.0, 1.0, 1.0, 1.0, 1.0, 1.0, 1.0, 1.0, 1.0, 1.0, 1.0, 1.0, 1.0, 1.0, 1.0, 1.0, 1.0, 1.0, 1.0, 1.0, 1.0], [1.0, 1.0, 1.0, 1.0, 1.0, 1.0, 1.0, 1.0, 1.0, 1.0, 1.0, 1.0, 1.0, 1.0, 1.0, 1.0, 1.0, 1.0, 1.0, 1.0, 1.0], [1.0, 1.0, 1.0, 1.0, 1.0, 1.0, 1.0, 1.0, 1.0, 1.0, 1.0, 1.0, 1.0, 1.0, 1.0, 1.0, 1.0, 1.0, 1.0, 0.999, 0.994], [1.0, 1.0, 1.0, 1.0, 1.0, 1.0, 1.0, 1.0, 1.0, 1.0, 1.0, 1.0, 1.0, 1.0, 1.0, 1.0, 1.0, 1.0, 1.0, 0.99, 0.904], [1.0, 1.0, 1.0, 1.0, 1.0, 1.0, 1.0, 1.0, 1.0, 1.0, 1.0, 1.0, 1.0, 1.0, 1.0, 1.0, 1.0, 1.0, 0.991, 0.906, 0.38]]}],                        {\"annotations\": [{\"font\": {\"size\": 16}, \"showarrow\": false, \"text\": \"Secondary >0\", \"x\": 0.225, \"xanchor\": \"center\", \"xref\": \"paper\", \"y\": 1.0, \"yanchor\": \"bottom\", \"yref\": \"paper\"}, {\"font\": {\"size\": 16}, \"showarrow\": false, \"text\": \"Secondary >5\", \"x\": 0.775, \"xanchor\": \"center\", \"xref\": \"paper\", \"y\": 1.0, \"yanchor\": \"bottom\", \"yref\": \"paper\"}, {\"font\": {\"size\": 16}, \"showarrow\": false, \"text\": \"Secondary >10\", \"x\": 0.225, \"xanchor\": \"center\", \"xref\": \"paper\", \"y\": 0.375, \"yanchor\": \"bottom\", \"yref\": \"paper\"}, {\"font\": {\"size\": 16}, \"showarrow\": false, \"text\": \"Secondary >15\", \"x\": 0.775, \"xanchor\": \"center\", \"xref\": \"paper\", \"y\": 0.375, \"yanchor\": \"bottom\", \"yref\": \"paper\"}, {\"font\": {\"color\": \"white\", \"size\": 16}, \"showarrow\": false, \"text\": \"Outbreak Probabilities for B = 0, %C = 10.0\", \"x\": 0.5, \"xref\": \"paper\", \"y\": 1.07, \"yref\": \"paper\"}], \"height\": 1200, \"scene\": {\"domain\": {\"x\": [0.0, 0.45], \"y\": [0.625, 1.0]}, \"xaxis\": {\"title\": {\"text\": \"E\"}}, \"yaxis\": {\"title\": {\"text\": \"VB\"}}, \"zaxis\": {\"title\": {\"text\": \"Outbreak\"}}}, \"scene2\": {\"domain\": {\"x\": [0.55, 1.0], \"y\": [0.625, 1.0]}, \"xaxis\": {\"title\": {\"text\": \"E\"}}, \"yaxis\": {\"title\": {\"text\": \"VB\"}}, \"zaxis\": {\"title\": {\"text\": \"Outbreak\"}}}, \"scene3\": {\"domain\": {\"x\": [0.0, 0.45], \"y\": [0.0, 0.375]}, \"xaxis\": {\"title\": {\"text\": \"E\"}}, \"yaxis\": {\"title\": {\"text\": \"VB\"}}, \"zaxis\": {\"title\": {\"text\": \"Outbreak\"}}}, \"scene4\": {\"domain\": {\"x\": [0.55, 1.0], \"y\": [0.0, 0.375]}, \"xaxis\": {\"title\": {\"text\": \"E\"}}, \"yaxis\": {\"title\": {\"text\": \"VB\"}}, \"zaxis\": {\"title\": {\"text\": \"Outbreak\"}}}, \"template\": {\"data\": {\"bar\": [{\"error_x\": {\"color\": \"#f2f5fa\"}, \"error_y\": {\"color\": \"#f2f5fa\"}, \"marker\": {\"line\": {\"color\": \"rgb(17,17,17)\", \"width\": 0.5}}, \"type\": \"bar\"}], \"barpolar\": [{\"marker\": {\"line\": {\"color\": \"rgb(17,17,17)\", \"width\": 0.5}}, \"type\": \"barpolar\"}], \"carpet\": [{\"aaxis\": {\"endlinecolor\": \"#A2B1C6\", \"gridcolor\": \"#506784\", \"linecolor\": \"#506784\", \"minorgridcolor\": \"#506784\", \"startlinecolor\": \"#A2B1C6\"}, \"baxis\": {\"endlinecolor\": \"#A2B1C6\", \"gridcolor\": \"#506784\", \"linecolor\": \"#506784\", \"minorgridcolor\": \"#506784\", \"startlinecolor\": \"#A2B1C6\"}, \"type\": \"carpet\"}], \"choropleth\": [{\"colorbar\": {\"outlinewidth\": 0, \"ticks\": \"\"}, \"type\": \"choropleth\"}], \"contour\": [{\"colorbar\": {\"outlinewidth\": 0, \"ticks\": \"\"}, \"colorscale\": [[0.0, \"#0d0887\"], [0.1111111111111111, \"#46039f\"], [0.2222222222222222, \"#7201a8\"], [0.3333333333333333, \"#9c179e\"], [0.4444444444444444, \"#bd3786\"], [0.5555555555555556, \"#d8576b\"], [0.6666666666666666, \"#ed7953\"], [0.7777777777777778, \"#fb9f3a\"], [0.8888888888888888, \"#fdca26\"], [1.0, \"#f0f921\"]], \"type\": \"contour\"}], \"contourcarpet\": [{\"colorbar\": {\"outlinewidth\": 0, \"ticks\": \"\"}, \"type\": \"contourcarpet\"}], \"heatmap\": [{\"colorbar\": {\"outlinewidth\": 0, \"ticks\": \"\"}, \"colorscale\": [[0.0, \"#0d0887\"], [0.1111111111111111, \"#46039f\"], [0.2222222222222222, \"#7201a8\"], [0.3333333333333333, \"#9c179e\"], [0.4444444444444444, \"#bd3786\"], [0.5555555555555556, \"#d8576b\"], [0.6666666666666666, \"#ed7953\"], [0.7777777777777778, \"#fb9f3a\"], [0.8888888888888888, \"#fdca26\"], [1.0, \"#f0f921\"]], \"type\": \"heatmap\"}], \"heatmapgl\": [{\"colorbar\": {\"outlinewidth\": 0, \"ticks\": \"\"}, \"colorscale\": [[0.0, \"#0d0887\"], [0.1111111111111111, \"#46039f\"], [0.2222222222222222, \"#7201a8\"], [0.3333333333333333, \"#9c179e\"], [0.4444444444444444, \"#bd3786\"], [0.5555555555555556, \"#d8576b\"], [0.6666666666666666, \"#ed7953\"], [0.7777777777777778, \"#fb9f3a\"], [0.8888888888888888, \"#fdca26\"], [1.0, \"#f0f921\"]], \"type\": \"heatmapgl\"}], \"histogram\": [{\"marker\": {\"colorbar\": {\"outlinewidth\": 0, \"ticks\": \"\"}}, \"type\": \"histogram\"}], \"histogram2d\": [{\"colorbar\": {\"outlinewidth\": 0, \"ticks\": \"\"}, \"colorscale\": [[0.0, \"#0d0887\"], [0.1111111111111111, \"#46039f\"], [0.2222222222222222, \"#7201a8\"], [0.3333333333333333, \"#9c179e\"], [0.4444444444444444, \"#bd3786\"], [0.5555555555555556, \"#d8576b\"], [0.6666666666666666, \"#ed7953\"], [0.7777777777777778, \"#fb9f3a\"], [0.8888888888888888, \"#fdca26\"], [1.0, \"#f0f921\"]], \"type\": \"histogram2d\"}], \"histogram2dcontour\": [{\"colorbar\": {\"outlinewidth\": 0, \"ticks\": \"\"}, \"colorscale\": [[0.0, \"#0d0887\"], [0.1111111111111111, \"#46039f\"], [0.2222222222222222, \"#7201a8\"], [0.3333333333333333, \"#9c179e\"], [0.4444444444444444, \"#bd3786\"], [0.5555555555555556, \"#d8576b\"], [0.6666666666666666, \"#ed7953\"], [0.7777777777777778, \"#fb9f3a\"], [0.8888888888888888, \"#fdca26\"], [1.0, \"#f0f921\"]], \"type\": \"histogram2dcontour\"}], \"mesh3d\": [{\"colorbar\": {\"outlinewidth\": 0, \"ticks\": \"\"}, \"type\": \"mesh3d\"}], \"parcoords\": [{\"line\": {\"colorbar\": {\"outlinewidth\": 0, \"ticks\": \"\"}}, \"type\": \"parcoords\"}], \"pie\": [{\"automargin\": true, \"type\": \"pie\"}], \"scatter\": [{\"marker\": {\"line\": {\"color\": \"#283442\"}}, \"type\": \"scatter\"}], \"scatter3d\": [{\"line\": {\"colorbar\": {\"outlinewidth\": 0, \"ticks\": \"\"}}, \"marker\": {\"colorbar\": {\"outlinewidth\": 0, \"ticks\": \"\"}}, \"type\": \"scatter3d\"}], \"scattercarpet\": [{\"marker\": {\"colorbar\": {\"outlinewidth\": 0, \"ticks\": \"\"}}, \"type\": \"scattercarpet\"}], \"scattergeo\": [{\"marker\": {\"colorbar\": {\"outlinewidth\": 0, \"ticks\": \"\"}}, \"type\": \"scattergeo\"}], \"scattergl\": [{\"marker\": {\"line\": {\"color\": \"#283442\"}}, \"type\": \"scattergl\"}], \"scattermapbox\": [{\"marker\": {\"colorbar\": {\"outlinewidth\": 0, \"ticks\": \"\"}}, \"type\": \"scattermapbox\"}], \"scatterpolar\": [{\"marker\": {\"colorbar\": {\"outlinewidth\": 0, \"ticks\": \"\"}}, \"type\": \"scatterpolar\"}], \"scatterpolargl\": [{\"marker\": {\"colorbar\": {\"outlinewidth\": 0, \"ticks\": \"\"}}, \"type\": \"scatterpolargl\"}], \"scatterternary\": [{\"marker\": {\"colorbar\": {\"outlinewidth\": 0, \"ticks\": \"\"}}, \"type\": \"scatterternary\"}], \"surface\": [{\"colorbar\": {\"outlinewidth\": 0, \"ticks\": \"\"}, \"colorscale\": [[0.0, \"#0d0887\"], [0.1111111111111111, \"#46039f\"], [0.2222222222222222, \"#7201a8\"], [0.3333333333333333, \"#9c179e\"], [0.4444444444444444, \"#bd3786\"], [0.5555555555555556, \"#d8576b\"], [0.6666666666666666, \"#ed7953\"], [0.7777777777777778, \"#fb9f3a\"], [0.8888888888888888, \"#fdca26\"], [1.0, \"#f0f921\"]], \"type\": \"surface\"}], \"table\": [{\"cells\": {\"fill\": {\"color\": \"#506784\"}, \"line\": {\"color\": \"rgb(17,17,17)\"}}, \"header\": {\"fill\": {\"color\": \"#2a3f5f\"}, \"line\": {\"color\": \"rgb(17,17,17)\"}}, \"type\": \"table\"}]}, \"layout\": {\"annotationdefaults\": {\"arrowcolor\": \"#f2f5fa\", \"arrowhead\": 0, \"arrowwidth\": 1}, \"autotypenumbers\": \"strict\", \"coloraxis\": {\"colorbar\": {\"outlinewidth\": 0, \"ticks\": \"\"}}, \"colorscale\": {\"diverging\": [[0, \"#8e0152\"], [0.1, \"#c51b7d\"], [0.2, \"#de77ae\"], [0.3, \"#f1b6da\"], [0.4, \"#fde0ef\"], [0.5, \"#f7f7f7\"], [0.6, \"#e6f5d0\"], [0.7, \"#b8e186\"], [0.8, \"#7fbc41\"], [0.9, \"#4d9221\"], [1, \"#276419\"]], \"sequential\": [[0.0, \"#0d0887\"], [0.1111111111111111, \"#46039f\"], [0.2222222222222222, \"#7201a8\"], [0.3333333333333333, \"#9c179e\"], [0.4444444444444444, \"#bd3786\"], [0.5555555555555556, \"#d8576b\"], [0.6666666666666666, \"#ed7953\"], [0.7777777777777778, \"#fb9f3a\"], [0.8888888888888888, \"#fdca26\"], [1.0, \"#f0f921\"]], \"sequentialminus\": [[0.0, \"#0d0887\"], [0.1111111111111111, \"#46039f\"], [0.2222222222222222, \"#7201a8\"], [0.3333333333333333, \"#9c179e\"], [0.4444444444444444, \"#bd3786\"], [0.5555555555555556, \"#d8576b\"], [0.6666666666666666, \"#ed7953\"], [0.7777777777777778, \"#fb9f3a\"], [0.8888888888888888, \"#fdca26\"], [1.0, \"#f0f921\"]]}, \"colorway\": [\"#636efa\", \"#EF553B\", \"#00cc96\", \"#ab63fa\", \"#FFA15A\", \"#19d3f3\", \"#FF6692\", \"#B6E880\", \"#FF97FF\", \"#FECB52\"], \"font\": {\"color\": \"#f2f5fa\"}, \"geo\": {\"bgcolor\": \"rgb(17,17,17)\", \"lakecolor\": \"rgb(17,17,17)\", \"landcolor\": \"rgb(17,17,17)\", \"showlakes\": true, \"showland\": true, \"subunitcolor\": \"#506784\"}, \"hoverlabel\": {\"align\": \"left\"}, \"hovermode\": \"closest\", \"mapbox\": {\"style\": \"dark\"}, \"paper_bgcolor\": \"rgb(17,17,17)\", \"plot_bgcolor\": \"rgb(17,17,17)\", \"polar\": {\"angularaxis\": {\"gridcolor\": \"#506784\", \"linecolor\": \"#506784\", \"ticks\": \"\"}, \"bgcolor\": \"rgb(17,17,17)\", \"radialaxis\": {\"gridcolor\": \"#506784\", \"linecolor\": \"#506784\", \"ticks\": \"\"}}, \"scene\": {\"xaxis\": {\"backgroundcolor\": \"rgb(17,17,17)\", \"gridcolor\": \"#506784\", \"gridwidth\": 2, \"linecolor\": \"#506784\", \"showbackground\": true, \"ticks\": \"\", \"zerolinecolor\": \"#C8D4E3\"}, \"yaxis\": {\"backgroundcolor\": \"rgb(17,17,17)\", \"gridcolor\": \"#506784\", \"gridwidth\": 2, \"linecolor\": \"#506784\", \"showbackground\": true, \"ticks\": \"\", \"zerolinecolor\": \"#C8D4E3\"}, \"zaxis\": {\"backgroundcolor\": \"rgb(17,17,17)\", \"gridcolor\": \"#506784\", \"gridwidth\": 2, \"linecolor\": \"#506784\", \"showbackground\": true, \"ticks\": \"\", \"zerolinecolor\": \"#C8D4E3\"}}, \"shapedefaults\": {\"line\": {\"color\": \"#f2f5fa\"}}, \"sliderdefaults\": {\"bgcolor\": \"#C8D4E3\", \"bordercolor\": \"rgb(17,17,17)\", \"borderwidth\": 1, \"tickwidth\": 0}, \"ternary\": {\"aaxis\": {\"gridcolor\": \"#506784\", \"linecolor\": \"#506784\", \"ticks\": \"\"}, \"baxis\": {\"gridcolor\": \"#506784\", \"linecolor\": \"#506784\", \"ticks\": \"\"}, \"bgcolor\": \"rgb(17,17,17)\", \"caxis\": {\"gridcolor\": \"#506784\", \"linecolor\": \"#506784\", \"ticks\": \"\"}}, \"title\": {\"x\": 0.05}, \"updatemenudefaults\": {\"bgcolor\": \"#506784\", \"borderwidth\": 0}, \"xaxis\": {\"automargin\": true, \"gridcolor\": \"#283442\", \"linecolor\": \"#506784\", \"ticks\": \"\", \"title\": {\"standoff\": 15}, \"zerolinecolor\": \"#283442\", \"zerolinewidth\": 2}, \"yaxis\": {\"automargin\": true, \"gridcolor\": \"#283442\", \"linecolor\": \"#506784\", \"ticks\": \"\", \"title\": {\"standoff\": 15}, \"zerolinecolor\": \"#283442\", \"zerolinewidth\": 2}}}, \"width\": 1200},                        {\"responsive\": true}                    ).then(function(){\n",
       "                            \n",
       "var gd = document.getElementById('29a0c395-8465-446d-9090-cd285289d188');\n",
       "var x = new MutationObserver(function (mutations, observer) {{\n",
       "        var display = window.getComputedStyle(gd).display;\n",
       "        if (!display || display === 'none') {{\n",
       "            console.log([gd, 'removed!']);\n",
       "            Plotly.purge(gd);\n",
       "            observer.disconnect();\n",
       "        }}\n",
       "}});\n",
       "\n",
       "// Listen for the removal of the full notebook cells\n",
       "var notebookContainer = gd.closest('#notebook-container');\n",
       "if (notebookContainer) {{\n",
       "    x.observe(notebookContainer, {childList: true});\n",
       "}}\n",
       "\n",
       "// Listen for the clearing of the current output cell\n",
       "var outputEl = gd.closest('.output');\n",
       "if (outputEl) {{\n",
       "    x.observe(outputEl, {childList: true});\n",
       "}}\n",
       "\n",
       "                        })                };                });            </script>        </div>"
      ]
     },
     "metadata": {},
     "output_type": "display_data"
    }
   ],
   "source": [
    "#Outbreak plots\n",
    "xvals = E\n",
    "yvals = VB\n",
    "xlabel = \"E\"\n",
    "ylabel = \"VB\"\n",
    "filename = \"D:/Wholehouse_Simulations/Seed_0_C_10_Outbreak.png\"\n",
    "\n",
    "outbreak(xvals, yvals, xlabel, ylabel, filename)"
   ]
  },
  {
   "cell_type": "code",
   "execution_count": 42,
   "metadata": {
    "scrolled": false
   },
   "outputs": [
    {
     "data": {
      "application/vnd.plotly.v1+json": {
       "config": {
        "plotlyServerURL": "https://plot.ly"
       },
       "data": [
        {
         "colorscale": [
          [
           0,
           "#000004"
          ],
          [
           0.1111111111111111,
           "#1b0c41"
          ],
          [
           0.2222222222222222,
           "#4a0c6b"
          ],
          [
           0.3333333333333333,
           "#781c6d"
          ],
          [
           0.4444444444444444,
           "#a52c60"
          ],
          [
           0.5555555555555556,
           "#cf4446"
          ],
          [
           0.6666666666666666,
           "#ed6925"
          ],
          [
           0.7777777777777778,
           "#fb9b06"
          ],
          [
           0.8888888888888888,
           "#f7d13d"
          ],
          [
           1,
           "#fcffa4"
          ]
         ],
         "showscale": false,
         "type": "surface",
         "x": [
          0,
          0.05,
          0.1,
          0.15,
          0.2,
          0.25,
          0.3,
          0.35,
          0.4,
          0.45,
          0.5,
          0.55,
          0.6,
          0.65,
          0.7,
          0.75,
          0.8,
          0.85,
          0.9,
          0.95
         ],
         "y": [
          0,
          0.05,
          0.1,
          0.15,
          0.2,
          0.25,
          0.3,
          0.35,
          0.4,
          0.45,
          0.5,
          0.55,
          0.6,
          0.65,
          0.7,
          0.75,
          0.8,
          0.85,
          0.9,
          1
         ],
         "z": [
          [
           0.0509,
           0.0555,
           0.0566,
           0.0552,
           0.0546,
           0.0541,
           0.0563,
           0.0551,
           0.0523,
           0.057,
           0.0509,
           0.0534,
           0.0575,
           0.0542,
           0.0534,
           0.0527,
           0.0555,
           0.0554,
           0.0602,
           0.0554
          ],
          [
           0.0568,
           0.0544,
           0.0552,
           0.0525,
           0.0556,
           0.0481,
           0.0575,
           0.048,
           0.0529,
           0.0486,
           0.0491,
           0.0494,
           0.0486,
           0.053,
           0.0519,
           0.0466,
           0.0509,
           0.0488,
           0.0484,
           0.0468
          ],
          [
           0.0559,
           0.0513,
           0.0564,
           0.0547,
           0.0491,
           0.0488,
           0.0506,
           0.0511,
           0.0456,
           0.0479,
           0.0479,
           0.0478,
           0.0438,
           0.0493,
           0.0476,
           0.0475,
           0.0472,
           0.0477,
           0.043,
           0.0412
          ],
          [
           0.0611,
           0.0517,
           0.0484,
           0.0501,
           0.0522,
           0.0484,
           0.0493,
           0.0485,
           0.048,
           0.0462,
           0.0434,
           0.0488,
           0.0448,
           0.0441,
           0.0405,
           0.041,
           0.042,
           0.0398,
           0.0389,
           0.0368
          ],
          [
           0.0501,
           0.0483,
           0.0526,
           0.0504,
           0.0496,
           0.0488,
           0.0479,
           0.0443,
           0.0449,
           0.0428,
           0.042,
           0.0386,
           0.0405,
           0.0377,
           0.0382,
           0.0356,
           0.0344,
           0.0335,
           0.0311,
           0.0308
          ],
          [
           0.0548,
           0.0528,
           0.0524,
           0.0494,
           0.0523,
           0.0473,
           0.047,
           0.0423,
           0.0416,
           0.0426,
           0.0394,
           0.0361,
           0.0338,
           0.0371,
           0.0328,
           0.0333,
           0.0332,
           0.0288,
           0.0282,
           0.0255
          ],
          [
           0.0541,
           0.0506,
           0.053,
           0.0487,
           0.0495,
           0.0446,
           0.041,
           0.0416,
           0.0423,
           0.0396,
           0.036,
           0.0335,
           0.0328,
           0.0297,
           0.0317,
           0.0296,
           0.0275,
           0.025,
           0.0237,
           0.0221
          ],
          [
           0.0553,
           0.0567,
           0.0491,
           0.0437,
           0.0449,
           0.0454,
           0.0433,
           0.034,
           0.0368,
           0.0364,
           0.0329,
           0.0332,
           0.0315,
           0.0268,
           0.0288,
           0.0249,
           0.0236,
           0.0204,
           0.0182,
           0.016
          ],
          [
           0.0521,
           0.0549,
           0.0488,
           0.0516,
           0.0444,
           0.0433,
           0.0397,
           0.0364,
           0.0347,
           0.032,
           0.0306,
           0.029,
           0.0217,
           0.0252,
           0.0246,
           0.0219,
           0.0178,
           0.0157,
           0.0147,
           0.013
          ],
          [
           0.0519,
           0.0495,
           0.0472,
           0.0477,
           0.0433,
           0.0358,
           0.039,
           0.0332,
           0.0293,
           0.0289,
           0.0312,
           0.0262,
           0.0262,
           0.0227,
           0.0191,
           0.017,
           0.0151,
           0.0152,
           0.0137,
           0.0104
          ],
          [
           0.051,
           0.0505,
           0.0472,
           0.0478,
           0.0424,
           0.0408,
           0.038,
           0.0327,
           0.0309,
           0.0277,
           0.024,
           0.0225,
           0.0202,
           0.0177,
           0.0172,
           0.014,
           0.0135,
           0.0128,
           0.0105,
           0.0084
          ],
          [
           0.0536,
           0.051,
           0.0497,
           0.0415,
           0.0401,
           0.0374,
           0.0314,
           0.0332,
           0.0272,
           0.0251,
           0.0224,
           0.0199,
           0.017,
           0.0165,
           0.0143,
           0.0118,
           0.0111,
           0.0101,
           0.0092,
           0.0067
          ],
          [
           0.0575,
           0.0523,
           0.0473,
           0.0444,
           0.0412,
           0.0354,
           0.0345,
           0.0287,
           0.0269,
           0.0216,
           0.0229,
           0.0182,
           0.0153,
           0.0135,
           0.011,
           0.011,
           0.0086,
           0.008,
           0.0072,
           0.0058
          ],
          [
           0.0582,
           0.0455,
           0.0484,
           0.0401,
           0.038,
           0.0346,
           0.0306,
           0.0267,
           0.0247,
           0.021,
           0.0193,
           0.0146,
           0.012,
           0.0127,
           0.0101,
           0.0095,
           0.0077,
           0.0069,
           0.0059,
           0.0052
          ],
          [
           0.0538,
           0.0461,
           0.0452,
           0.0404,
           0.0351,
           0.032,
           0.0279,
           0.0259,
           0.0226,
           0.0181,
           0.0167,
           0.0144,
           0.0118,
           0.0094,
           0.0089,
           0.0067,
           0.0069,
           0.0063,
           0.0056,
           0.0045
          ],
          [
           0.0564,
           0.0494,
           0.0446,
           0.0421,
           0.0362,
           0.0322,
           0.0271,
           0.0253,
           0.0197,
           0.0168,
           0.0142,
           0.012,
           0.0099,
           0.0095,
           0.0079,
           0.0063,
           0.0058,
           0.0051,
           0.0047,
           0.0041
          ],
          [
           0.0576,
           0.0467,
           0.0497,
           0.0382,
           0.0379,
           0.0283,
           0.027,
           0.0226,
           0.0183,
           0.0168,
           0.0129,
           0.0102,
           0.0094,
           0.0072,
           0.0066,
           0.0061,
           0.0057,
           0.0047,
           0.0043,
           0.0039
          ],
          [
           0.0512,
           0.0494,
           0.0441,
           0.0401,
           0.0348,
           0.0295,
           0.0234,
           0.0228,
           0.0174,
           0.0139,
           0.0125,
           0.0095,
           0.0082,
           0.0064,
           0.0063,
           0.0053,
           0.0047,
           0.0043,
           0.0041,
           0.0035
          ],
          [
           0.0566,
           0.0483,
           0.0393,
           0.0365,
           0.0335,
           0.0239,
           0.0232,
           0.0202,
           0.0145,
           0.0117,
           0.0099,
           0.0086,
           0.0072,
           0.0064,
           0.0056,
           0.0051,
           0.0044,
           0.004,
           0.0038,
           0.0034
          ],
          [
           0.056,
           0.0515,
           0.0437,
           0.0351,
           0.034,
           0.0239,
           0.0214,
           0.0176,
           0.0145,
           0.0114,
           0.0086,
           0.0075,
           0.0066,
           0.0058,
           0.005,
           0.0043,
           0.004,
           0.0038,
           0.0036,
           0.0033
          ]
         ]
        },
        {
         "colorscale": [
          [
           0,
           "rgb(196, 230, 195)"
          ],
          [
           0.16666666666666666,
           "rgb(150, 210, 164)"
          ],
          [
           0.3333333333333333,
           "rgb(109, 188, 144)"
          ],
          [
           0.5,
           "rgb(77, 162, 132)"
          ],
          [
           0.6666666666666666,
           "rgb(54, 135, 122)"
          ],
          [
           0.8333333333333334,
           "rgb(38, 107, 110)"
          ],
          [
           1,
           "rgb(29, 79, 96)"
          ]
         ],
         "showscale": false,
         "type": "surface",
         "x": [
          0,
          0.05,
          0.1,
          0.15,
          0.2,
          0.25,
          0.3,
          0.35,
          0.4,
          0.45,
          0.5,
          0.55,
          0.6,
          0.65,
          0.7,
          0.75,
          0.8,
          0.85,
          0.9,
          0.95
         ],
         "y": [
          0,
          0.1,
          0.2,
          0.3,
          0.4,
          0.5,
          0.6,
          0.7,
          0.8,
          0.9,
          1
         ],
         "z": [
          [
           0.056,
           0.056,
           0.056,
           0.056,
           0.056,
           0.056,
           0.056,
           0.056,
           0.056,
           0.056,
           0.056,
           0.056,
           0.056,
           0.056,
           0.056,
           0.056,
           0.056,
           0.056,
           0.056,
           0.056
          ],
          [
           0.0515,
           0.0515,
           0.0515,
           0.0515,
           0.0515,
           0.0515,
           0.0515,
           0.0515,
           0.0515,
           0.0515,
           0.0515,
           0.0515,
           0.0515,
           0.0515,
           0.0515,
           0.0515,
           0.0515,
           0.0515,
           0.0515,
           0.0515
          ],
          [
           0.0437,
           0.0437,
           0.0437,
           0.0437,
           0.0437,
           0.0437,
           0.0437,
           0.0437,
           0.0437,
           0.0437,
           0.0437,
           0.0437,
           0.0437,
           0.0437,
           0.0437,
           0.0437,
           0.0437,
           0.0437,
           0.0437,
           0.0437
          ],
          [
           0.0351,
           0.0351,
           0.0351,
           0.0351,
           0.0351,
           0.0351,
           0.0351,
           0.0351,
           0.0351,
           0.0351,
           0.0351,
           0.0351,
           0.0351,
           0.0351,
           0.0351,
           0.0351,
           0.0351,
           0.0351,
           0.0351,
           0.0351
          ],
          [
           0.034,
           0.034,
           0.034,
           0.034,
           0.034,
           0.034,
           0.034,
           0.034,
           0.034,
           0.034,
           0.034,
           0.034,
           0.034,
           0.034,
           0.034,
           0.034,
           0.034,
           0.034,
           0.034,
           0.034
          ],
          [
           0.0239,
           0.0239,
           0.0239,
           0.0239,
           0.0239,
           0.0239,
           0.0239,
           0.0239,
           0.0239,
           0.0239,
           0.0239,
           0.0239,
           0.0239,
           0.0239,
           0.0239,
           0.0239,
           0.0239,
           0.0239,
           0.0239,
           0.0239
          ],
          [
           0.0214,
           0.0214,
           0.0214,
           0.0214,
           0.0214,
           0.0214,
           0.0214,
           0.0214,
           0.0214,
           0.0214,
           0.0214,
           0.0214,
           0.0214,
           0.0214,
           0.0214,
           0.0214,
           0.0214,
           0.0214,
           0.0214,
           0.0214
          ],
          [
           0.0176,
           0.0176,
           0.0176,
           0.0176,
           0.0176,
           0.0176,
           0.0176,
           0.0176,
           0.0176,
           0.0176,
           0.0176,
           0.0176,
           0.0176,
           0.0176,
           0.0176,
           0.0176,
           0.0176,
           0.0176,
           0.0176,
           0.0176
          ],
          [
           0.0145,
           0.0145,
           0.0145,
           0.0145,
           0.0145,
           0.0145,
           0.0145,
           0.0145,
           0.0145,
           0.0145,
           0.0145,
           0.0145,
           0.0145,
           0.0145,
           0.0145,
           0.0145,
           0.0145,
           0.0145,
           0.0145,
           0.0145
          ],
          [
           0.0114,
           0.0114,
           0.0114,
           0.0114,
           0.0114,
           0.0114,
           0.0114,
           0.0114,
           0.0114,
           0.0114,
           0.0114,
           0.0114,
           0.0114,
           0.0114,
           0.0114,
           0.0114,
           0.0114,
           0.0114,
           0.0114,
           0.0114
          ],
          [
           0.0086,
           0.0086,
           0.0086,
           0.0086,
           0.0086,
           0.0086,
           0.0086,
           0.0086,
           0.0086,
           0.0086,
           0.0086,
           0.0086,
           0.0086,
           0.0086,
           0.0086,
           0.0086,
           0.0086,
           0.0086,
           0.0086,
           0.0086
          ]
         ]
        }
       ],
       "layout": {
        "autosize": true,
        "height": 600,
        "margin": {
         "b": 65,
         "l": 80,
         "r": 50,
         "t": 90
        },
        "scene": {
         "aspectratio": {
          "x": 0.7,
          "y": 0.7,
          "z": 1
         },
         "camera": {
          "eye": {
           "x": 2,
           "y": 0.88,
           "z": 0.64
          }
         },
         "xaxis": {
          "nticks": 10,
          "title": {
           "text": "Efficacy"
          }
         },
         "yaxis": {
          "title": {
           "text": "Vaccination Budget"
          }
         },
         "zaxis": {
          "nticks": 10,
          "title": {
           "text": "Attack Rate"
          }
         }
        },
        "template": {
         "data": {
          "bar": [
           {
            "error_x": {
             "color": "#2a3f5f"
            },
            "error_y": {
             "color": "#2a3f5f"
            },
            "marker": {
             "line": {
              "color": "#E5ECF6",
              "width": 0.5
             }
            },
            "type": "bar"
           }
          ],
          "barpolar": [
           {
            "marker": {
             "line": {
              "color": "#E5ECF6",
              "width": 0.5
             }
            },
            "type": "barpolar"
           }
          ],
          "carpet": [
           {
            "aaxis": {
             "endlinecolor": "#2a3f5f",
             "gridcolor": "white",
             "linecolor": "white",
             "minorgridcolor": "white",
             "startlinecolor": "#2a3f5f"
            },
            "baxis": {
             "endlinecolor": "#2a3f5f",
             "gridcolor": "white",
             "linecolor": "white",
             "minorgridcolor": "white",
             "startlinecolor": "#2a3f5f"
            },
            "type": "carpet"
           }
          ],
          "choropleth": [
           {
            "colorbar": {
             "outlinewidth": 0,
             "ticks": ""
            },
            "type": "choropleth"
           }
          ],
          "contour": [
           {
            "colorbar": {
             "outlinewidth": 0,
             "ticks": ""
            },
            "colorscale": [
             [
              0,
              "#0d0887"
             ],
             [
              0.1111111111111111,
              "#46039f"
             ],
             [
              0.2222222222222222,
              "#7201a8"
             ],
             [
              0.3333333333333333,
              "#9c179e"
             ],
             [
              0.4444444444444444,
              "#bd3786"
             ],
             [
              0.5555555555555556,
              "#d8576b"
             ],
             [
              0.6666666666666666,
              "#ed7953"
             ],
             [
              0.7777777777777778,
              "#fb9f3a"
             ],
             [
              0.8888888888888888,
              "#fdca26"
             ],
             [
              1,
              "#f0f921"
             ]
            ],
            "type": "contour"
           }
          ],
          "contourcarpet": [
           {
            "colorbar": {
             "outlinewidth": 0,
             "ticks": ""
            },
            "type": "contourcarpet"
           }
          ],
          "heatmap": [
           {
            "colorbar": {
             "outlinewidth": 0,
             "ticks": ""
            },
            "colorscale": [
             [
              0,
              "#0d0887"
             ],
             [
              0.1111111111111111,
              "#46039f"
             ],
             [
              0.2222222222222222,
              "#7201a8"
             ],
             [
              0.3333333333333333,
              "#9c179e"
             ],
             [
              0.4444444444444444,
              "#bd3786"
             ],
             [
              0.5555555555555556,
              "#d8576b"
             ],
             [
              0.6666666666666666,
              "#ed7953"
             ],
             [
              0.7777777777777778,
              "#fb9f3a"
             ],
             [
              0.8888888888888888,
              "#fdca26"
             ],
             [
              1,
              "#f0f921"
             ]
            ],
            "type": "heatmap"
           }
          ],
          "heatmapgl": [
           {
            "colorbar": {
             "outlinewidth": 0,
             "ticks": ""
            },
            "colorscale": [
             [
              0,
              "#0d0887"
             ],
             [
              0.1111111111111111,
              "#46039f"
             ],
             [
              0.2222222222222222,
              "#7201a8"
             ],
             [
              0.3333333333333333,
              "#9c179e"
             ],
             [
              0.4444444444444444,
              "#bd3786"
             ],
             [
              0.5555555555555556,
              "#d8576b"
             ],
             [
              0.6666666666666666,
              "#ed7953"
             ],
             [
              0.7777777777777778,
              "#fb9f3a"
             ],
             [
              0.8888888888888888,
              "#fdca26"
             ],
             [
              1,
              "#f0f921"
             ]
            ],
            "type": "heatmapgl"
           }
          ],
          "histogram": [
           {
            "marker": {
             "colorbar": {
              "outlinewidth": 0,
              "ticks": ""
             }
            },
            "type": "histogram"
           }
          ],
          "histogram2d": [
           {
            "colorbar": {
             "outlinewidth": 0,
             "ticks": ""
            },
            "colorscale": [
             [
              0,
              "#0d0887"
             ],
             [
              0.1111111111111111,
              "#46039f"
             ],
             [
              0.2222222222222222,
              "#7201a8"
             ],
             [
              0.3333333333333333,
              "#9c179e"
             ],
             [
              0.4444444444444444,
              "#bd3786"
             ],
             [
              0.5555555555555556,
              "#d8576b"
             ],
             [
              0.6666666666666666,
              "#ed7953"
             ],
             [
              0.7777777777777778,
              "#fb9f3a"
             ],
             [
              0.8888888888888888,
              "#fdca26"
             ],
             [
              1,
              "#f0f921"
             ]
            ],
            "type": "histogram2d"
           }
          ],
          "histogram2dcontour": [
           {
            "colorbar": {
             "outlinewidth": 0,
             "ticks": ""
            },
            "colorscale": [
             [
              0,
              "#0d0887"
             ],
             [
              0.1111111111111111,
              "#46039f"
             ],
             [
              0.2222222222222222,
              "#7201a8"
             ],
             [
              0.3333333333333333,
              "#9c179e"
             ],
             [
              0.4444444444444444,
              "#bd3786"
             ],
             [
              0.5555555555555556,
              "#d8576b"
             ],
             [
              0.6666666666666666,
              "#ed7953"
             ],
             [
              0.7777777777777778,
              "#fb9f3a"
             ],
             [
              0.8888888888888888,
              "#fdca26"
             ],
             [
              1,
              "#f0f921"
             ]
            ],
            "type": "histogram2dcontour"
           }
          ],
          "mesh3d": [
           {
            "colorbar": {
             "outlinewidth": 0,
             "ticks": ""
            },
            "type": "mesh3d"
           }
          ],
          "parcoords": [
           {
            "line": {
             "colorbar": {
              "outlinewidth": 0,
              "ticks": ""
             }
            },
            "type": "parcoords"
           }
          ],
          "pie": [
           {
            "automargin": true,
            "type": "pie"
           }
          ],
          "scatter": [
           {
            "marker": {
             "colorbar": {
              "outlinewidth": 0,
              "ticks": ""
             }
            },
            "type": "scatter"
           }
          ],
          "scatter3d": [
           {
            "line": {
             "colorbar": {
              "outlinewidth": 0,
              "ticks": ""
             }
            },
            "marker": {
             "colorbar": {
              "outlinewidth": 0,
              "ticks": ""
             }
            },
            "type": "scatter3d"
           }
          ],
          "scattercarpet": [
           {
            "marker": {
             "colorbar": {
              "outlinewidth": 0,
              "ticks": ""
             }
            },
            "type": "scattercarpet"
           }
          ],
          "scattergeo": [
           {
            "marker": {
             "colorbar": {
              "outlinewidth": 0,
              "ticks": ""
             }
            },
            "type": "scattergeo"
           }
          ],
          "scattergl": [
           {
            "marker": {
             "colorbar": {
              "outlinewidth": 0,
              "ticks": ""
             }
            },
            "type": "scattergl"
           }
          ],
          "scattermapbox": [
           {
            "marker": {
             "colorbar": {
              "outlinewidth": 0,
              "ticks": ""
             }
            },
            "type": "scattermapbox"
           }
          ],
          "scatterpolar": [
           {
            "marker": {
             "colorbar": {
              "outlinewidth": 0,
              "ticks": ""
             }
            },
            "type": "scatterpolar"
           }
          ],
          "scatterpolargl": [
           {
            "marker": {
             "colorbar": {
              "outlinewidth": 0,
              "ticks": ""
             }
            },
            "type": "scatterpolargl"
           }
          ],
          "scatterternary": [
           {
            "marker": {
             "colorbar": {
              "outlinewidth": 0,
              "ticks": ""
             }
            },
            "type": "scatterternary"
           }
          ],
          "surface": [
           {
            "colorbar": {
             "outlinewidth": 0,
             "ticks": ""
            },
            "colorscale": [
             [
              0,
              "#0d0887"
             ],
             [
              0.1111111111111111,
              "#46039f"
             ],
             [
              0.2222222222222222,
              "#7201a8"
             ],
             [
              0.3333333333333333,
              "#9c179e"
             ],
             [
              0.4444444444444444,
              "#bd3786"
             ],
             [
              0.5555555555555556,
              "#d8576b"
             ],
             [
              0.6666666666666666,
              "#ed7953"
             ],
             [
              0.7777777777777778,
              "#fb9f3a"
             ],
             [
              0.8888888888888888,
              "#fdca26"
             ],
             [
              1,
              "#f0f921"
             ]
            ],
            "type": "surface"
           }
          ],
          "table": [
           {
            "cells": {
             "fill": {
              "color": "#EBF0F8"
             },
             "line": {
              "color": "white"
             }
            },
            "header": {
             "fill": {
              "color": "#C8D4E3"
             },
             "line": {
              "color": "white"
             }
            },
            "type": "table"
           }
          ]
         },
         "layout": {
          "annotationdefaults": {
           "arrowcolor": "#2a3f5f",
           "arrowhead": 0,
           "arrowwidth": 1
          },
          "autotypenumbers": "strict",
          "coloraxis": {
           "colorbar": {
            "outlinewidth": 0,
            "ticks": ""
           }
          },
          "colorscale": {
           "diverging": [
            [
             0,
             "#8e0152"
            ],
            [
             0.1,
             "#c51b7d"
            ],
            [
             0.2,
             "#de77ae"
            ],
            [
             0.3,
             "#f1b6da"
            ],
            [
             0.4,
             "#fde0ef"
            ],
            [
             0.5,
             "#f7f7f7"
            ],
            [
             0.6,
             "#e6f5d0"
            ],
            [
             0.7,
             "#b8e186"
            ],
            [
             0.8,
             "#7fbc41"
            ],
            [
             0.9,
             "#4d9221"
            ],
            [
             1,
             "#276419"
            ]
           ],
           "sequential": [
            [
             0,
             "#0d0887"
            ],
            [
             0.1111111111111111,
             "#46039f"
            ],
            [
             0.2222222222222222,
             "#7201a8"
            ],
            [
             0.3333333333333333,
             "#9c179e"
            ],
            [
             0.4444444444444444,
             "#bd3786"
            ],
            [
             0.5555555555555556,
             "#d8576b"
            ],
            [
             0.6666666666666666,
             "#ed7953"
            ],
            [
             0.7777777777777778,
             "#fb9f3a"
            ],
            [
             0.8888888888888888,
             "#fdca26"
            ],
            [
             1,
             "#f0f921"
            ]
           ],
           "sequentialminus": [
            [
             0,
             "#0d0887"
            ],
            [
             0.1111111111111111,
             "#46039f"
            ],
            [
             0.2222222222222222,
             "#7201a8"
            ],
            [
             0.3333333333333333,
             "#9c179e"
            ],
            [
             0.4444444444444444,
             "#bd3786"
            ],
            [
             0.5555555555555556,
             "#d8576b"
            ],
            [
             0.6666666666666666,
             "#ed7953"
            ],
            [
             0.7777777777777778,
             "#fb9f3a"
            ],
            [
             0.8888888888888888,
             "#fdca26"
            ],
            [
             1,
             "#f0f921"
            ]
           ]
          },
          "colorway": [
           "#636efa",
           "#EF553B",
           "#00cc96",
           "#ab63fa",
           "#FFA15A",
           "#19d3f3",
           "#FF6692",
           "#B6E880",
           "#FF97FF",
           "#FECB52"
          ],
          "font": {
           "color": "#2a3f5f"
          },
          "geo": {
           "bgcolor": "white",
           "lakecolor": "white",
           "landcolor": "#E5ECF6",
           "showlakes": true,
           "showland": true,
           "subunitcolor": "white"
          },
          "hoverlabel": {
           "align": "left"
          },
          "hovermode": "closest",
          "mapbox": {
           "style": "light"
          },
          "paper_bgcolor": "white",
          "plot_bgcolor": "#E5ECF6",
          "polar": {
           "angularaxis": {
            "gridcolor": "white",
            "linecolor": "white",
            "ticks": ""
           },
           "bgcolor": "#E5ECF6",
           "radialaxis": {
            "gridcolor": "white",
            "linecolor": "white",
            "ticks": ""
           }
          },
          "scene": {
           "xaxis": {
            "backgroundcolor": "#E5ECF6",
            "gridcolor": "white",
            "gridwidth": 2,
            "linecolor": "white",
            "showbackground": true,
            "ticks": "",
            "zerolinecolor": "white"
           },
           "yaxis": {
            "backgroundcolor": "#E5ECF6",
            "gridcolor": "white",
            "gridwidth": 2,
            "linecolor": "white",
            "showbackground": true,
            "ticks": "",
            "zerolinecolor": "white"
           },
           "zaxis": {
            "backgroundcolor": "#E5ECF6",
            "gridcolor": "white",
            "gridwidth": 2,
            "linecolor": "white",
            "showbackground": true,
            "ticks": "",
            "zerolinecolor": "white"
           }
          },
          "shapedefaults": {
           "line": {
            "color": "#2a3f5f"
           }
          },
          "ternary": {
           "aaxis": {
            "gridcolor": "white",
            "linecolor": "white",
            "ticks": ""
           },
           "baxis": {
            "gridcolor": "white",
            "linecolor": "white",
            "ticks": ""
           },
           "bgcolor": "#E5ECF6",
           "caxis": {
            "gridcolor": "white",
            "linecolor": "white",
            "ticks": ""
           }
          },
          "title": {
           "x": 0.05
          },
          "xaxis": {
           "automargin": true,
           "gridcolor": "white",
           "linecolor": "white",
           "ticks": "",
           "title": {
            "standoff": 15
           },
           "zerolinecolor": "white",
           "zerolinewidth": 2
          },
          "yaxis": {
           "automargin": true,
           "gridcolor": "white",
           "linecolor": "white",
           "ticks": "",
           "title": {
            "standoff": 15
           },
           "zerolinecolor": "white",
           "zerolinewidth": 2
          }
         }
        },
        "title": {
         "text": "Vaccination Simulations (B = 0, %C = 1.0)",
         "x": 0.5
        },
        "width": 600
       }
      },
      "text/html": [
       "<div>                            <div id=\"cc93a386-a04c-42b6-9f96-b10316dd4575\" class=\"plotly-graph-div\" style=\"height:600px; width:600px;\"></div>            <script type=\"text/javascript\">                require([\"plotly\"], function(Plotly) {                    window.PLOTLYENV=window.PLOTLYENV || {};                                    if (document.getElementById(\"cc93a386-a04c-42b6-9f96-b10316dd4575\")) {                    Plotly.newPlot(                        \"cc93a386-a04c-42b6-9f96-b10316dd4575\",                        [{\"colorscale\": [[0.0, \"#000004\"], [0.1111111111111111, \"#1b0c41\"], [0.2222222222222222, \"#4a0c6b\"], [0.3333333333333333, \"#781c6d\"], [0.4444444444444444, \"#a52c60\"], [0.5555555555555556, \"#cf4446\"], [0.6666666666666666, \"#ed6925\"], [0.7777777777777778, \"#fb9b06\"], [0.8888888888888888, \"#f7d13d\"], [1.0, \"#fcffa4\"]], \"showscale\": false, \"type\": \"surface\", \"x\": [0.0, 0.05, 0.1, 0.15, 0.2, 0.25, 0.3, 0.35, 0.4, 0.45, 0.5, 0.55, 0.6, 0.65, 0.7, 0.75, 0.8, 0.85, 0.9, 0.95], \"y\": [0.0, 0.05, 0.1, 0.15, 0.2, 0.25, 0.3, 0.35, 0.4, 0.45, 0.5, 0.55, 0.6, 0.65, 0.7, 0.75, 0.8, 0.85, 0.9, 1.0], \"z\": [[0.0509, 0.0555, 0.0566, 0.0552, 0.0546, 0.0541, 0.0563, 0.0551, 0.0523, 0.057, 0.0509, 0.0534, 0.0575, 0.0542, 0.0534, 0.0527, 0.0555, 0.0554, 0.0602, 0.0554], [0.0568, 0.0544, 0.0552, 0.0525, 0.0556, 0.0481, 0.0575, 0.048, 0.0529, 0.0486, 0.0491, 0.0494, 0.0486, 0.053, 0.0519, 0.0466, 0.0509, 0.0488, 0.0484, 0.0468], [0.0559, 0.0513, 0.0564, 0.0547, 0.0491, 0.0488, 0.0506, 0.0511, 0.0456, 0.0479, 0.0479, 0.0478, 0.0438, 0.0493, 0.0476, 0.0475, 0.0472, 0.0477, 0.043, 0.0412], [0.0611, 0.0517, 0.0484, 0.0501, 0.0522, 0.0484, 0.0493, 0.0485, 0.048, 0.0462, 0.0434, 0.0488, 0.0448, 0.0441, 0.0405, 0.041, 0.042, 0.0398, 0.0389, 0.0368], [0.0501, 0.0483, 0.0526, 0.0504, 0.0496, 0.0488, 0.0479, 0.0443, 0.0449, 0.0428, 0.042, 0.0386, 0.0405, 0.0377, 0.0382, 0.0356, 0.0344, 0.0335, 0.0311, 0.0308], [0.0548, 0.0528, 0.0524, 0.0494, 0.0523, 0.0473, 0.047, 0.0423, 0.0416, 0.0426, 0.0394, 0.0361, 0.0338, 0.0371, 0.0328, 0.0333, 0.0332, 0.0288, 0.0282, 0.0255], [0.0541, 0.0506, 0.053, 0.0487, 0.0495, 0.0446, 0.041, 0.0416, 0.0423, 0.0396, 0.036, 0.0335, 0.0328, 0.0297, 0.0317, 0.0296, 0.0275, 0.025, 0.0237, 0.0221], [0.0553, 0.0567, 0.0491, 0.0437, 0.0449, 0.0454, 0.0433, 0.034, 0.0368, 0.0364, 0.0329, 0.0332, 0.0315, 0.0268, 0.0288, 0.0249, 0.0236, 0.0204, 0.0182, 0.016], [0.0521, 0.0549, 0.0488, 0.0516, 0.0444, 0.0433, 0.0397, 0.0364, 0.0347, 0.032, 0.0306, 0.029, 0.0217, 0.0252, 0.0246, 0.0219, 0.0178, 0.0157, 0.0147, 0.013], [0.0519, 0.0495, 0.0472, 0.0477, 0.0433, 0.0358, 0.039, 0.0332, 0.0293, 0.0289, 0.0312, 0.0262, 0.0262, 0.0227, 0.0191, 0.017, 0.0151, 0.0152, 0.0137, 0.0104], [0.051, 0.0505, 0.0472, 0.0478, 0.0424, 0.0408, 0.038, 0.0327, 0.0309, 0.0277, 0.024, 0.0225, 0.0202, 0.0177, 0.0172, 0.014, 0.0135, 0.0128, 0.0105, 0.0084], [0.0536, 0.051, 0.0497, 0.0415, 0.0401, 0.0374, 0.0314, 0.0332, 0.0272, 0.0251, 0.0224, 0.0199, 0.017, 0.0165, 0.0143, 0.0118, 0.0111, 0.0101, 0.0092, 0.0067], [0.0575, 0.0523, 0.0473, 0.0444, 0.0412, 0.0354, 0.0345, 0.0287, 0.0269, 0.0216, 0.0229, 0.0182, 0.0153, 0.0135, 0.011, 0.011, 0.0086, 0.008, 0.0072, 0.0058], [0.0582, 0.0455, 0.0484, 0.0401, 0.038, 0.0346, 0.0306, 0.0267, 0.0247, 0.021, 0.0193, 0.0146, 0.012, 0.0127, 0.0101, 0.0095, 0.0077, 0.0069, 0.0059, 0.0052], [0.0538, 0.0461, 0.0452, 0.0404, 0.0351, 0.032, 0.0279, 0.0259, 0.0226, 0.0181, 0.0167, 0.0144, 0.0118, 0.0094, 0.0089, 0.0067, 0.0069, 0.0063, 0.0056, 0.0045], [0.0564, 0.0494, 0.0446, 0.0421, 0.0362, 0.0322, 0.0271, 0.0253, 0.0197, 0.0168, 0.0142, 0.012, 0.0099, 0.0095, 0.0079, 0.0063, 0.0058, 0.0051, 0.0047, 0.0041], [0.0576, 0.0467, 0.0497, 0.0382, 0.0379, 0.0283, 0.027, 0.0226, 0.0183, 0.0168, 0.0129, 0.0102, 0.0094, 0.0072, 0.0066, 0.0061, 0.0057, 0.0047, 0.0043, 0.0039], [0.0512, 0.0494, 0.0441, 0.0401, 0.0348, 0.0295, 0.0234, 0.0228, 0.0174, 0.0139, 0.0125, 0.0095, 0.0082, 0.0064, 0.0063, 0.0053, 0.0047, 0.0043, 0.0041, 0.0035], [0.0566, 0.0483, 0.0393, 0.0365, 0.0335, 0.0239, 0.0232, 0.0202, 0.0145, 0.0117, 0.0099, 0.0086, 0.0072, 0.0064, 0.0056, 0.0051, 0.0044, 0.004, 0.0038, 0.0034], [0.056, 0.0515, 0.0437, 0.0351, 0.034, 0.0239, 0.0214, 0.0176, 0.0145, 0.0114, 0.0086, 0.0075, 0.0066, 0.0058, 0.005, 0.0043, 0.004, 0.0038, 0.0036, 0.0033]]}, {\"colorscale\": [[0.0, \"rgb(196, 230, 195)\"], [0.16666666666666666, \"rgb(150, 210, 164)\"], [0.3333333333333333, \"rgb(109, 188, 144)\"], [0.5, \"rgb(77, 162, 132)\"], [0.6666666666666666, \"rgb(54, 135, 122)\"], [0.8333333333333334, \"rgb(38, 107, 110)\"], [1.0, \"rgb(29, 79, 96)\"]], \"showscale\": false, \"type\": \"surface\", \"x\": [0.0, 0.05, 0.1, 0.15, 0.2, 0.25, 0.3, 0.35, 0.4, 0.45, 0.5, 0.55, 0.6, 0.65, 0.7, 0.75, 0.8, 0.85, 0.9, 0.95], \"y\": [0.0, 0.1, 0.2, 0.3, 0.4, 0.5, 0.6, 0.7, 0.8, 0.9, 1.0], \"z\": [[0.056, 0.056, 0.056, 0.056, 0.056, 0.056, 0.056, 0.056, 0.056, 0.056, 0.056, 0.056, 0.056, 0.056, 0.056, 0.056, 0.056, 0.056, 0.056, 0.056], [0.0515, 0.0515, 0.0515, 0.0515, 0.0515, 0.0515, 0.0515, 0.0515, 0.0515, 0.0515, 0.0515, 0.0515, 0.0515, 0.0515, 0.0515, 0.0515, 0.0515, 0.0515, 0.0515, 0.0515], [0.0437, 0.0437, 0.0437, 0.0437, 0.0437, 0.0437, 0.0437, 0.0437, 0.0437, 0.0437, 0.0437, 0.0437, 0.0437, 0.0437, 0.0437, 0.0437, 0.0437, 0.0437, 0.0437, 0.0437], [0.0351, 0.0351, 0.0351, 0.0351, 0.0351, 0.0351, 0.0351, 0.0351, 0.0351, 0.0351, 0.0351, 0.0351, 0.0351, 0.0351, 0.0351, 0.0351, 0.0351, 0.0351, 0.0351, 0.0351], [0.034, 0.034, 0.034, 0.034, 0.034, 0.034, 0.034, 0.034, 0.034, 0.034, 0.034, 0.034, 0.034, 0.034, 0.034, 0.034, 0.034, 0.034, 0.034, 0.034], [0.0239, 0.0239, 0.0239, 0.0239, 0.0239, 0.0239, 0.0239, 0.0239, 0.0239, 0.0239, 0.0239, 0.0239, 0.0239, 0.0239, 0.0239, 0.0239, 0.0239, 0.0239, 0.0239, 0.0239], [0.0214, 0.0214, 0.0214, 0.0214, 0.0214, 0.0214, 0.0214, 0.0214, 0.0214, 0.0214, 0.0214, 0.0214, 0.0214, 0.0214, 0.0214, 0.0214, 0.0214, 0.0214, 0.0214, 0.0214], [0.0176, 0.0176, 0.0176, 0.0176, 0.0176, 0.0176, 0.0176, 0.0176, 0.0176, 0.0176, 0.0176, 0.0176, 0.0176, 0.0176, 0.0176, 0.0176, 0.0176, 0.0176, 0.0176, 0.0176], [0.0145, 0.0145, 0.0145, 0.0145, 0.0145, 0.0145, 0.0145, 0.0145, 0.0145, 0.0145, 0.0145, 0.0145, 0.0145, 0.0145, 0.0145, 0.0145, 0.0145, 0.0145, 0.0145, 0.0145], [0.0114, 0.0114, 0.0114, 0.0114, 0.0114, 0.0114, 0.0114, 0.0114, 0.0114, 0.0114, 0.0114, 0.0114, 0.0114, 0.0114, 0.0114, 0.0114, 0.0114, 0.0114, 0.0114, 0.0114], [0.0086, 0.0086, 0.0086, 0.0086, 0.0086, 0.0086, 0.0086, 0.0086, 0.0086, 0.0086, 0.0086, 0.0086, 0.0086, 0.0086, 0.0086, 0.0086, 0.0086, 0.0086, 0.0086, 0.0086]]}],                        {\"autosize\": true, \"height\": 600, \"margin\": {\"b\": 65, \"l\": 80, \"r\": 50, \"t\": 90}, \"scene\": {\"aspectratio\": {\"x\": 0.7, \"y\": 0.7, \"z\": 1.0}, \"camera\": {\"eye\": {\"x\": 2.0, \"y\": 0.88, \"z\": 0.64}}, \"xaxis\": {\"nticks\": 10, \"title\": {\"text\": \"Efficacy\"}}, \"yaxis\": {\"title\": {\"text\": \"Vaccination Budget\"}}, \"zaxis\": {\"nticks\": 10, \"title\": {\"text\": \"Attack Rate\"}}}, \"template\": {\"data\": {\"bar\": [{\"error_x\": {\"color\": \"#2a3f5f\"}, \"error_y\": {\"color\": \"#2a3f5f\"}, \"marker\": {\"line\": {\"color\": \"#E5ECF6\", \"width\": 0.5}}, \"type\": \"bar\"}], \"barpolar\": [{\"marker\": {\"line\": {\"color\": \"#E5ECF6\", \"width\": 0.5}}, \"type\": \"barpolar\"}], \"carpet\": [{\"aaxis\": {\"endlinecolor\": \"#2a3f5f\", \"gridcolor\": \"white\", \"linecolor\": \"white\", \"minorgridcolor\": \"white\", \"startlinecolor\": \"#2a3f5f\"}, \"baxis\": {\"endlinecolor\": \"#2a3f5f\", \"gridcolor\": \"white\", \"linecolor\": \"white\", \"minorgridcolor\": \"white\", \"startlinecolor\": \"#2a3f5f\"}, \"type\": \"carpet\"}], \"choropleth\": [{\"colorbar\": {\"outlinewidth\": 0, \"ticks\": \"\"}, \"type\": \"choropleth\"}], \"contour\": [{\"colorbar\": {\"outlinewidth\": 0, \"ticks\": \"\"}, \"colorscale\": [[0.0, \"#0d0887\"], [0.1111111111111111, \"#46039f\"], [0.2222222222222222, \"#7201a8\"], [0.3333333333333333, \"#9c179e\"], [0.4444444444444444, \"#bd3786\"], [0.5555555555555556, \"#d8576b\"], [0.6666666666666666, \"#ed7953\"], [0.7777777777777778, \"#fb9f3a\"], [0.8888888888888888, \"#fdca26\"], [1.0, \"#f0f921\"]], \"type\": \"contour\"}], \"contourcarpet\": [{\"colorbar\": {\"outlinewidth\": 0, \"ticks\": \"\"}, \"type\": \"contourcarpet\"}], \"heatmap\": [{\"colorbar\": {\"outlinewidth\": 0, \"ticks\": \"\"}, \"colorscale\": [[0.0, \"#0d0887\"], [0.1111111111111111, \"#46039f\"], [0.2222222222222222, \"#7201a8\"], [0.3333333333333333, \"#9c179e\"], [0.4444444444444444, \"#bd3786\"], [0.5555555555555556, \"#d8576b\"], [0.6666666666666666, \"#ed7953\"], [0.7777777777777778, \"#fb9f3a\"], [0.8888888888888888, \"#fdca26\"], [1.0, \"#f0f921\"]], \"type\": \"heatmap\"}], \"heatmapgl\": [{\"colorbar\": {\"outlinewidth\": 0, \"ticks\": \"\"}, \"colorscale\": [[0.0, \"#0d0887\"], [0.1111111111111111, \"#46039f\"], [0.2222222222222222, \"#7201a8\"], [0.3333333333333333, \"#9c179e\"], [0.4444444444444444, \"#bd3786\"], [0.5555555555555556, \"#d8576b\"], [0.6666666666666666, \"#ed7953\"], [0.7777777777777778, \"#fb9f3a\"], [0.8888888888888888, \"#fdca26\"], [1.0, \"#f0f921\"]], \"type\": \"heatmapgl\"}], \"histogram\": [{\"marker\": {\"colorbar\": {\"outlinewidth\": 0, \"ticks\": \"\"}}, \"type\": \"histogram\"}], \"histogram2d\": [{\"colorbar\": {\"outlinewidth\": 0, \"ticks\": \"\"}, \"colorscale\": [[0.0, \"#0d0887\"], [0.1111111111111111, \"#46039f\"], [0.2222222222222222, \"#7201a8\"], [0.3333333333333333, \"#9c179e\"], [0.4444444444444444, \"#bd3786\"], [0.5555555555555556, \"#d8576b\"], [0.6666666666666666, \"#ed7953\"], [0.7777777777777778, \"#fb9f3a\"], [0.8888888888888888, \"#fdca26\"], [1.0, \"#f0f921\"]], \"type\": \"histogram2d\"}], \"histogram2dcontour\": [{\"colorbar\": {\"outlinewidth\": 0, \"ticks\": \"\"}, \"colorscale\": [[0.0, \"#0d0887\"], [0.1111111111111111, \"#46039f\"], [0.2222222222222222, \"#7201a8\"], [0.3333333333333333, \"#9c179e\"], [0.4444444444444444, \"#bd3786\"], [0.5555555555555556, \"#d8576b\"], [0.6666666666666666, \"#ed7953\"], [0.7777777777777778, \"#fb9f3a\"], [0.8888888888888888, \"#fdca26\"], [1.0, \"#f0f921\"]], \"type\": \"histogram2dcontour\"}], \"mesh3d\": [{\"colorbar\": {\"outlinewidth\": 0, \"ticks\": \"\"}, \"type\": \"mesh3d\"}], \"parcoords\": [{\"line\": {\"colorbar\": {\"outlinewidth\": 0, \"ticks\": \"\"}}, \"type\": \"parcoords\"}], \"pie\": [{\"automargin\": true, \"type\": \"pie\"}], \"scatter\": [{\"marker\": {\"colorbar\": {\"outlinewidth\": 0, \"ticks\": \"\"}}, \"type\": \"scatter\"}], \"scatter3d\": [{\"line\": {\"colorbar\": {\"outlinewidth\": 0, \"ticks\": \"\"}}, \"marker\": {\"colorbar\": {\"outlinewidth\": 0, \"ticks\": \"\"}}, \"type\": \"scatter3d\"}], \"scattercarpet\": [{\"marker\": {\"colorbar\": {\"outlinewidth\": 0, \"ticks\": \"\"}}, \"type\": \"scattercarpet\"}], \"scattergeo\": [{\"marker\": {\"colorbar\": {\"outlinewidth\": 0, \"ticks\": \"\"}}, \"type\": \"scattergeo\"}], \"scattergl\": [{\"marker\": {\"colorbar\": {\"outlinewidth\": 0, \"ticks\": \"\"}}, \"type\": \"scattergl\"}], \"scattermapbox\": [{\"marker\": {\"colorbar\": {\"outlinewidth\": 0, \"ticks\": \"\"}}, \"type\": \"scattermapbox\"}], \"scatterpolar\": [{\"marker\": {\"colorbar\": {\"outlinewidth\": 0, \"ticks\": \"\"}}, \"type\": \"scatterpolar\"}], \"scatterpolargl\": [{\"marker\": {\"colorbar\": {\"outlinewidth\": 0, \"ticks\": \"\"}}, \"type\": \"scatterpolargl\"}], \"scatterternary\": [{\"marker\": {\"colorbar\": {\"outlinewidth\": 0, \"ticks\": \"\"}}, \"type\": \"scatterternary\"}], \"surface\": [{\"colorbar\": {\"outlinewidth\": 0, \"ticks\": \"\"}, \"colorscale\": [[0.0, \"#0d0887\"], [0.1111111111111111, \"#46039f\"], [0.2222222222222222, \"#7201a8\"], [0.3333333333333333, \"#9c179e\"], [0.4444444444444444, \"#bd3786\"], [0.5555555555555556, \"#d8576b\"], [0.6666666666666666, \"#ed7953\"], [0.7777777777777778, \"#fb9f3a\"], [0.8888888888888888, \"#fdca26\"], [1.0, \"#f0f921\"]], \"type\": \"surface\"}], \"table\": [{\"cells\": {\"fill\": {\"color\": \"#EBF0F8\"}, \"line\": {\"color\": \"white\"}}, \"header\": {\"fill\": {\"color\": \"#C8D4E3\"}, \"line\": {\"color\": \"white\"}}, \"type\": \"table\"}]}, \"layout\": {\"annotationdefaults\": {\"arrowcolor\": \"#2a3f5f\", \"arrowhead\": 0, \"arrowwidth\": 1}, \"autotypenumbers\": \"strict\", \"coloraxis\": {\"colorbar\": {\"outlinewidth\": 0, \"ticks\": \"\"}}, \"colorscale\": {\"diverging\": [[0, \"#8e0152\"], [0.1, \"#c51b7d\"], [0.2, \"#de77ae\"], [0.3, \"#f1b6da\"], [0.4, \"#fde0ef\"], [0.5, \"#f7f7f7\"], [0.6, \"#e6f5d0\"], [0.7, \"#b8e186\"], [0.8, \"#7fbc41\"], [0.9, \"#4d9221\"], [1, \"#276419\"]], \"sequential\": [[0.0, \"#0d0887\"], [0.1111111111111111, \"#46039f\"], [0.2222222222222222, \"#7201a8\"], [0.3333333333333333, \"#9c179e\"], [0.4444444444444444, \"#bd3786\"], [0.5555555555555556, \"#d8576b\"], [0.6666666666666666, \"#ed7953\"], [0.7777777777777778, \"#fb9f3a\"], [0.8888888888888888, \"#fdca26\"], [1.0, \"#f0f921\"]], \"sequentialminus\": [[0.0, \"#0d0887\"], [0.1111111111111111, \"#46039f\"], [0.2222222222222222, \"#7201a8\"], [0.3333333333333333, \"#9c179e\"], [0.4444444444444444, \"#bd3786\"], [0.5555555555555556, \"#d8576b\"], [0.6666666666666666, \"#ed7953\"], [0.7777777777777778, \"#fb9f3a\"], [0.8888888888888888, \"#fdca26\"], [1.0, \"#f0f921\"]]}, \"colorway\": [\"#636efa\", \"#EF553B\", \"#00cc96\", \"#ab63fa\", \"#FFA15A\", \"#19d3f3\", \"#FF6692\", \"#B6E880\", \"#FF97FF\", \"#FECB52\"], \"font\": {\"color\": \"#2a3f5f\"}, \"geo\": {\"bgcolor\": \"white\", \"lakecolor\": \"white\", \"landcolor\": \"#E5ECF6\", \"showlakes\": true, \"showland\": true, \"subunitcolor\": \"white\"}, \"hoverlabel\": {\"align\": \"left\"}, \"hovermode\": \"closest\", \"mapbox\": {\"style\": \"light\"}, \"paper_bgcolor\": \"white\", \"plot_bgcolor\": \"#E5ECF6\", \"polar\": {\"angularaxis\": {\"gridcolor\": \"white\", \"linecolor\": \"white\", \"ticks\": \"\"}, \"bgcolor\": \"#E5ECF6\", \"radialaxis\": {\"gridcolor\": \"white\", \"linecolor\": \"white\", \"ticks\": \"\"}}, \"scene\": {\"xaxis\": {\"backgroundcolor\": \"#E5ECF6\", \"gridcolor\": \"white\", \"gridwidth\": 2, \"linecolor\": \"white\", \"showbackground\": true, \"ticks\": \"\", \"zerolinecolor\": \"white\"}, \"yaxis\": {\"backgroundcolor\": \"#E5ECF6\", \"gridcolor\": \"white\", \"gridwidth\": 2, \"linecolor\": \"white\", \"showbackground\": true, \"ticks\": \"\", \"zerolinecolor\": \"white\"}, \"zaxis\": {\"backgroundcolor\": \"#E5ECF6\", \"gridcolor\": \"white\", \"gridwidth\": 2, \"linecolor\": \"white\", \"showbackground\": true, \"ticks\": \"\", \"zerolinecolor\": \"white\"}}, \"shapedefaults\": {\"line\": {\"color\": \"#2a3f5f\"}}, \"ternary\": {\"aaxis\": {\"gridcolor\": \"white\", \"linecolor\": \"white\", \"ticks\": \"\"}, \"baxis\": {\"gridcolor\": \"white\", \"linecolor\": \"white\", \"ticks\": \"\"}, \"bgcolor\": \"#E5ECF6\", \"caxis\": {\"gridcolor\": \"white\", \"linecolor\": \"white\", \"ticks\": \"\"}}, \"title\": {\"x\": 0.05}, \"xaxis\": {\"automargin\": true, \"gridcolor\": \"white\", \"linecolor\": \"white\", \"ticks\": \"\", \"title\": {\"standoff\": 15}, \"zerolinecolor\": \"white\", \"zerolinewidth\": 2}, \"yaxis\": {\"automargin\": true, \"gridcolor\": \"white\", \"linecolor\": \"white\", \"ticks\": \"\", \"title\": {\"standoff\": 15}, \"zerolinecolor\": \"white\", \"zerolinewidth\": 2}}}, \"title\": {\"text\": \"Vaccination Simulations (B = 0, %C = 1.0)\", \"x\": 0.5}, \"width\": 600},                        {\"responsive\": true}                    ).then(function(){\n",
       "                            \n",
       "var gd = document.getElementById('cc93a386-a04c-42b6-9f96-b10316dd4575');\n",
       "var x = new MutationObserver(function (mutations, observer) {{\n",
       "        var display = window.getComputedStyle(gd).display;\n",
       "        if (!display || display === 'none') {{\n",
       "            console.log([gd, 'removed!']);\n",
       "            Plotly.purge(gd);\n",
       "            observer.disconnect();\n",
       "        }}\n",
       "}});\n",
       "\n",
       "// Listen for the removal of the full notebook cells\n",
       "var notebookContainer = gd.closest('#notebook-container');\n",
       "if (notebookContainer) {{\n",
       "    x.observe(notebookContainer, {childList: true});\n",
       "}}\n",
       "\n",
       "// Listen for the clearing of the current output cell\n",
       "var outputEl = gd.closest('.output');\n",
       "if (outputEl) {{\n",
       "    x.observe(outputEl, {childList: true});\n",
       "}}\n",
       "\n",
       "                        })                };                });            </script>        </div>"
      ]
     },
     "metadata": {},
     "output_type": "display_data"
    }
   ],
   "source": [
    "xlabel = \"E\"\n",
    "ylabel = \"VB\"\n",
    "zlabel = \"%total\"\n",
    "filename = \"D:/Wholehouse_Simulations/Dope_Plot.png\"\n",
    "two_dose_efficacy = 0.95\n",
    "\n",
    "Fancy_Plot(xlabel, ylabel, zlabel, two_dose_efficacy, filename, df_sim_means)"
   ]
  },
  {
   "cell_type": "code",
   "execution_count": 118,
   "metadata": {},
   "outputs": [
    {
     "data": {
      "image/png": "[encoded data removed]",
      "text/plain": [
       "<Figure size 432x288 with 3 Axes>"
      ]
     },
     "metadata": {
      "needs_background": "light"
     },
     "output_type": "display_data"
    }
   ],
   "source": [
    "B3 = mpimg.imread(\"D:/Wholehouse_Simulations/Better_Vaccine_Plots/Seed_0_C_1_Net_Payoff.png\") \n",
    "B5 = mpimg.imread(\"D:/Wholehouse_Simulations/Better_Vaccine_Plots/Seed_0_C_5_Net_Payoff.png\") \n",
    "B10 = mpimg.imread(\"D:/Wholehouse_Simulations/Better_Vaccine_Plots/Seed_0_C_10_Net_Payoff.png\")\n",
    "\n",
    "fig = plt.figure()\n",
    "plt.rcParams['pdf.fonttype'] = 42\n",
    "plt.rcParams['ps.fonttype'] = 42 \n",
    "\n",
    "ax = plt.subplot2grid((2,4),(0,0), colspan=2)\n",
    "ax.imshow(B3)\n",
    "plt.axis(\"off\")\n",
    "\n",
    "ax1 = plt.subplot2grid((2,4),(0,2), colspan=2)\n",
    "ax1.imshow(B5)\n",
    "plt.axis(\"off\")\n",
    "\n",
    "ax2 = plt.subplot2grid((2,4),(1,1), colspan=2)\n",
    "ax2.imshow(B10)\n",
    "plt.axis(\"off\")\n",
    "\n",
    "plt.savefig(\"D:/Wholehouse_Simulations/Subplots_Flat_Net_Payoff.jpg\",bbox_inches=\"tight\",transparent = True, dpi=500)\n",
    "plt.show()"
   ]
  },
  {
   "cell_type": "code",
   "execution_count": 43,
   "metadata": {},
   "outputs": [
    {
     "data": {
      "application/vnd.plotly.v1+json": {
       "config": {
        "plotlyServerURL": "https://plot.ly"
       },
       "data": [
        {
         "contours": {
          "z": {
           "highlightcolor": "limegreen",
           "project": {
            "z": true
           },
           "show": true,
           "usecolormap": true
          }
         },
         "showscale": true,
         "type": "surface",
         "x": [
          0,
          0.05,
          0.1,
          0.15,
          0.2,
          0.25,
          0.3,
          0.35,
          0.4,
          0.45,
          0.5,
          0.55,
          0.6,
          0.65,
          0.7,
          0.75,
          0.8,
          0.85,
          0.9,
          0.95
         ],
         "y": [
          0,
          0.1,
          0.2,
          0.3,
          0.4,
          0.5,
          0.6,
          0.7,
          0.8,
          0.9,
          1
         ],
         "z": [
          [
           0.0051,
           -0.0008000000000000021,
           0.00010000000000000286,
           -0.0051,
           0.0059000000000000025,
           0.0011999999999999997,
           0.001899999999999999,
           0.0006999999999999992,
           0.0039000000000000007,
           0.0040999999999999995,
           0.0050000000000000044,
           0.0023999999999999994,
           -0.0015000000000000013,
           -0.0022000000000000006,
           0.0022000000000000006,
           -0.0003999999999999976,
           -0.0015999999999999973,
           0.004799999999999999,
           -0.0005999999999999964,
           0
          ],
          [
           -0.0051,
           -0.003700000000000002,
           -0.004900000000000002,
           0.0030999999999999986,
           -0.0011000000000000038,
           -0.000900000000000005,
           -0.0015000000000000013,
           0.0023999999999999994,
           0.002699999999999994,
           0.004299999999999998,
           0.004299999999999998,
           0.001799999999999996,
           0.004199999999999995,
           0.0030999999999999986,
           0.0063,
           0.006899999999999996,
           0.001799999999999996,
           0.007399999999999997,
           0.012199999999999996,
           0.0077999999999999944
          ],
          [
           -0.0109,
           -0.011899999999999994,
           -0.005399999999999995,
           -0.0085,
           -0.0058999999999999955,
           -0.008599999999999997,
           -0.0058,
           -0.0011999999999999997,
           -0.0006999999999999992,
           0.0004000000000000045,
           0.0013000000000000025,
           0.003600000000000006,
           0.0025000000000000022,
           0.005700000000000004,
           0.008600000000000003,
           0.0075,
           0.0058,
           0.008900000000000005,
           0.0102,
           0.0097
          ],
          [
           -0.021200000000000004,
           -0.022400000000000003,
           -0.0155,
           -0.014199999999999997,
           -0.012799999999999999,
           -0.0119,
           -0.0059000000000000025,
           -0.008199999999999999,
           -0.0046,
           -0.0039000000000000007,
           -0.0029,
           0.003700000000000002,
           0.0005999999999999964,
           0.0045000000000000005,
           0.007199999999999998,
           0.008,
           0.0081,
           0.011699999999999999,
           0.0119,
           0.0137
          ],
          [
           -0.018299999999999997,
           -0.0189,
           -0.0116,
           -0.013999999999999999,
           -0.0109,
           -0.007599999999999996,
           -0.008299999999999995,
           -0.002799999999999997,
           -0.0006999999999999992,
           0.004700000000000003,
           0.003100000000000002,
           0.006800000000000004,
           0.007100000000000002,
           0.009300000000000003,
           0.011400000000000004,
           0.014300000000000004,
           0.015700000000000002,
           0.016600000000000004,
           0.019500000000000003,
           0.019500000000000003
          ],
          [
           -0.027,
           -0.025199999999999997,
           -0.023999999999999997,
           -0.0195,
           -0.0181,
           -0.015499999999999996,
           -0.012099999999999996,
           -0.008999999999999998,
           -0.006699999999999998,
           -0.0072999999999999975,
           -9.99999999999994e-05,
           0.0015000000000000013,
           0.0010000000000000009,
           0.0046,
           0.0072000000000000015,
           0.0097,
           0.011000000000000001,
           0.0114,
           0.014,
           0.015300000000000001
          ],
          [
           -0.03610000000000001,
           -0.0272,
           -0.0224,
           -0.0234,
           -0.019100000000000002,
           -0.012399999999999998,
           -0.011400000000000004,
           -0.010100000000000001,
           -0.00030000000000000165,
           -0.004800000000000002,
           0.0011999999999999997,
           0.004399999999999998,
           0.0060999999999999995,
           0.009399999999999999,
           0.0096,
           0.011499999999999998,
           0.011999999999999999,
           0.013199999999999998,
           0.014199999999999999,
           0.014799999999999999
          ],
          [
           -0.0358,
           -0.0343,
           -0.030000000000000002,
           -0.0229,
           -0.020599999999999997,
           -0.015200000000000002,
           -0.014099999999999998,
           -0.011199999999999998,
           -0.006999999999999999,
           -0.0014999999999999979,
           0.00040000000000000105,
           0.003300000000000001,
           0.006600000000000002,
           0.0075000000000000015,
           0.008700000000000001,
           0.0097,
           0.011000000000000001,
           0.011300000000000001,
           0.012,
           0.0126
          ],
          [
           -0.041,
           -0.0364,
           -0.0327,
           -0.027500000000000004,
           -0.0199,
           -0.0187,
           -0.013,
           -0.009099999999999999,
           -0.003299999999999999,
           -0.0005999999999999998,
           0.0010000000000000009,
           0.0034000000000000002,
           0.005900000000000001,
           0.0068000000000000005,
           0.007600000000000001,
           0.008700000000000001,
           0.0088,
           0.0098,
           0.010100000000000001,
           0.0105
          ],
          [
           -0.048799999999999996,
           -0.037,
           -0.031599999999999996,
           -0.027499999999999997,
           -0.0197,
           -0.0168,
           -0.012299999999999998,
           -0.0068000000000000005,
           -0.003299999999999999,
           -0.0023,
           0.0008999999999999998,
           0.0022000000000000006,
           0.004200000000000001,
           0.0055000000000000005,
           0.0058000000000000005,
           0.0067,
           0.0071,
           0.0073,
           0.007600000000000001,
           0.0078000000000000005
          ],
          [
           -0.046799999999999994,
           -0.0382,
           -0.032600000000000004,
           -0.0282,
           -0.0222,
           -0.0169,
           -0.013500000000000002,
           -0.0074,
           -0.004399999999999999,
           -0.0017999999999999995,
           0.00020000000000000052,
           0.0018999999999999998,
           0.0028000000000000004,
           0.0034000000000000002,
           0.0041,
           0.0045,
           0.0047,
           0.0051,
           0.0052,
           0.0053
          ]
         ]
        },
        {
         "contours": {
          "z": {
           "highlightcolor": "limegreen",
           "project": {
            "z": true
           },
           "show": true,
           "usecolormap": true
          }
         },
         "showscale": false,
         "type": "surface",
         "x": [
          0,
          0.05,
          0.1,
          0.15,
          0.2,
          0.25,
          0.3,
          0.35,
          0.4,
          0.45,
          0.5,
          0.55,
          0.6,
          0.65,
          0.7,
          0.75,
          0.8,
          0.85,
          0.9,
          0.95
         ],
         "y": [
          0,
          0.1,
          0.2,
          0.3,
          0.4,
          0.5,
          0.6,
          0.7,
          0.8,
          0.9,
          1
         ],
         "z": [
          [
           0,
           0,
           0,
           0,
           0,
           0,
           0,
           0,
           0,
           0,
           0,
           0,
           0,
           0,
           0,
           0,
           0,
           0,
           0,
           0
          ],
          [
           0,
           0,
           0,
           0,
           0,
           0,
           0,
           0,
           0,
           0,
           0,
           0,
           0,
           0,
           0,
           0,
           0,
           0,
           0,
           0
          ],
          [
           0,
           0,
           0,
           0,
           0,
           0,
           0,
           0,
           0,
           0,
           0,
           0,
           0,
           0,
           0,
           0,
           0,
           0,
           0,
           0
          ],
          [
           0,
           0,
           0,
           0,
           0,
           0,
           0,
           0,
           0,
           0,
           0,
           0,
           0,
           0,
           0,
           0,
           0,
           0,
           0,
           0
          ],
          [
           0,
           0,
           0,
           0,
           0,
           0,
           0,
           0,
           0,
           0,
           0,
           0,
           0,
           0,
           0,
           0,
           0,
           0,
           0,
           0
          ],
          [
           0,
           0,
           0,
           0,
           0,
           0,
           0,
           0,
           0,
           0,
           0,
           0,
           0,
           0,
           0,
           0,
           0,
           0,
           0,
           0
          ],
          [
           0,
           0,
           0,
           0,
           0,
           0,
           0,
           0,
           0,
           0,
           0,
           0,
           0,
           0,
           0,
           0,
           0,
           0,
           0,
           0
          ],
          [
           0,
           0,
           0,
           0,
           0,
           0,
           0,
           0,
           0,
           0,
           0,
           0,
           0,
           0,
           0,
           0,
           0,
           0,
           0,
           0
          ],
          [
           0,
           0,
           0,
           0,
           0,
           0,
           0,
           0,
           0,
           0,
           0,
           0,
           0,
           0,
           0,
           0,
           0,
           0,
           0,
           0
          ],
          [
           0,
           0,
           0,
           0,
           0,
           0,
           0,
           0,
           0,
           0,
           0,
           0,
           0,
           0,
           0,
           0,
           0,
           0,
           0,
           0
          ],
          [
           0,
           0,
           0,
           0,
           0,
           0,
           0,
           0,
           0,
           0,
           0,
           0,
           0,
           0,
           0,
           0,
           0,
           0,
           0,
           0
          ]
         ]
        }
       ],
       "layout": {
        "autosize": true,
        "height": 600,
        "margin": {
         "b": 65,
         "l": 80,
         "r": 50,
         "t": 90
        },
        "scene": {
         "aspectratio": {
          "x": 0.7,
          "y": 0.7,
          "z": 1
         },
         "camera": {
          "eye": {
           "x": 2,
           "y": 0.88,
           "z": 0.64
          }
         },
         "xaxis": {
          "nticks": 10,
          "title": {
           "text": "Efficacy"
          }
         },
         "yaxis": {
          "title": {
           "text": "Vaccination Budget"
          }
         },
         "zaxis": {
          "nticks": 10,
          "title": {
           "text": "Net Payoff"
          }
         }
        },
        "template": {
         "data": {
          "bar": [
           {
            "error_x": {
             "color": "#2a3f5f"
            },
            "error_y": {
             "color": "#2a3f5f"
            },
            "marker": {
             "line": {
              "color": "#E5ECF6",
              "width": 0.5
             }
            },
            "type": "bar"
           }
          ],
          "barpolar": [
           {
            "marker": {
             "line": {
              "color": "#E5ECF6",
              "width": 0.5
             }
            },
            "type": "barpolar"
           }
          ],
          "carpet": [
           {
            "aaxis": {
             "endlinecolor": "#2a3f5f",
             "gridcolor": "white",
             "linecolor": "white",
             "minorgridcolor": "white",
             "startlinecolor": "#2a3f5f"
            },
            "baxis": {
             "endlinecolor": "#2a3f5f",
             "gridcolor": "white",
             "linecolor": "white",
             "minorgridcolor": "white",
             "startlinecolor": "#2a3f5f"
            },
            "type": "carpet"
           }
          ],
          "choropleth": [
           {
            "colorbar": {
             "outlinewidth": 0,
             "ticks": ""
            },
            "type": "choropleth"
           }
          ],
          "contour": [
           {
            "colorbar": {
             "outlinewidth": 0,
             "ticks": ""
            },
            "colorscale": [
             [
              0,
              "#0d0887"
             ],
             [
              0.1111111111111111,
              "#46039f"
             ],
             [
              0.2222222222222222,
              "#7201a8"
             ],
             [
              0.3333333333333333,
              "#9c179e"
             ],
             [
              0.4444444444444444,
              "#bd3786"
             ],
             [
              0.5555555555555556,
              "#d8576b"
             ],
             [
              0.6666666666666666,
              "#ed7953"
             ],
             [
              0.7777777777777778,
              "#fb9f3a"
             ],
             [
              0.8888888888888888,
              "#fdca26"
             ],
             [
              1,
              "#f0f921"
             ]
            ],
            "type": "contour"
           }
          ],
          "contourcarpet": [
           {
            "colorbar": {
             "outlinewidth": 0,
             "ticks": ""
            },
            "type": "contourcarpet"
           }
          ],
          "heatmap": [
           {
            "colorbar": {
             "outlinewidth": 0,
             "ticks": ""
            },
            "colorscale": [
             [
              0,
              "#0d0887"
             ],
             [
              0.1111111111111111,
              "#46039f"
             ],
             [
              0.2222222222222222,
              "#7201a8"
             ],
             [
              0.3333333333333333,
              "#9c179e"
             ],
             [
              0.4444444444444444,
              "#bd3786"
             ],
             [
              0.5555555555555556,
              "#d8576b"
             ],
             [
              0.6666666666666666,
              "#ed7953"
             ],
             [
              0.7777777777777778,
              "#fb9f3a"
             ],
             [
              0.8888888888888888,
              "#fdca26"
             ],
             [
              1,
              "#f0f921"
             ]
            ],
            "type": "heatmap"
           }
          ],
          "heatmapgl": [
           {
            "colorbar": {
             "outlinewidth": 0,
             "ticks": ""
            },
            "colorscale": [
             [
              0,
              "#0d0887"
             ],
             [
              0.1111111111111111,
              "#46039f"
             ],
             [
              0.2222222222222222,
              "#7201a8"
             ],
             [
              0.3333333333333333,
              "#9c179e"
             ],
             [
              0.4444444444444444,
              "#bd3786"
             ],
             [
              0.5555555555555556,
              "#d8576b"
             ],
             [
              0.6666666666666666,
              "#ed7953"
             ],
             [
              0.7777777777777778,
              "#fb9f3a"
             ],
             [
              0.8888888888888888,
              "#fdca26"
             ],
             [
              1,
              "#f0f921"
             ]
            ],
            "type": "heatmapgl"
           }
          ],
          "histogram": [
           {
            "marker": {
             "colorbar": {
              "outlinewidth": 0,
              "ticks": ""
             }
            },
            "type": "histogram"
           }
          ],
          "histogram2d": [
           {
            "colorbar": {
             "outlinewidth": 0,
             "ticks": ""
            },
            "colorscale": [
             [
              0,
              "#0d0887"
             ],
             [
              0.1111111111111111,
              "#46039f"
             ],
             [
              0.2222222222222222,
              "#7201a8"
             ],
             [
              0.3333333333333333,
              "#9c179e"
             ],
             [
              0.4444444444444444,
              "#bd3786"
             ],
             [
              0.5555555555555556,
              "#d8576b"
             ],
             [
              0.6666666666666666,
              "#ed7953"
             ],
             [
              0.7777777777777778,
              "#fb9f3a"
             ],
             [
              0.8888888888888888,
              "#fdca26"
             ],
             [
              1,
              "#f0f921"
             ]
            ],
            "type": "histogram2d"
           }
          ],
          "histogram2dcontour": [
           {
            "colorbar": {
             "outlinewidth": 0,
             "ticks": ""
            },
            "colorscale": [
             [
              0,
              "#0d0887"
             ],
             [
              0.1111111111111111,
              "#46039f"
             ],
             [
              0.2222222222222222,
              "#7201a8"
             ],
             [
              0.3333333333333333,
              "#9c179e"
             ],
             [
              0.4444444444444444,
              "#bd3786"
             ],
             [
              0.5555555555555556,
              "#d8576b"
             ],
             [
              0.6666666666666666,
              "#ed7953"
             ],
             [
              0.7777777777777778,
              "#fb9f3a"
             ],
             [
              0.8888888888888888,
              "#fdca26"
             ],
             [
              1,
              "#f0f921"
             ]
            ],
            "type": "histogram2dcontour"
           }
          ],
          "mesh3d": [
           {
            "colorbar": {
             "outlinewidth": 0,
             "ticks": ""
            },
            "type": "mesh3d"
           }
          ],
          "parcoords": [
           {
            "line": {
             "colorbar": {
              "outlinewidth": 0,
              "ticks": ""
             }
            },
            "type": "parcoords"
           }
          ],
          "pie": [
           {
            "automargin": true,
            "type": "pie"
           }
          ],
          "scatter": [
           {
            "marker": {
             "colorbar": {
              "outlinewidth": 0,
              "ticks": ""
             }
            },
            "type": "scatter"
           }
          ],
          "scatter3d": [
           {
            "line": {
             "colorbar": {
              "outlinewidth": 0,
              "ticks": ""
             }
            },
            "marker": {
             "colorbar": {
              "outlinewidth": 0,
              "ticks": ""
             }
            },
            "type": "scatter3d"
           }
          ],
          "scattercarpet": [
           {
            "marker": {
             "colorbar": {
              "outlinewidth": 0,
              "ticks": ""
             }
            },
            "type": "scattercarpet"
           }
          ],
          "scattergeo": [
           {
            "marker": {
             "colorbar": {
              "outlinewidth": 0,
              "ticks": ""
             }
            },
            "type": "scattergeo"
           }
          ],
          "scattergl": [
           {
            "marker": {
             "colorbar": {
              "outlinewidth": 0,
              "ticks": ""
             }
            },
            "type": "scattergl"
           }
          ],
          "scattermapbox": [
           {
            "marker": {
             "colorbar": {
              "outlinewidth": 0,
              "ticks": ""
             }
            },
            "type": "scattermapbox"
           }
          ],
          "scatterpolar": [
           {
            "marker": {
             "colorbar": {
              "outlinewidth": 0,
              "ticks": ""
             }
            },
            "type": "scatterpolar"
           }
          ],
          "scatterpolargl": [
           {
            "marker": {
             "colorbar": {
              "outlinewidth": 0,
              "ticks": ""
             }
            },
            "type": "scatterpolargl"
           }
          ],
          "scatterternary": [
           {
            "marker": {
             "colorbar": {
              "outlinewidth": 0,
              "ticks": ""
             }
            },
            "type": "scatterternary"
           }
          ],
          "surface": [
           {
            "colorbar": {
             "outlinewidth": 0,
             "ticks": ""
            },
            "colorscale": [
             [
              0,
              "#0d0887"
             ],
             [
              0.1111111111111111,
              "#46039f"
             ],
             [
              0.2222222222222222,
              "#7201a8"
             ],
             [
              0.3333333333333333,
              "#9c179e"
             ],
             [
              0.4444444444444444,
              "#bd3786"
             ],
             [
              0.5555555555555556,
              "#d8576b"
             ],
             [
              0.6666666666666666,
              "#ed7953"
             ],
             [
              0.7777777777777778,
              "#fb9f3a"
             ],
             [
              0.8888888888888888,
              "#fdca26"
             ],
             [
              1,
              "#f0f921"
             ]
            ],
            "type": "surface"
           }
          ],
          "table": [
           {
            "cells": {
             "fill": {
              "color": "#EBF0F8"
             },
             "line": {
              "color": "white"
             }
            },
            "header": {
             "fill": {
              "color": "#C8D4E3"
             },
             "line": {
              "color": "white"
             }
            },
            "type": "table"
           }
          ]
         },
         "layout": {
          "annotationdefaults": {
           "arrowcolor": "#2a3f5f",
           "arrowhead": 0,
           "arrowwidth": 1
          },
          "autotypenumbers": "strict",
          "coloraxis": {
           "colorbar": {
            "outlinewidth": 0,
            "ticks": ""
           }
          },
          "colorscale": {
           "diverging": [
            [
             0,
             "#8e0152"
            ],
            [
             0.1,
             "#c51b7d"
            ],
            [
             0.2,
             "#de77ae"
            ],
            [
             0.3,
             "#f1b6da"
            ],
            [
             0.4,
             "#fde0ef"
            ],
            [
             0.5,
             "#f7f7f7"
            ],
            [
             0.6,
             "#e6f5d0"
            ],
            [
             0.7,
             "#b8e186"
            ],
            [
             0.8,
             "#7fbc41"
            ],
            [
             0.9,
             "#4d9221"
            ],
            [
             1,
             "#276419"
            ]
           ],
           "sequential": [
            [
             0,
             "#0d0887"
            ],
            [
             0.1111111111111111,
             "#46039f"
            ],
            [
             0.2222222222222222,
             "#7201a8"
            ],
            [
             0.3333333333333333,
             "#9c179e"
            ],
            [
             0.4444444444444444,
             "#bd3786"
            ],
            [
             0.5555555555555556,
             "#d8576b"
            ],
            [
             0.6666666666666666,
             "#ed7953"
            ],
            [
             0.7777777777777778,
             "#fb9f3a"
            ],
            [
             0.8888888888888888,
             "#fdca26"
            ],
            [
             1,
             "#f0f921"
            ]
           ],
           "sequentialminus": [
            [
             0,
             "#0d0887"
            ],
            [
             0.1111111111111111,
             "#46039f"
            ],
            [
             0.2222222222222222,
             "#7201a8"
            ],
            [
             0.3333333333333333,
             "#9c179e"
            ],
            [
             0.4444444444444444,
             "#bd3786"
            ],
            [
             0.5555555555555556,
             "#d8576b"
            ],
            [
             0.6666666666666666,
             "#ed7953"
            ],
            [
             0.7777777777777778,
             "#fb9f3a"
            ],
            [
             0.8888888888888888,
             "#fdca26"
            ],
            [
             1,
             "#f0f921"
            ]
           ]
          },
          "colorway": [
           "#636efa",
           "#EF553B",
           "#00cc96",
           "#ab63fa",
           "#FFA15A",
           "#19d3f3",
           "#FF6692",
           "#B6E880",
           "#FF97FF",
           "#FECB52"
          ],
          "font": {
           "color": "#2a3f5f"
          },
          "geo": {
           "bgcolor": "white",
           "lakecolor": "white",
           "landcolor": "#E5ECF6",
           "showlakes": true,
           "showland": true,
           "subunitcolor": "white"
          },
          "hoverlabel": {
           "align": "left"
          },
          "hovermode": "closest",
          "mapbox": {
           "style": "light"
          },
          "paper_bgcolor": "white",
          "plot_bgcolor": "#E5ECF6",
          "polar": {
           "angularaxis": {
            "gridcolor": "white",
            "linecolor": "white",
            "ticks": ""
           },
           "bgcolor": "#E5ECF6",
           "radialaxis": {
            "gridcolor": "white",
            "linecolor": "white",
            "ticks": ""
           }
          },
          "scene": {
           "xaxis": {
            "backgroundcolor": "#E5ECF6",
            "gridcolor": "white",
            "gridwidth": 2,
            "linecolor": "white",
            "showbackground": true,
            "ticks": "",
            "zerolinecolor": "white"
           },
           "yaxis": {
            "backgroundcolor": "#E5ECF6",
            "gridcolor": "white",
            "gridwidth": 2,
            "linecolor": "white",
            "showbackground": true,
            "ticks": "",
            "zerolinecolor": "white"
           },
           "zaxis": {
            "backgroundcolor": "#E5ECF6",
            "gridcolor": "white",
            "gridwidth": 2,
            "linecolor": "white",
            "showbackground": true,
            "ticks": "",
            "zerolinecolor": "white"
           }
          },
          "shapedefaults": {
           "line": {
            "color": "#2a3f5f"
           }
          },
          "ternary": {
           "aaxis": {
            "gridcolor": "white",
            "linecolor": "white",
            "ticks": ""
           },
           "baxis": {
            "gridcolor": "white",
            "linecolor": "white",
            "ticks": ""
           },
           "bgcolor": "#E5ECF6",
           "caxis": {
            "gridcolor": "white",
            "linecolor": "white",
            "ticks": ""
           }
          },
          "title": {
           "x": 0.05
          },
          "xaxis": {
           "automargin": true,
           "gridcolor": "white",
           "linecolor": "white",
           "ticks": "",
           "title": {
            "standoff": 15
           },
           "zerolinecolor": "white",
           "zerolinewidth": 2
          },
          "yaxis": {
           "automargin": true,
           "gridcolor": "white",
           "linecolor": "white",
           "ticks": "",
           "title": {
            "standoff": 15
           },
           "zerolinecolor": "white",
           "zerolinewidth": 2
          }
         }
        },
        "title": {
         "text": "Vaccination Simulations Net Payoff (B = 0, %C = 1.0)",
         "x": 0.5
        },
        "width": 600
       }
      },
      "text/html": [
       "<div>                            <div id=\"214e22db-b0f8-4809-b9e2-fe838df25d80\" class=\"plotly-graph-div\" style=\"height:600px; width:600px;\"></div>            <script type=\"text/javascript\">                require([\"plotly\"], function(Plotly) {                    window.PLOTLYENV=window.PLOTLYENV || {};                                    if (document.getElementById(\"214e22db-b0f8-4809-b9e2-fe838df25d80\")) {                    Plotly.newPlot(                        \"214e22db-b0f8-4809-b9e2-fe838df25d80\",                        [{\"contours\": {\"z\": {\"highlightcolor\": \"limegreen\", \"project\": {\"z\": true}, \"show\": true, \"usecolormap\": true}}, \"showscale\": true, \"type\": \"surface\", \"x\": [0.0, 0.05, 0.1, 0.15, 0.2, 0.25, 0.3, 0.35, 0.4, 0.45, 0.5, 0.55, 0.6, 0.65, 0.7, 0.75, 0.8, 0.85, 0.9, 0.95], \"y\": [0.0, 0.1, 0.2, 0.3, 0.4, 0.5, 0.6, 0.7, 0.8, 0.9, 1.0], \"z\": [[0.0051, -0.0008000000000000021, 0.00010000000000000286, -0.0051, 0.0059000000000000025, 0.0011999999999999997, 0.001899999999999999, 0.0006999999999999992, 0.0039000000000000007, 0.0040999999999999995, 0.0050000000000000044, 0.0023999999999999994, -0.0015000000000000013, -0.0022000000000000006, 0.0022000000000000006, -0.0003999999999999976, -0.0015999999999999973, 0.004799999999999999, -0.0005999999999999964, 0.0], [-0.0051, -0.003700000000000002, -0.004900000000000002, 0.0030999999999999986, -0.0011000000000000038, -0.000900000000000005, -0.0015000000000000013, 0.0023999999999999994, 0.002699999999999994, 0.004299999999999998, 0.004299999999999998, 0.001799999999999996, 0.004199999999999995, 0.0030999999999999986, 0.0063, 0.006899999999999996, 0.001799999999999996, 0.007399999999999997, 0.012199999999999996, 0.0077999999999999944], [-0.0109, -0.011899999999999994, -0.005399999999999995, -0.0085, -0.0058999999999999955, -0.008599999999999997, -0.0058, -0.0011999999999999997, -0.0006999999999999992, 0.0004000000000000045, 0.0013000000000000025, 0.003600000000000006, 0.0025000000000000022, 0.005700000000000004, 0.008600000000000003, 0.0075, 0.0058, 0.008900000000000005, 0.0102, 0.0097], [-0.021200000000000004, -0.022400000000000003, -0.0155, -0.014199999999999997, -0.012799999999999999, -0.0119, -0.0059000000000000025, -0.008199999999999999, -0.0046, -0.0039000000000000007, -0.0029, 0.003700000000000002, 0.0005999999999999964, 0.0045000000000000005, 0.007199999999999998, 0.008, 0.0081, 0.011699999999999999, 0.0119, 0.0137], [-0.018299999999999997, -0.0189, -0.0116, -0.013999999999999999, -0.0109, -0.007599999999999996, -0.008299999999999995, -0.002799999999999997, -0.0006999999999999992, 0.004700000000000003, 0.003100000000000002, 0.006800000000000004, 0.007100000000000002, 0.009300000000000003, 0.011400000000000004, 0.014300000000000004, 0.015700000000000002, 0.016600000000000004, 0.019500000000000003, 0.019500000000000003], [-0.027, -0.025199999999999997, -0.023999999999999997, -0.0195, -0.0181, -0.015499999999999996, -0.012099999999999996, -0.008999999999999998, -0.006699999999999998, -0.0072999999999999975, -9.99999999999994e-05, 0.0015000000000000013, 0.0010000000000000009, 0.0046, 0.0072000000000000015, 0.0097, 0.011000000000000001, 0.0114, 0.014, 0.015300000000000001], [-0.03610000000000001, -0.0272, -0.0224, -0.0234, -0.019100000000000002, -0.012399999999999998, -0.011400000000000004, -0.010100000000000001, -0.00030000000000000165, -0.004800000000000002, 0.0011999999999999997, 0.004399999999999998, 0.0060999999999999995, 0.009399999999999999, 0.0096, 0.011499999999999998, 0.011999999999999999, 0.013199999999999998, 0.014199999999999999, 0.014799999999999999], [-0.0358, -0.0343, -0.030000000000000002, -0.0229, -0.020599999999999997, -0.015200000000000002, -0.014099999999999998, -0.011199999999999998, -0.006999999999999999, -0.0014999999999999979, 0.00040000000000000105, 0.003300000000000001, 0.006600000000000002, 0.0075000000000000015, 0.008700000000000001, 0.0097, 0.011000000000000001, 0.011300000000000001, 0.012, 0.0126], [-0.041, -0.0364, -0.0327, -0.027500000000000004, -0.0199, -0.0187, -0.013, -0.009099999999999999, -0.003299999999999999, -0.0005999999999999998, 0.0010000000000000009, 0.0034000000000000002, 0.005900000000000001, 0.0068000000000000005, 0.007600000000000001, 0.008700000000000001, 0.0088, 0.0098, 0.010100000000000001, 0.0105], [-0.048799999999999996, -0.037, -0.031599999999999996, -0.027499999999999997, -0.0197, -0.0168, -0.012299999999999998, -0.0068000000000000005, -0.003299999999999999, -0.0023, 0.0008999999999999998, 0.0022000000000000006, 0.004200000000000001, 0.0055000000000000005, 0.0058000000000000005, 0.0067, 0.0071, 0.0073, 0.007600000000000001, 0.0078000000000000005], [-0.046799999999999994, -0.0382, -0.032600000000000004, -0.0282, -0.0222, -0.0169, -0.013500000000000002, -0.0074, -0.004399999999999999, -0.0017999999999999995, 0.00020000000000000052, 0.0018999999999999998, 0.0028000000000000004, 0.0034000000000000002, 0.0041, 0.0045, 0.0047, 0.0051, 0.0052, 0.0053]]}, {\"contours\": {\"z\": {\"highlightcolor\": \"limegreen\", \"project\": {\"z\": true}, \"show\": true, \"usecolormap\": true}}, \"showscale\": false, \"type\": \"surface\", \"x\": [0.0, 0.05, 0.1, 0.15, 0.2, 0.25, 0.3, 0.35, 0.4, 0.45, 0.5, 0.55, 0.6, 0.65, 0.7, 0.75, 0.8, 0.85, 0.9, 0.95], \"y\": [0.0, 0.1, 0.2, 0.3, 0.4, 0.5, 0.6, 0.7, 0.8, 0.9, 1.0], \"z\": [[0.0, 0.0, 0.0, 0.0, 0.0, 0.0, 0.0, 0.0, 0.0, 0.0, 0.0, 0.0, 0.0, 0.0, 0.0, 0.0, 0.0, 0.0, 0.0, 0.0], [0.0, 0.0, 0.0, 0.0, 0.0, 0.0, 0.0, 0.0, 0.0, 0.0, 0.0, 0.0, 0.0, 0.0, 0.0, 0.0, 0.0, 0.0, 0.0, 0.0], [0.0, 0.0, 0.0, 0.0, 0.0, 0.0, 0.0, 0.0, 0.0, 0.0, 0.0, 0.0, 0.0, 0.0, 0.0, 0.0, 0.0, 0.0, 0.0, 0.0], [0.0, 0.0, 0.0, 0.0, 0.0, 0.0, 0.0, 0.0, 0.0, 0.0, 0.0, 0.0, 0.0, 0.0, 0.0, 0.0, 0.0, 0.0, 0.0, 0.0], [0.0, 0.0, 0.0, 0.0, 0.0, 0.0, 0.0, 0.0, 0.0, 0.0, 0.0, 0.0, 0.0, 0.0, 0.0, 0.0, 0.0, 0.0, 0.0, 0.0], [0.0, 0.0, 0.0, 0.0, 0.0, 0.0, 0.0, 0.0, 0.0, 0.0, 0.0, 0.0, 0.0, 0.0, 0.0, 0.0, 0.0, 0.0, 0.0, 0.0], [0.0, 0.0, 0.0, 0.0, 0.0, 0.0, 0.0, 0.0, 0.0, 0.0, 0.0, 0.0, 0.0, 0.0, 0.0, 0.0, 0.0, 0.0, 0.0, 0.0], [0.0, 0.0, 0.0, 0.0, 0.0, 0.0, 0.0, 0.0, 0.0, 0.0, 0.0, 0.0, 0.0, 0.0, 0.0, 0.0, 0.0, 0.0, 0.0, 0.0], [0.0, 0.0, 0.0, 0.0, 0.0, 0.0, 0.0, 0.0, 0.0, 0.0, 0.0, 0.0, 0.0, 0.0, 0.0, 0.0, 0.0, 0.0, 0.0, 0.0], [0.0, 0.0, 0.0, 0.0, 0.0, 0.0, 0.0, 0.0, 0.0, 0.0, 0.0, 0.0, 0.0, 0.0, 0.0, 0.0, 0.0, 0.0, 0.0, 0.0], [0.0, 0.0, 0.0, 0.0, 0.0, 0.0, 0.0, 0.0, 0.0, 0.0, 0.0, 0.0, 0.0, 0.0, 0.0, 0.0, 0.0, 0.0, 0.0, 0.0]]}],                        {\"autosize\": true, \"height\": 600, \"margin\": {\"b\": 65, \"l\": 80, \"r\": 50, \"t\": 90}, \"scene\": {\"aspectratio\": {\"x\": 0.7, \"y\": 0.7, \"z\": 1.0}, \"camera\": {\"eye\": {\"x\": 2.0, \"y\": 0.88, \"z\": 0.64}}, \"xaxis\": {\"nticks\": 10, \"title\": {\"text\": \"Efficacy\"}}, \"yaxis\": {\"title\": {\"text\": \"Vaccination Budget\"}}, \"zaxis\": {\"nticks\": 10, \"title\": {\"text\": \"Net Payoff\"}}}, \"template\": {\"data\": {\"bar\": [{\"error_x\": {\"color\": \"#2a3f5f\"}, \"error_y\": {\"color\": \"#2a3f5f\"}, \"marker\": {\"line\": {\"color\": \"#E5ECF6\", \"width\": 0.5}}, \"type\": \"bar\"}], \"barpolar\": [{\"marker\": {\"line\": {\"color\": \"#E5ECF6\", \"width\": 0.5}}, \"type\": \"barpolar\"}], \"carpet\": [{\"aaxis\": {\"endlinecolor\": \"#2a3f5f\", \"gridcolor\": \"white\", \"linecolor\": \"white\", \"minorgridcolor\": \"white\", \"startlinecolor\": \"#2a3f5f\"}, \"baxis\": {\"endlinecolor\": \"#2a3f5f\", \"gridcolor\": \"white\", \"linecolor\": \"white\", \"minorgridcolor\": \"white\", \"startlinecolor\": \"#2a3f5f\"}, \"type\": \"carpet\"}], \"choropleth\": [{\"colorbar\": {\"outlinewidth\": 0, \"ticks\": \"\"}, \"type\": \"choropleth\"}], \"contour\": [{\"colorbar\": {\"outlinewidth\": 0, \"ticks\": \"\"}, \"colorscale\": [[0.0, \"#0d0887\"], [0.1111111111111111, \"#46039f\"], [0.2222222222222222, \"#7201a8\"], [0.3333333333333333, \"#9c179e\"], [0.4444444444444444, \"#bd3786\"], [0.5555555555555556, \"#d8576b\"], [0.6666666666666666, \"#ed7953\"], [0.7777777777777778, \"#fb9f3a\"], [0.8888888888888888, \"#fdca26\"], [1.0, \"#f0f921\"]], \"type\": \"contour\"}], \"contourcarpet\": [{\"colorbar\": {\"outlinewidth\": 0, \"ticks\": \"\"}, \"type\": \"contourcarpet\"}], \"heatmap\": [{\"colorbar\": {\"outlinewidth\": 0, \"ticks\": \"\"}, \"colorscale\": [[0.0, \"#0d0887\"], [0.1111111111111111, \"#46039f\"], [0.2222222222222222, \"#7201a8\"], [0.3333333333333333, \"#9c179e\"], [0.4444444444444444, \"#bd3786\"], [0.5555555555555556, \"#d8576b\"], [0.6666666666666666, \"#ed7953\"], [0.7777777777777778, \"#fb9f3a\"], [0.8888888888888888, \"#fdca26\"], [1.0, \"#f0f921\"]], \"type\": \"heatmap\"}], \"heatmapgl\": [{\"colorbar\": {\"outlinewidth\": 0, \"ticks\": \"\"}, \"colorscale\": [[0.0, \"#0d0887\"], [0.1111111111111111, \"#46039f\"], [0.2222222222222222, \"#7201a8\"], [0.3333333333333333, \"#9c179e\"], [0.4444444444444444, \"#bd3786\"], [0.5555555555555556, \"#d8576b\"], [0.6666666666666666, \"#ed7953\"], [0.7777777777777778, \"#fb9f3a\"], [0.8888888888888888, \"#fdca26\"], [1.0, \"#f0f921\"]], \"type\": \"heatmapgl\"}], \"histogram\": [{\"marker\": {\"colorbar\": {\"outlinewidth\": 0, \"ticks\": \"\"}}, \"type\": \"histogram\"}], \"histogram2d\": [{\"colorbar\": {\"outlinewidth\": 0, \"ticks\": \"\"}, \"colorscale\": [[0.0, \"#0d0887\"], [0.1111111111111111, \"#46039f\"], [0.2222222222222222, \"#7201a8\"], [0.3333333333333333, \"#9c179e\"], [0.4444444444444444, \"#bd3786\"], [0.5555555555555556, \"#d8576b\"], [0.6666666666666666, \"#ed7953\"], [0.7777777777777778, \"#fb9f3a\"], [0.8888888888888888, \"#fdca26\"], [1.0, \"#f0f921\"]], \"type\": \"histogram2d\"}], \"histogram2dcontour\": [{\"colorbar\": {\"outlinewidth\": 0, \"ticks\": \"\"}, \"colorscale\": [[0.0, \"#0d0887\"], [0.1111111111111111, \"#46039f\"], [0.2222222222222222, \"#7201a8\"], [0.3333333333333333, \"#9c179e\"], [0.4444444444444444, \"#bd3786\"], [0.5555555555555556, \"#d8576b\"], [0.6666666666666666, \"#ed7953\"], [0.7777777777777778, \"#fb9f3a\"], [0.8888888888888888, \"#fdca26\"], [1.0, \"#f0f921\"]], \"type\": \"histogram2dcontour\"}], \"mesh3d\": [{\"colorbar\": {\"outlinewidth\": 0, \"ticks\": \"\"}, \"type\": \"mesh3d\"}], \"parcoords\": [{\"line\": {\"colorbar\": {\"outlinewidth\": 0, \"ticks\": \"\"}}, \"type\": \"parcoords\"}], \"pie\": [{\"automargin\": true, \"type\": \"pie\"}], \"scatter\": [{\"marker\": {\"colorbar\": {\"outlinewidth\": 0, \"ticks\": \"\"}}, \"type\": \"scatter\"}], \"scatter3d\": [{\"line\": {\"colorbar\": {\"outlinewidth\": 0, \"ticks\": \"\"}}, \"marker\": {\"colorbar\": {\"outlinewidth\": 0, \"ticks\": \"\"}}, \"type\": \"scatter3d\"}], \"scattercarpet\": [{\"marker\": {\"colorbar\": {\"outlinewidth\": 0, \"ticks\": \"\"}}, \"type\": \"scattercarpet\"}], \"scattergeo\": [{\"marker\": {\"colorbar\": {\"outlinewidth\": 0, \"ticks\": \"\"}}, \"type\": \"scattergeo\"}], \"scattergl\": [{\"marker\": {\"colorbar\": {\"outlinewidth\": 0, \"ticks\": \"\"}}, \"type\": \"scattergl\"}], \"scattermapbox\": [{\"marker\": {\"colorbar\": {\"outlinewidth\": 0, \"ticks\": \"\"}}, \"type\": \"scattermapbox\"}], \"scatterpolar\": [{\"marker\": {\"colorbar\": {\"outlinewidth\": 0, \"ticks\": \"\"}}, \"type\": \"scatterpolar\"}], \"scatterpolargl\": [{\"marker\": {\"colorbar\": {\"outlinewidth\": 0, \"ticks\": \"\"}}, \"type\": \"scatterpolargl\"}], \"scatterternary\": [{\"marker\": {\"colorbar\": {\"outlinewidth\": 0, \"ticks\": \"\"}}, \"type\": \"scatterternary\"}], \"surface\": [{\"colorbar\": {\"outlinewidth\": 0, \"ticks\": \"\"}, \"colorscale\": [[0.0, \"#0d0887\"], [0.1111111111111111, \"#46039f\"], [0.2222222222222222, \"#7201a8\"], [0.3333333333333333, \"#9c179e\"], [0.4444444444444444, \"#bd3786\"], [0.5555555555555556, \"#d8576b\"], [0.6666666666666666, \"#ed7953\"], [0.7777777777777778, \"#fb9f3a\"], [0.8888888888888888, \"#fdca26\"], [1.0, \"#f0f921\"]], \"type\": \"surface\"}], \"table\": [{\"cells\": {\"fill\": {\"color\": \"#EBF0F8\"}, \"line\": {\"color\": \"white\"}}, \"header\": {\"fill\": {\"color\": \"#C8D4E3\"}, \"line\": {\"color\": \"white\"}}, \"type\": \"table\"}]}, \"layout\": {\"annotationdefaults\": {\"arrowcolor\": \"#2a3f5f\", \"arrowhead\": 0, \"arrowwidth\": 1}, \"autotypenumbers\": \"strict\", \"coloraxis\": {\"colorbar\": {\"outlinewidth\": 0, \"ticks\": \"\"}}, \"colorscale\": {\"diverging\": [[0, \"#8e0152\"], [0.1, \"#c51b7d\"], [0.2, \"#de77ae\"], [0.3, \"#f1b6da\"], [0.4, \"#fde0ef\"], [0.5, \"#f7f7f7\"], [0.6, \"#e6f5d0\"], [0.7, \"#b8e186\"], [0.8, \"#7fbc41\"], [0.9, \"#4d9221\"], [1, \"#276419\"]], \"sequential\": [[0.0, \"#0d0887\"], [0.1111111111111111, \"#46039f\"], [0.2222222222222222, \"#7201a8\"], [0.3333333333333333, \"#9c179e\"], [0.4444444444444444, \"#bd3786\"], [0.5555555555555556, \"#d8576b\"], [0.6666666666666666, \"#ed7953\"], [0.7777777777777778, \"#fb9f3a\"], [0.8888888888888888, \"#fdca26\"], [1.0, \"#f0f921\"]], \"sequentialminus\": [[0.0, \"#0d0887\"], [0.1111111111111111, \"#46039f\"], [0.2222222222222222, \"#7201a8\"], [0.3333333333333333, \"#9c179e\"], [0.4444444444444444, \"#bd3786\"], [0.5555555555555556, \"#d8576b\"], [0.6666666666666666, \"#ed7953\"], [0.7777777777777778, \"#fb9f3a\"], [0.8888888888888888, \"#fdca26\"], [1.0, \"#f0f921\"]]}, \"colorway\": [\"#636efa\", \"#EF553B\", \"#00cc96\", \"#ab63fa\", \"#FFA15A\", \"#19d3f3\", \"#FF6692\", \"#B6E880\", \"#FF97FF\", \"#FECB52\"], \"font\": {\"color\": \"#2a3f5f\"}, \"geo\": {\"bgcolor\": \"white\", \"lakecolor\": \"white\", \"landcolor\": \"#E5ECF6\", \"showlakes\": true, \"showland\": true, \"subunitcolor\": \"white\"}, \"hoverlabel\": {\"align\": \"left\"}, \"hovermode\": \"closest\", \"mapbox\": {\"style\": \"light\"}, \"paper_bgcolor\": \"white\", \"plot_bgcolor\": \"#E5ECF6\", \"polar\": {\"angularaxis\": {\"gridcolor\": \"white\", \"linecolor\": \"white\", \"ticks\": \"\"}, \"bgcolor\": \"#E5ECF6\", \"radialaxis\": {\"gridcolor\": \"white\", \"linecolor\": \"white\", \"ticks\": \"\"}}, \"scene\": {\"xaxis\": {\"backgroundcolor\": \"#E5ECF6\", \"gridcolor\": \"white\", \"gridwidth\": 2, \"linecolor\": \"white\", \"showbackground\": true, \"ticks\": \"\", \"zerolinecolor\": \"white\"}, \"yaxis\": {\"backgroundcolor\": \"#E5ECF6\", \"gridcolor\": \"white\", \"gridwidth\": 2, \"linecolor\": \"white\", \"showbackground\": true, \"ticks\": \"\", \"zerolinecolor\": \"white\"}, \"zaxis\": {\"backgroundcolor\": \"#E5ECF6\", \"gridcolor\": \"white\", \"gridwidth\": 2, \"linecolor\": \"white\", \"showbackground\": true, \"ticks\": \"\", \"zerolinecolor\": \"white\"}}, \"shapedefaults\": {\"line\": {\"color\": \"#2a3f5f\"}}, \"ternary\": {\"aaxis\": {\"gridcolor\": \"white\", \"linecolor\": \"white\", \"ticks\": \"\"}, \"baxis\": {\"gridcolor\": \"white\", \"linecolor\": \"white\", \"ticks\": \"\"}, \"bgcolor\": \"#E5ECF6\", \"caxis\": {\"gridcolor\": \"white\", \"linecolor\": \"white\", \"ticks\": \"\"}}, \"title\": {\"x\": 0.05}, \"xaxis\": {\"automargin\": true, \"gridcolor\": \"white\", \"linecolor\": \"white\", \"ticks\": \"\", \"title\": {\"standoff\": 15}, \"zerolinecolor\": \"white\", \"zerolinewidth\": 2}, \"yaxis\": {\"automargin\": true, \"gridcolor\": \"white\", \"linecolor\": \"white\", \"ticks\": \"\", \"title\": {\"standoff\": 15}, \"zerolinecolor\": \"white\", \"zerolinewidth\": 2}}}, \"title\": {\"text\": \"Vaccination Simulations Net Payoff (B = 0, %C = 1.0)\", \"x\": 0.5}, \"width\": 600},                        {\"responsive\": true}                    ).then(function(){\n",
       "                            \n",
       "var gd = document.getElementById('214e22db-b0f8-4809-b9e2-fe838df25d80');\n",
       "var x = new MutationObserver(function (mutations, observer) {{\n",
       "        var display = window.getComputedStyle(gd).display;\n",
       "        if (!display || display === 'none') {{\n",
       "            console.log([gd, 'removed!']);\n",
       "            Plotly.purge(gd);\n",
       "            observer.disconnect();\n",
       "        }}\n",
       "}});\n",
       "\n",
       "// Listen for the removal of the full notebook cells\n",
       "var notebookContainer = gd.closest('#notebook-container');\n",
       "if (notebookContainer) {{\n",
       "    x.observe(notebookContainer, {childList: true});\n",
       "}}\n",
       "\n",
       "// Listen for the clearing of the current output cell\n",
       "var outputEl = gd.closest('.output');\n",
       "if (outputEl) {{\n",
       "    x.observe(outputEl, {childList: true});\n",
       "}}\n",
       "\n",
       "                        })                };                });            </script>        </div>"
      ]
     },
     "metadata": {},
     "output_type": "display_data"
    }
   ],
   "source": [
    "xlabel = \"E\"\n",
    "ylabel = \"VB\"\n",
    "zlabel = \"%total\"\n",
    "filename = \"D:/Wholehouse_Simulations/Seed_0_C_10_Net_Payoff.png\"\n",
    "two_dose_efficacy = 0.95\n",
    "\n",
    "Net_Payoff(xlabel, ylabel, zlabel, two_dose_efficacy, filename, df_sim_means)"
   ]
  },
  {
   "cell_type": "code",
   "execution_count": null,
   "metadata": {},
   "outputs": [],
   "source": [
    "f1 = interpolate.interp2d(xvals_one, yvals_one, zvals_one, kind='cubic')\n",
    "f2 = interpolate.interp2d(xvals_two, yvals_two, zvals_two, kind='cubic')\n",
    "X = np.linspace(0, 1, 5000)\n",
    "Y = np.linspace(0, 1, 5000)\n",
    "\n",
    "fig = plt.figure(figsize = (8,8))\n",
    "ax = fig.gca(projection='3d')\n",
    "X = np.linspace(0, 1, 5000)\n",
    "Y = np.linspace(0, 1, 5000)\n",
    "\n",
    "scale_x = 1\n",
    "scale_y = 1\n",
    "scale_z = 0.0\n",
    "\n",
    "#ax.plot_surface(X, Y, f1(X, Y) - f2(X, Y), rstride=1, cstride=1, cmap = cm.viridis, antialiased=False, alpha = 0.5)\n",
    "#ax.plot_surface(X, Y, f1(X, Y), rstride=1, cstride=1, cmap = cm.viridis, antialiased=False, alpha = 0.5)\n",
    "#ax.plot_surface(X, Y, f2(X, Y), rstride=1, cstride=1, cmap = cm.viridis, antialiased=False, alpha = 0.5)\n",
    "#ax.contour(X, Y, f1(X, Y) - f2(X, Y), zdir='z', offset=-2, levels = [0])\n",
    "ax.contour(X, Y, f1(X, Y) - f2(X, Y), levels = [0])\n",
    "ax.set_zlim(zmin = -0.0)\n",
    "ax.set_zlim(zmax = 0.0)\n",
    "ax.get_proj = lambda: np.dot(Axes3D.get_proj(ax), np.diag([scale_x, scale_y, scale_z, 1]))\n",
    "ax.w_zaxis.line.set_lw(0.0)\n",
    "ax.set_zticks([])\n",
    "ax.set_xlabel(\"Efficacy\")\n",
    "ax.set_ylabel(\"Vaccination Budget\")\n",
    "ax.set_zlabel(\"Attack Rate\")\n",
    "ax.set_title(\"Contour Curve of Intersection between 1- and 2-Dose Strategies\")\n",
    "plt.savefig(\"D:/Wholehouse_Simulations/What_Did_I_Just_Do.png\")\n"
   ]
  },
  {
   "cell_type": "code",
   "execution_count": null,
   "metadata": {},
   "outputs": [],
   "source": [
    "# Do some basic statistical analysis\n",
    "df_stats = statistics(df_new, param, key, ylabel) \n",
    "df_stats"
   ]
  }
 ],
 "metadata": {
  "kernelspec": {
   "display_name": "Python 3",
   "language": "python",
   "name": "python3"
  },
  "language_info": {
   "codemirror_mode": {
    "name": "ipython",
    "version": 3
   },
   "file_extension": ".py",
   "mimetype": "text/x-python",
   "name": "python",
   "nbconvert_exporter": "python",
   "pygments_lexer": "ipython3",
   "version": "3.8.3"
  }
 },
 "nbformat": 4,
 "nbformat_minor": 4
}
